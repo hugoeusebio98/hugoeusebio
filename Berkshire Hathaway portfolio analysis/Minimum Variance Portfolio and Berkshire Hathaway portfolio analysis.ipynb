{
 "cells": [
  {
   "cell_type": "markdown",
   "id": "3c3b9891",
   "metadata": {},
   "source": [
    "# Asset Management"
   ]
  },
  {
   "cell_type": "markdown",
   "id": "28000bc6",
   "metadata": {},
   "source": [
    "## Question I."
   ]
  },
  {
   "cell_type": "markdown",
   "id": "8882137d",
   "metadata": {},
   "source": [
    "Robust Global Minimum Variance Portfolio\n",
    "\n",
    "Construct, back-test and evaluate a robust MV portfolio, built using a shrinkage estimator of the covariance matrix. Import the dataset \"ind30 m vw rets.csv\" of value-weighted 30 industry portfolios and use data from 1980.\n",
    "\n",
    "1. Define a function called weight gmv shrink, which returns the weights on a global minimum variance portfolio built using a covariance matrix.\n",
    "\n",
    "2. Bar plot the weights of the equally weighed portfolio and the weights of the R-GMV portfolio,\n",
    "and interpret the results.\n",
    "\n",
    "3. Define a backtest function to back test the equally weighted portfolio together with the R-\n",
    "GMV portfolio. Use estimation windows of 12months, 60months and 120months. Interpret the results."
   ]
  },
  {
   "cell_type": "code",
   "execution_count": 1,
   "id": "052f2806",
   "metadata": {},
   "outputs": [],
   "source": [
    "import pandas as pd\n",
    "import numpy as np"
   ]
  },
  {
   "cell_type": "code",
   "execution_count": 2,
   "id": "7adfad4f",
   "metadata": {},
   "outputs": [
    {
     "data": {
      "text/html": [
       "<div>\n",
       "<style scoped>\n",
       "    .dataframe tbody tr th:only-of-type {\n",
       "        vertical-align: middle;\n",
       "    }\n",
       "\n",
       "    .dataframe tbody tr th {\n",
       "        vertical-align: top;\n",
       "    }\n",
       "\n",
       "    .dataframe thead th {\n",
       "        text-align: right;\n",
       "    }\n",
       "</style>\n",
       "<table border=\"1\" class=\"dataframe\">\n",
       "  <thead>\n",
       "    <tr style=\"text-align: right;\">\n",
       "      <th></th>\n",
       "      <th>Food</th>\n",
       "      <th>Beer</th>\n",
       "      <th>Smoke</th>\n",
       "      <th>Games</th>\n",
       "      <th>Books</th>\n",
       "      <th>Hshld</th>\n",
       "      <th>Clths</th>\n",
       "      <th>Hlth</th>\n",
       "      <th>Chems</th>\n",
       "      <th>Txtls</th>\n",
       "      <th>...</th>\n",
       "      <th>Telcm</th>\n",
       "      <th>Servs</th>\n",
       "      <th>BusEq</th>\n",
       "      <th>Paper</th>\n",
       "      <th>Trans</th>\n",
       "      <th>Whlsl</th>\n",
       "      <th>Rtail</th>\n",
       "      <th>Meals</th>\n",
       "      <th>Fin</th>\n",
       "      <th>Other</th>\n",
       "    </tr>\n",
       "  </thead>\n",
       "  <tbody>\n",
       "    <tr>\n",
       "      <th>1980-01</th>\n",
       "      <td>0.0301</td>\n",
       "      <td>0.1104</td>\n",
       "      <td>-0.0063</td>\n",
       "      <td>0.0658</td>\n",
       "      <td>0.0415</td>\n",
       "      <td>0.0128</td>\n",
       "      <td>0.0112</td>\n",
       "      <td>-0.0129</td>\n",
       "      <td>0.0432</td>\n",
       "      <td>0.0514</td>\n",
       "      <td>...</td>\n",
       "      <td>-0.0205</td>\n",
       "      <td>0.0709</td>\n",
       "      <td>0.0729</td>\n",
       "      <td>0.0463</td>\n",
       "      <td>0.0956</td>\n",
       "      <td>0.0543</td>\n",
       "      <td>-0.0043</td>\n",
       "      <td>0.0300</td>\n",
       "      <td>0.0207</td>\n",
       "      <td>0.0779</td>\n",
       "    </tr>\n",
       "    <tr>\n",
       "      <th>1980-02</th>\n",
       "      <td>-0.0576</td>\n",
       "      <td>-0.0230</td>\n",
       "      <td>-0.0480</td>\n",
       "      <td>-0.0353</td>\n",
       "      <td>-0.0623</td>\n",
       "      <td>-0.0468</td>\n",
       "      <td>-0.0051</td>\n",
       "      <td>-0.0463</td>\n",
       "      <td>-0.0132</td>\n",
       "      <td>-0.0114</td>\n",
       "      <td>...</td>\n",
       "      <td>-0.0148</td>\n",
       "      <td>-0.0306</td>\n",
       "      <td>-0.0355</td>\n",
       "      <td>-0.0026</td>\n",
       "      <td>-0.0446</td>\n",
       "      <td>-0.0250</td>\n",
       "      <td>-0.0542</td>\n",
       "      <td>-0.0586</td>\n",
       "      <td>-0.0498</td>\n",
       "      <td>-0.0235</td>\n",
       "    </tr>\n",
       "    <tr>\n",
       "      <th>1980-03</th>\n",
       "      <td>-0.0824</td>\n",
       "      <td>-0.1343</td>\n",
       "      <td>-0.0071</td>\n",
       "      <td>-0.0874</td>\n",
       "      <td>-0.1195</td>\n",
       "      <td>-0.0444</td>\n",
       "      <td>-0.0543</td>\n",
       "      <td>-0.0284</td>\n",
       "      <td>-0.1199</td>\n",
       "      <td>-0.1453</td>\n",
       "      <td>...</td>\n",
       "      <td>-0.0264</td>\n",
       "      <td>-0.1538</td>\n",
       "      <td>-0.1267</td>\n",
       "      <td>-0.1083</td>\n",
       "      <td>-0.1399</td>\n",
       "      <td>-0.0985</td>\n",
       "      <td>-0.0783</td>\n",
       "      <td>-0.1295</td>\n",
       "      <td>-0.0883</td>\n",
       "      <td>-0.1581</td>\n",
       "    </tr>\n",
       "    <tr>\n",
       "      <th>1980-04</th>\n",
       "      <td>0.0746</td>\n",
       "      <td>0.0431</td>\n",
       "      <td>0.0957</td>\n",
       "      <td>0.0419</td>\n",
       "      <td>0.0308</td>\n",
       "      <td>0.0430</td>\n",
       "      <td>0.0239</td>\n",
       "      <td>0.0428</td>\n",
       "      <td>0.0502</td>\n",
       "      <td>0.0574</td>\n",
       "      <td>...</td>\n",
       "      <td>0.0730</td>\n",
       "      <td>0.0858</td>\n",
       "      <td>0.0054</td>\n",
       "      <td>0.0401</td>\n",
       "      <td>0.0034</td>\n",
       "      <td>-0.0174</td>\n",
       "      <td>0.0465</td>\n",
       "      <td>0.0785</td>\n",
       "      <td>0.0681</td>\n",
       "      <td>0.0733</td>\n",
       "    </tr>\n",
       "    <tr>\n",
       "      <th>1980-05</th>\n",
       "      <td>0.0786</td>\n",
       "      <td>0.0976</td>\n",
       "      <td>0.0895</td>\n",
       "      <td>0.0468</td>\n",
       "      <td>0.0964</td>\n",
       "      <td>0.0641</td>\n",
       "      <td>0.0145</td>\n",
       "      <td>0.0696</td>\n",
       "      <td>0.0758</td>\n",
       "      <td>0.0759</td>\n",
       "      <td>...</td>\n",
       "      <td>0.0502</td>\n",
       "      <td>0.0806</td>\n",
       "      <td>0.0480</td>\n",
       "      <td>0.0658</td>\n",
       "      <td>0.1140</td>\n",
       "      <td>0.1228</td>\n",
       "      <td>0.0955</td>\n",
       "      <td>0.1205</td>\n",
       "      <td>0.0781</td>\n",
       "      <td>0.0742</td>\n",
       "    </tr>\n",
       "  </tbody>\n",
       "</table>\n",
       "<p>5 rows × 30 columns</p>\n",
       "</div>"
      ],
      "text/plain": [
       "           Food    Beer   Smoke   Games   Books   Hshld   Clths    Hlth  \\\n",
       "1980-01  0.0301  0.1104 -0.0063  0.0658  0.0415  0.0128  0.0112 -0.0129   \n",
       "1980-02 -0.0576 -0.0230 -0.0480 -0.0353 -0.0623 -0.0468 -0.0051 -0.0463   \n",
       "1980-03 -0.0824 -0.1343 -0.0071 -0.0874 -0.1195 -0.0444 -0.0543 -0.0284   \n",
       "1980-04  0.0746  0.0431  0.0957  0.0419  0.0308  0.0430  0.0239  0.0428   \n",
       "1980-05  0.0786  0.0976  0.0895  0.0468  0.0964  0.0641  0.0145  0.0696   \n",
       "\n",
       "          Chems   Txtls  ...   Telcm   Servs   BusEq   Paper   Trans   Whlsl  \\\n",
       "1980-01  0.0432  0.0514  ... -0.0205  0.0709  0.0729  0.0463  0.0956  0.0543   \n",
       "1980-02 -0.0132 -0.0114  ... -0.0148 -0.0306 -0.0355 -0.0026 -0.0446 -0.0250   \n",
       "1980-03 -0.1199 -0.1453  ... -0.0264 -0.1538 -0.1267 -0.1083 -0.1399 -0.0985   \n",
       "1980-04  0.0502  0.0574  ...  0.0730  0.0858  0.0054  0.0401  0.0034 -0.0174   \n",
       "1980-05  0.0758  0.0759  ...  0.0502  0.0806  0.0480  0.0658  0.1140  0.1228   \n",
       "\n",
       "          Rtail   Meals     Fin   Other  \n",
       "1980-01 -0.0043  0.0300  0.0207  0.0779  \n",
       "1980-02 -0.0542 -0.0586 -0.0498 -0.0235  \n",
       "1980-03 -0.0783 -0.1295 -0.0883 -0.1581  \n",
       "1980-04  0.0465  0.0785  0.0681  0.0733  \n",
       "1980-05  0.0955  0.1205  0.0781  0.0742  \n",
       "\n",
       "[5 rows x 30 columns]"
      ]
     },
     "execution_count": 2,
     "metadata": {},
     "output_type": "execute_result"
    }
   ],
   "source": [
    "def get_ff30_returns():\n",
    "    ff30 = pd.read_csv(\"ind30_m_vw_rets.csv\", header=0, index_col=0)/100\n",
    "    ff30.index = pd.to_datetime(ff30.index, format=\"%Y%m\").to_period('M')\n",
    "    ff30.columns = ff30.columns.str.strip()\n",
    "    return ff30\n",
    "\n",
    "ff30 =  get_ff30_returns()\n",
    "ff30_1980 = ff30[\"1980\":]\n",
    "ff30_1980.head()"
   ]
  },
  {
   "cell_type": "code",
   "execution_count": 3,
   "id": "a4071ebe",
   "metadata": {},
   "outputs": [],
   "source": [
    "from scipy.optimize import minimize\n",
    "\n",
    "def annualize_rets(r, periods_per_year):\n",
    "    \"\"\"\n",
    "    Annualizes a set of returns r\n",
    "    \"\"\"\n",
    "    compounded_growth = (1+r).prod()\n",
    "    n_periods = r.shape[0]\n",
    "    return compounded_growth**(periods_per_year/n_periods)-1\n",
    "\n",
    "def get_rf():\n",
    "    \"\"\"\n",
    "    import the time series of the risk-free rate\n",
    "    \"\"\"\n",
    "    rf = pd.read_excel(\"rf.xlsx\", header=0, index_col=0)\n",
    "    rf.index = pd.to_datetime(rf.index, format=\"%Y%m\").to_period('M')\n",
    "    rf.columns = rf.columns.str.strip()\n",
    "    return rf\n",
    "\n",
    "def weight_ew(r,rf):\n",
    "    \"\"\"\n",
    "    Returns the weights of the EW portfolio based on the asset returns \"r\" as a DataFrame and the risk free rate \"rf\"\n",
    "    \"\"\"\n",
    "    n = len(r.columns)\n",
    "    return pd.Series(1/n, index=r.columns)\n",
    "\n",
    "def weight_msr (r, rf):\n",
    "    \"\"\"\n",
    "    Returns the weights of the portfolio based on the asset returns \"r\" as a DataFrame and the risk free rate \"rf\"\n",
    "    \"\"\"\n",
    "    n = len(r.columns)\n",
    "    er=r.mean()\n",
    "    cov=r.cov()\n",
    "    rff= rf.rf.values.mean()\n",
    "    return pd.Series(msr(rff, er, cov), index=r.columns)\n",
    "\n",
    "def sample_cov(r, **kwargs):\n",
    "    \"\"\"\n",
    "    Returns the sample covariance of the supplied returns\n",
    "    \"\"\"\n",
    "    return r.cov()\n",
    "\n",
    "def weight_gmv(r, rf):\n",
    "    \"\"\"\n",
    "    Returns the weights of the portfolio based on the asset returns \"r\" as a DataFrame and the risk free rate \"rf\"\n",
    "    \"\"\"\n",
    "    n = len(r.columns)\n",
    "    cov= sample_cov(r)\n",
    "    return pd.Series(gmv(cov), index=r.columns)\n",
    "\n",
    "def weight_gmv_cc(r, rf):\n",
    "    \"\"\"\n",
    "    Returns the weights of the portfolio based on the asset returns \"r\" as a DataFrame and the risk free rate \"rf\"\n",
    "    \"\"\"\n",
    "    n = len(r.columns)\n",
    "    cov=cc_cov(r)\n",
    "    return pd.Series(gmv(cov), index=r.columns)\n",
    "\n",
    "def backtest_ws(r, rf, estimation_window=60, weighting=weight_msr):\n",
    "    \"\"\"\n",
    "    Backtests a given weighting scheme, given some parameters:\n",
    "    r : asset returns to use to build the portfolio\n",
    "    estimation_window: the window to use to estimate parameters\n",
    "    weighting: the weighting scheme to use, must be a function that takes \"r\", and a variable number of keyword-value arguments\n",
    "    \"\"\"\n",
    "    n_periods = r.shape[0]\n",
    "    windows = [(start, start+estimation_window) for start in range(n_periods-estimation_window+1)]\n",
    "    # windows is a list of tuples which gives us the (integer) location of the start and stop (non inclusive)\n",
    "    # for each estimation window\n",
    "    weights = [weighting(r.iloc[win[0]:win[1]], rf.iloc[win[0]:win[1]]) for win in windows]\n",
    "    # List -> DataFrame\n",
    "    weights = pd.DataFrame(weights, index=r.iloc[estimation_window-1:].index, columns=r.columns)\n",
    "    # return weights\n",
    "    returns = (weights * r).sum(axis=\"columns\",  min_count=1) #mincount is to generate NAs if all inputs are NAs\n",
    "    return returns\n",
    "\n",
    "def weight_cw(r, rf):\n",
    "    \"\"\"\n",
    "    Returns the weights of the CW portfolio based on the time series of capweights\n",
    "    \"\"\"\n",
    "    #nfirms = get_ff30_nfirms()\n",
    "    #size = get_ff30_size()\n",
    "    #mkt_cap = nfirms * size\n",
    "    #total_mkt_cap = mkt_cap.sum(axis=1)\n",
    "    #cap_weight = mkt_cap.divide(total_mkt_cap, axis=\"index\")\n",
    "    return cap_weight.loc[r.index[1]]\n",
    "\n",
    "def gmv(cov):\n",
    "    \"\"\"\n",
    "    Returns the weights of the Global Minimum Volatility portfolio\n",
    "    given a covariance matrix\n",
    "    \"\"\"\n",
    "    n = cov.shape[0]\n",
    "    return msr(0, np.repeat(1, n), cov)\n",
    "\n",
    "def msr(riskfree_rate, er, cov):\n",
    "    \"\"\"\n",
    "    Returns the weights of the portfolio that gives you the maximum sharpe ratio\n",
    "    given the riskfree rate and expected returns and a covariance matrix\n",
    "    \"\"\"\n",
    "    n = er.shape[0]\n",
    "    init_guess = np.repeat(1/n, n)\n",
    "    bounds = ((0.0, 1.0),) * n # an N-tuple of 2-tuples!\n",
    "    # construct the constraints\n",
    "    weights_sum_to_1 = {'type': 'eq',\n",
    "                        'fun': lambda weights: np.sum(weights) - 1\n",
    "    }\n",
    "    def neg_sharpe(weights, riskfree_rate, er, cov):\n",
    "        \"\"\"\n",
    "        Returns the negative of the sharpe ratio\n",
    "        of the given portfolio\n",
    "        \"\"\"\n",
    "        r = portfolio_return(weights, er)\n",
    "        vol = portfolio_vol(weights, cov)\n",
    "        return -(r - riskfree_rate)/vol\n",
    "    \n",
    "    weights = minimize(neg_sharpe, init_guess,\n",
    "                       args=(riskfree_rate, er, cov), method='SLSQP',\n",
    "                       options={'disp': False},\n",
    "                       constraints=(weights_sum_to_1,),\n",
    "                       bounds=bounds)\n",
    "    return weights.x\n",
    "\n",
    "def portfolio_return(weights, returns):\n",
    "    \"\"\"\n",
    "    Computes the return on a portfolio from constituent returns and weights\n",
    "    weights are a numpy array or Nx1 matrix and returns are a numpy array or Nx1 matrix\n",
    "    \"\"\"\n",
    "    return weights.T @ returns\n",
    "\n",
    "def portfolio_vol(weights, covmat):\n",
    "    \"\"\"\n",
    "    Computes the vol of a portfolio from a covariance matrix and constituent weights\n",
    "    weights are a numpy array or N x 1 maxtrix and covmat is an N x N matrix\n",
    "    \"\"\"\n",
    "    return (weights.T @ covmat @ weights)**0.5\n",
    "\n",
    "def weight_gmv(r, rf):\n",
    "    \"\"\"\n",
    "    Returns the weights of the portfolio based on the asset returns \"r\" as a DataFrame and the risk free rate \"rf\"\n",
    "    \"\"\"\n",
    "    n = len(r.columns)\n",
    "    cov= r.cov(r)\n",
    "    return pd.Series(gmv(cov), index=r.columns)\n",
    "\n",
    "def cc_cov(r, **kwargs):\n",
    "    \"\"\"\n",
    "    Estimates a covariance matrix by using the Elton/Gruber Constant Correlation model\n",
    "    \"\"\"\n",
    "    rhos = r.corr()\n",
    "    n = rhos.shape[0]\n",
    "    # this is a symmetric matrix with diagonals all 1 - so the mean correlation is ...\n",
    "    rho_bar = (rhos.values.sum()-n)/(n*(n-1))\n",
    "    ccor = np.full_like(rhos, rho_bar)\n",
    "    np.fill_diagonal(ccor, 1.)\n",
    "    sd = r.std()\n",
    "    ccov = ccor * np.outer(sd, sd)\n",
    "    return pd.DataFrame(ccov, index=r.columns, columns=r.columns)\n",
    "\n",
    "def shrinkage_cov(r, delta=0.5, **kwargs):##Covariance estimator that shrinks between the Sample Covariance and the Constant Correlation Estimators\n",
    "    \n",
    "    prior = cc_cov(r, **kwargs)\n",
    "    sample = sample_cov(r, **kwargs)\n",
    "    return delta*prior + (1-delta)*sample"
   ]
  },
  {
   "cell_type": "code",
   "execution_count": 4,
   "id": "8f9eed2b",
   "metadata": {},
   "outputs": [
    {
     "data": {
      "text/plain": [
       "Food     2.022872e-01\n",
       "Beer     5.425414e-04\n",
       "Smoke    7.378617e-13\n",
       "Games    5.390155e-13\n",
       "Books    0.000000e+00\n",
       "Hshld    1.885808e-01\n",
       "Clths    0.000000e+00\n",
       "Hlth     8.306223e-02\n",
       "Chems    0.000000e+00\n",
       "Txtls    1.281580e-12\n",
       "Cnstr    4.823388e-13\n",
       "Steel    1.247737e-12\n",
       "FabPr    5.755868e-14\n",
       "ElcEq    3.996551e-13\n",
       "Autos    7.705368e-13\n",
       "Carry    1.473576e-13\n",
       "Mines    3.571178e-13\n",
       "Coal     3.980509e-12\n",
       "Oil      0.000000e+00\n",
       "Util     4.531945e-01\n",
       "Telcm    6.630726e-02\n",
       "Servs    0.000000e+00\n",
       "BusEq    0.000000e+00\n",
       "Paper    0.000000e+00\n",
       "Trans    0.000000e+00\n",
       "Whlsl    0.000000e+00\n",
       "Rtail    0.000000e+00\n",
       "Meals    6.025478e-03\n",
       "Fin      0.000000e+00\n",
       "Other    0.000000e+00\n",
       "dtype: float64"
      ]
     },
     "execution_count": 4,
     "metadata": {},
     "output_type": "execute_result"
    }
   ],
   "source": [
    "def weight_gmv_shrink(r, delta=0.5, **kwargs):\n",
    "    n = len(r.columns)\n",
    "    cov=shrinkage_cov(r)\n",
    "    return pd.Series(gmv(cov), index=r.columns)\n",
    "\n",
    "weight_gmv_shrink(ff30_1980)"
   ]
  },
  {
   "cell_type": "code",
   "execution_count": 5,
   "id": "dc24ac38",
   "metadata": {},
   "outputs": [
    {
     "data": {
      "image/png": "[encoded data removed]",
      "text/plain": [
       "<Figure size 1080x648 with 1 Axes>"
      ]
     },
     "metadata": {
      "needs_background": "light"
     },
     "output_type": "display_data"
    }
   ],
   "source": [
    "wts = pd.DataFrame({\n",
    "    \"EW\": weight_ew(ff30_1980, get_rf()),\n",
    "    \"R_GMV\": weight_gmv_shrink(ff30_1980,  get_rf()) })\n",
    "\n",
    "wts.T.plot.bar(stacked=True, figsize=(15,9), legend=True);"
   ]
  },
  {
   "cell_type": "code",
   "execution_count": 6,
   "id": "ad22965b",
   "metadata": {},
   "outputs": [
    {
     "data": {
      "text/plain": [
       "Util     0.453195\n",
       "Food     0.202287\n",
       "Hshld    0.188581\n",
       "Hlth     0.083062\n",
       "Telcm    0.066307\n",
       "Meals    0.006025\n",
       "Beer     0.000543\n",
       "Name: R_GMV, dtype: float64"
      ]
     },
     "execution_count": 6,
     "metadata": {},
     "output_type": "execute_result"
    }
   ],
   "source": [
    "wts[\"R_GMV\"].sort_values(ascending=False).head(7) # just to check industry weights"
   ]
  },
  {
   "cell_type": "markdown",
   "id": "e7c369b7",
   "metadata": {},
   "source": [
    "The Equally weighted plot bears no suprises: every one of the 30 industries has the same weight in the portfolio (3.33%). \n",
    "    \n",
    "Regarding the Robust Global Minimum Variance portfolio, the standout industry is utilities, with approximately 45% of the total weight of the portfolio.       \n",
    "\n",
    "After utilities, and very close to each other in terms of portfolio weights, are the food and household insdustries with 20% and 19% respectively.  \n",
    "\n",
    "The health industry and the telecomunications industry, with 8% and 7% respectively, are also easy to spot on the plot.\n",
    "\n",
    "The remaining industries in the R_GMV portfolio have such low weights (<1%) that are impossible to distinguish in the plot bar.\n",
    "\n",
    "Ultimately, to obtain a Rpbust Global Minimum Variance portfolio computed with a shrinkage estimator, we went from a portfolio with 30 industries, to one where the bolk of the portfolio weight is taken up by just 5 industries."
   ]
  },
  {
   "cell_type": "code",
   "execution_count": 7,
   "id": "4f142b3f",
   "metadata": {},
   "outputs": [],
   "source": [
    "ew_ret12 = backtest_ws(ff30_1980, get_rf(), estimation_window=12, weighting= weight_ew)\n",
    "ew_ret60 = backtest_ws(ff30_1980, get_rf(), estimation_window=60, weighting= weight_ew)\n",
    "ew_ret120 = backtest_ws(ff30_1980, get_rf(), estimation_window=120, weighting= weight_ew)\n",
    "\n",
    "r_gmv_ret12 = backtest_ws(ff30_1980, get_rf(), estimation_window=12, weighting= weight_gmv_shrink)\n",
    "r_gmv_ret60 = backtest_ws(ff30_1980, get_rf(), estimation_window=60, weighting= weight_gmv_shrink)\n",
    "r_gmv_ret120 = backtest_ws(ff30_1980, get_rf(), estimation_window=120, weighting= weight_gmv_shrink)"
   ]
  },
  {
   "cell_type": "code",
   "execution_count": 8,
   "id": "fdafcaf1",
   "metadata": {},
   "outputs": [
    {
     "data": {
      "text/plain": [
       "<AxesSubplot:title={'center':'EW & R-GMV Portfolios'}>"
      ]
     },
     "execution_count": 8,
     "metadata": {},
     "output_type": "execute_result"
    },
    {
     "data": {
      "image/png": "[encoded data removed]",
      "text/plain": [
       "<Figure size 1296x648 with 1 Axes>"
      ]
     },
     "metadata": {
      "needs_background": "light"
     },
     "output_type": "display_data"
    }
   ],
   "source": [
    "btr = pd.DataFrame({\"EW12\": ew_ret12,  \"EW60\": ew_ret60, \"EW120\": ew_ret120,\n",
    "                    \"R-GMV12\": r_gmv_ret12, \"R-GMV60\": r_gmv_ret60, \"R-GMV120\": r_gmv_ret120 })\n",
    "\n",
    "(1+btr).cumprod().plot(figsize=(18,9), title=\"EW & R-GMV Portfolios\")"
   ]
  },
  {
   "cell_type": "markdown",
   "id": "de76d0ea",
   "metadata": {},
   "source": [
    "##### Interpretation:"
   ]
  },
  {
   "cell_type": "markdown",
   "id": "25a11271",
   "metadata": {},
   "source": [
    "From the plot above we can observe that best performing portfolio was the robust global minimum variance portfolio with an estimation windows of 12 months. In fact, the top 2 portfolios were the ones with the smallest estimation windows: R-GMV 12 months and EW 12 months.\n",
    "\n",
    "At the bottom of the graph we see the robust global minimum variance portfolio with an estimation windows of 120 months. We easly conclude that the R-GMV portfolio has both the best performing and the worst performing portfolio.\n",
    "\n",
    "Overall, we come to the conclusion that a bigger estimation windows leads to a worst performance in both portfolios, and a shorter estimation windows leads to a better performing porfolio. This is likely because our dataset contains noise that it is cleared out when we increase the estimation windows."
   ]
  },
  {
   "cell_type": "markdown",
   "id": "9b8d6b35",
   "metadata": {},
   "source": [
    "## Question II."
   ]
  },
  {
   "cell_type": "markdown",
   "id": "1d3f6377",
   "metadata": {},
   "source": [
    "Performance analysis on the returns on the Berkshire Hathaway portfolio, using the CAPM and the FF3M model then as factor benchmarks.\n",
    "\n",
    "Import the file \"brka d ret.csv\" of daily returns on the Berkshire Hathaway portfolio (convert\n",
    "them to monthly returns) and import the Fama-French Research Factor Monthly Dataset \"F-F Research Data Factors m.csv\". Consider the time periods 1990−2003 and 2003−2018, as well as of the full sample 1990−2018.\n",
    "For each of these three cases, compute α, σT E and its corresponding information ratio IR, relative\n",
    "to the two benchmarks. Discuss and comment the results obtained."
   ]
  },
  {
   "cell_type": "code",
   "execution_count": 4,
   "id": "873f58a0",
   "metadata": {},
   "outputs": [
    {
     "data": {
      "text/html": [
       "<div>\n",
       "<style scoped>\n",
       "    .dataframe tbody tr th:only-of-type {\n",
       "        vertical-align: middle;\n",
       "    }\n",
       "\n",
       "    .dataframe tbody tr th {\n",
       "        vertical-align: top;\n",
       "    }\n",
       "\n",
       "    .dataframe thead th {\n",
       "        text-align: right;\n",
       "    }\n",
       "</style>\n",
       "<table border=\"1\" class=\"dataframe\">\n",
       "  <thead>\n",
       "    <tr style=\"text-align: right;\">\n",
       "      <th></th>\n",
       "      <th>BRKA</th>\n",
       "    </tr>\n",
       "    <tr>\n",
       "      <th>DATE</th>\n",
       "      <th></th>\n",
       "    </tr>\n",
       "  </thead>\n",
       "  <tbody>\n",
       "    <tr>\n",
       "      <th>1990-01</th>\n",
       "      <td>-0.140634</td>\n",
       "    </tr>\n",
       "    <tr>\n",
       "      <th>1990-02</th>\n",
       "      <td>-0.030852</td>\n",
       "    </tr>\n",
       "    <tr>\n",
       "      <th>1990-03</th>\n",
       "      <td>-0.069204</td>\n",
       "    </tr>\n",
       "    <tr>\n",
       "      <th>1990-04</th>\n",
       "      <td>-0.003717</td>\n",
       "    </tr>\n",
       "    <tr>\n",
       "      <th>1990-05</th>\n",
       "      <td>0.067164</td>\n",
       "    </tr>\n",
       "  </tbody>\n",
       "</table>\n",
       "</div>"
      ],
      "text/plain": [
       "             BRKA\n",
       "DATE             \n",
       "1990-01 -0.140634\n",
       "1990-02 -0.030852\n",
       "1990-03 -0.069204\n",
       "1990-04 -0.003717\n",
       "1990-05  0.067164"
      ]
     },
     "execution_count": 4,
     "metadata": {},
     "output_type": "execute_result"
    }
   ],
   "source": [
    "brka_d = pd.read_csv(\"brka_d_ret.csv\", parse_dates=True, index_col=0)\n",
    "\n",
    "def compound(r):                                     \n",
    "    return np.expm1(np.log1p(r).sum())\n",
    "\n",
    "brka_m = brka_d.resample('M').apply(compound).to_period('M')\n",
    "brka_m.head()"
   ]
  },
  {
   "cell_type": "code",
   "execution_count": 5,
   "id": "59cc7c0f",
   "metadata": {},
   "outputs": [
    {
     "data": {
      "text/html": [
       "<div>\n",
       "<style scoped>\n",
       "    .dataframe tbody tr th:only-of-type {\n",
       "        vertical-align: middle;\n",
       "    }\n",
       "\n",
       "    .dataframe tbody tr th {\n",
       "        vertical-align: top;\n",
       "    }\n",
       "\n",
       "    .dataframe thead th {\n",
       "        text-align: right;\n",
       "    }\n",
       "</style>\n",
       "<table border=\"1\" class=\"dataframe\">\n",
       "  <thead>\n",
       "    <tr style=\"text-align: right;\">\n",
       "      <th></th>\n",
       "      <th>Mkt-RF</th>\n",
       "      <th>SMB</th>\n",
       "      <th>HML</th>\n",
       "      <th>RF</th>\n",
       "    </tr>\n",
       "  </thead>\n",
       "  <tbody>\n",
       "    <tr>\n",
       "      <th>1926-07</th>\n",
       "      <td>0.0296</td>\n",
       "      <td>-0.0230</td>\n",
       "      <td>-0.0287</td>\n",
       "      <td>0.0022</td>\n",
       "    </tr>\n",
       "    <tr>\n",
       "      <th>1926-08</th>\n",
       "      <td>0.0264</td>\n",
       "      <td>-0.0140</td>\n",
       "      <td>0.0419</td>\n",
       "      <td>0.0025</td>\n",
       "    </tr>\n",
       "    <tr>\n",
       "      <th>1926-09</th>\n",
       "      <td>0.0036</td>\n",
       "      <td>-0.0132</td>\n",
       "      <td>0.0001</td>\n",
       "      <td>0.0023</td>\n",
       "    </tr>\n",
       "    <tr>\n",
       "      <th>1926-10</th>\n",
       "      <td>-0.0324</td>\n",
       "      <td>0.0004</td>\n",
       "      <td>0.0051</td>\n",
       "      <td>0.0032</td>\n",
       "    </tr>\n",
       "    <tr>\n",
       "      <th>1926-11</th>\n",
       "      <td>0.0253</td>\n",
       "      <td>-0.0020</td>\n",
       "      <td>-0.0035</td>\n",
       "      <td>0.0031</td>\n",
       "    </tr>\n",
       "  </tbody>\n",
       "</table>\n",
       "</div>"
      ],
      "text/plain": [
       "         Mkt-RF     SMB     HML      RF\n",
       "1926-07  0.0296 -0.0230 -0.0287  0.0022\n",
       "1926-08  0.0264 -0.0140  0.0419  0.0025\n",
       "1926-09  0.0036 -0.0132  0.0001  0.0023\n",
       "1926-10 -0.0324  0.0004  0.0051  0.0032\n",
       "1926-11  0.0253 -0.0020 -0.0035  0.0031"
      ]
     },
     "execution_count": 5,
     "metadata": {},
     "output_type": "execute_result"
    }
   ],
   "source": [
    "def get_fff_returns():                                              \n",
    "    rets = pd.read_csv(\"F-F_Research_Data_Factors_m.csv\",\n",
    "                       header=0, index_col=0, na_values=-99.99)/100\n",
    "    rets.index = pd.to_datetime(rets.index, format=\"%Y%m\").to_period('M')\n",
    "    return rets\n",
    "\n",
    "fff = get_fff_returns()\n",
    "fff.head()"
   ]
  },
  {
   "cell_type": "markdown",
   "id": "1965eb35",
   "metadata": {},
   "source": [
    "#### The CAPM Benchmark"
   ]
  },
  {
   "cell_type": "markdown",
   "id": "de7429f0",
   "metadata": {},
   "source": [
    "##### Period of 1990-2003"
   ]
  },
  {
   "cell_type": "code",
   "execution_count": 6,
   "id": "601f73c7",
   "metadata": {},
   "outputs": [],
   "source": [
    "import statsmodels.api as sm\n",
    "\n",
    "brka_excess90_03 = brka_m.loc[\"1990\":\"2002-12\",['BRKA']] - fff.loc[\"1990\":\"2002-12\", ['RF']].values\n",
    "mkt_excess90_03 = fff.loc[\"1990\":\"2002-12\",['Mkt-RF']]\n",
    "exp_var90_03 = mkt_excess90_03.copy()\n",
    "exp_var90_03[\"Constant\"] = 1\n",
    "lm90_03 = sm.OLS(brka_excess90_03, exp_var90_03).fit()\n",
    "\n",
    "replicating_port90_03 = brka_m[\"1990\": \"2002-12\"]['BRKA'].values - lm90_03.params[0]*(fff[\"1990\":\"2002-12\"]['Mkt-RF'].values + fff[\"1990\":\"2002-12\"]['RF'].values) -(1-lm90_03.params[0])*fff[\"1990\":\"2002-12\"]['RF'].values"
   ]
  },
  {
   "cell_type": "code",
   "execution_count": 7,
   "id": "ba047dff",
   "metadata": {},
   "outputs": [],
   "source": [
    "te90_03 = replicating_port90_03.std()\n",
    "te_ann90_03 = te90_03*np.sqrt(12)\n",
    "\n",
    "alpha90_03 = replicating_port90_03.mean()\n",
    "alpha_ann90_03 = (1 + alpha90_03)**12 - 1\n",
    "\n",
    "IR_ann90_03 = alpha_ann90_03 / te_ann90_03"
   ]
  },
  {
   "cell_type": "markdown",
   "id": "7d552d60",
   "metadata": {},
   "source": [
    "##### Interpretation of results"
   ]
  },
  {
   "cell_type": "code",
   "execution_count": 13,
   "id": "01728a78",
   "metadata": {},
   "outputs": [
    {
     "name": "stdout",
     "output_type": "stream",
     "text": [
      "                            OLS Regression Results                            \n",
      "==============================================================================\n",
      "Dep. Variable:                   BRKA   R-squared:                       0.140\n",
      "Model:                            OLS   Adj. R-squared:                  0.134\n",
      "Method:                 Least Squares   F-statistic:                     25.06\n",
      "Date:                Fri, 13 May 2022   Prob (F-statistic):           1.50e-06\n",
      "Time:                        20:54:45   Log-Likelihood:                 206.98\n",
      "No. Observations:                 156   AIC:                            -410.0\n",
      "Df Residuals:                     154   BIC:                            -403.9\n",
      "Df Model:                           1                                         \n",
      "Covariance Type:            nonrobust                                         \n",
      "==============================================================================\n",
      "                 coef    std err          t      P>|t|      [0.025      0.975]\n",
      "------------------------------------------------------------------------------\n",
      "Mkt-RF         0.5734      0.115      5.006      0.000       0.347       0.800\n",
      "Constant       0.0095      0.005      1.828      0.070      -0.001       0.020\n",
      "==============================================================================\n",
      "Omnibus:                       17.352   Durbin-Watson:                   2.111\n",
      "Prob(Omnibus):                  0.000   Jarque-Bera (JB):               28.622\n",
      "Skew:                           0.566   Prob(JB):                     6.09e-07\n",
      "Kurtosis:                       4.766   Cond. No.                         22.1\n",
      "==============================================================================\n",
      "\n",
      "Notes:\n",
      "[1] Standard Errors assume that the covariance matrix of the errors is correctly specified.\n",
      "\n",
      "1990-2003 Annualized Alpha: 0.12025281623486417\n",
      "1990-2003 Annualized Tracking Error: 0.2223990019435926\n",
      "2003-2018 Annualized Information Ratio: 0.5407075354832935\n"
     ]
    }
   ],
   "source": [
    "print(lm90_03.summary())\n",
    "print()\n",
    "print(\"1990-2003 Annualized Alpha:\", alpha_ann90_03)\n",
    "print(\"1990-2003 Annualized Tracking Error:\", te_ann90_03)\n",
    "print(\"2003-2018 Annualized Information Ratio:\", IR_ann90_03)"
   ]
  },
  {
   "cell_type": "markdown",
   "id": "0b18b0ed",
   "metadata": {},
   "source": [
    "The results imply that the CAPM benchmark consists of 57 cents in the market and 43 cents in T-bills. \n",
    "In terms of the alpha, the Berkshire Hataway is outpeforming the benchmark around 12% per year, which is quite an impressive feat. However, it is important to point out that when we look at the regression parameters, the degree of statistical significance is not very high.\n",
    "\n",
    "The industry says that a benchmark is not considered inappropriate for performance analysis of a fund if its annualized tracking error is below 6%. In this case the annualized tracking error is around 22%, which suggests that the market is not appropriate, and that the fund may actually load on additional risk factors which would explain the relatively high alpha value obtained.\n",
    "\n",
    "Regarding the information ratio, the annualized value for the period of 1990 to 2003 sits roughly at 0.54, which can be considered good. This means that the portfolio produced excess returns for a sufficiently long-time and that it turned out to be a good investment."
   ]
  },
  {
   "cell_type": "markdown",
   "id": "37bfd685",
   "metadata": {},
   "source": [
    "##### Period of 2003-2018"
   ]
  },
  {
   "cell_type": "code",
   "execution_count": 14,
   "id": "dc519dd8",
   "metadata": {},
   "outputs": [],
   "source": [
    "brka_excess03_18 = brka_m.loc[\"2003-01\":\"2018-12\",['BRKA']] - fff.loc[\"2003-01\":\"2018-12\", ['RF']].values\n",
    "mkt_excess03_18 = fff.loc[\"2003-01\":\"2018-12\",['Mkt-RF']]\n",
    "exp_var03_18 = mkt_excess03_18.copy()\n",
    "exp_var03_18[\"Constant\"] = 1\n",
    "lm03_18 = sm.OLS(brka_excess03_18, exp_var03_18).fit()\n",
    "\n",
    "replicating_port03_18 = brka_m[\"2003-01\":\"2018-12\"]['BRKA'].values - lm03_18.params[0]*(fff[\"2003-01\":\"2018-12\"]['Mkt-RF'].values + fff[\"2003-01\":\"2018-12\"]['RF'].values) -(1-lm03_18.params[0])*fff[\"2003-01\":\"2018-12\"]['RF'].values"
   ]
  },
  {
   "cell_type": "code",
   "execution_count": 15,
   "id": "0236bde9",
   "metadata": {},
   "outputs": [],
   "source": [
    "te03_18 = replicating_port03_18.std()\n",
    "te_ann03_18 = te03_18*np.sqrt(12)\n",
    "\n",
    "alpha03_18 = replicating_port03_18.mean()\n",
    "alpha_ann03_18 = (1 + alpha03_18)**12 - 1\n",
    "\n",
    "IR03_18 = alpha03_18/te03_18\n",
    "IR_ann03_18 = ((1+alpha03_18)**12 - 1)/(te03_18*np.sqrt(12))"
   ]
  },
  {
   "cell_type": "markdown",
   "id": "cbef1121",
   "metadata": {},
   "source": [
    "##### Interpretation of results"
   ]
  },
  {
   "cell_type": "code",
   "execution_count": 16,
   "id": "e5ec3ab0",
   "metadata": {},
   "outputs": [
    {
     "name": "stdout",
     "output_type": "stream",
     "text": [
      "                            OLS Regression Results                            \n",
      "==============================================================================\n",
      "Dep. Variable:                   BRKA   R-squared:                       0.264\n",
      "Model:                            OLS   Adj. R-squared:                  0.260\n",
      "Method:                 Least Squares   F-statistic:                     68.12\n",
      "Date:                Fri, 13 May 2022   Prob (F-statistic):           2.54e-14\n",
      "Time:                        20:54:46   Log-Likelihood:                 350.22\n",
      "No. Observations:                 192   AIC:                            -696.4\n",
      "Df Residuals:                     190   BIC:                            -689.9\n",
      "Df Model:                           1                                         \n",
      "Covariance Type:            nonrobust                                         \n",
      "==============================================================================\n",
      "                 coef    std err          t      P>|t|      [0.025      0.975]\n",
      "------------------------------------------------------------------------------\n",
      "Mkt-RF         0.5873      0.071      8.253      0.000       0.447       0.728\n",
      "Constant       0.0032      0.003      1.120      0.264      -0.002       0.009\n",
      "==============================================================================\n",
      "Omnibus:                       59.255   Durbin-Watson:                   1.984\n",
      "Prob(Omnibus):                  0.000   Jarque-Bera (JB):              172.730\n",
      "Skew:                           1.274   Prob(JB):                     3.11e-38\n",
      "Kurtosis:                       6.886   Cond. No.                         25.1\n",
      "==============================================================================\n",
      "\n",
      "Notes:\n",
      "[1] Standard Errors assume that the covariance matrix of the errors is correctly specified.\n",
      "\n",
      "2003-2018 Annualized Alpha: 0.03939240946299982\n",
      "2003-2018 Annualized Tracking Error: 0.13525768346225195\n",
      "2003-2018 Annualized Information Ratio: 0.2912397170693342\n"
     ]
    }
   ],
   "source": [
    "print(lm03_18.summary())\n",
    "print()\n",
    "print(\"2003-2018 Annualized Alpha:\", alpha_ann03_18)\n",
    "print(\"2003-2018 Annualized Tracking Error:\", te_ann03_18)\n",
    "print(\"2003-2018 Annualized Information Ratio:\", IR_ann03_18) "
   ]
  },
  {
   "cell_type": "markdown",
   "id": "fd74330c",
   "metadata": {},
   "source": [
    "The regression indicates that the value invested in the market from the period of 2003 to 2018 as increased from 57 cents to almost 59 cents (subsequently, the amount in T-bills as decreased to 41 cents). Our alpha sees a significant decrease, now siting at around 4% (but just like the previous period, this value is not statistical significant).\n",
    "\n",
    "Another metric decreased is the tracking error, with an annualized value of 13.5%. This is still above the 6% threshold, and therefore is still considered a bad tracking error.\n",
    "\n",
    "The information ratio also decreases to 0.29 which is substandard. It means that the portfolio could not produce excess returns for a sufficiently long-time and that it may not be a good investment.\n",
    "\n",
    "Overall, this period performed poorly when compared to the time frame of 1990-2003. Although our tracking error decreased (which is a good thing because it means that the portfolio is more closely following the benchmark), the information error also saw a huge decrease, impliyng that the outperformance per unit of tracking error was lower.\n"
   ]
  },
  {
   "cell_type": "markdown",
   "id": "c31c5101",
   "metadata": {},
   "source": [
    "##### Period 1990-2018"
   ]
  },
  {
   "cell_type": "code",
   "execution_count": 17,
   "id": "6063b4a0",
   "metadata": {},
   "outputs": [],
   "source": [
    "brka_excess90_18 = brka_m.loc[\"1990-01\":\"2018-12\",['BRKA']] - fff.loc[\"1990-01\":\"2018-12\", ['RF']].values\n",
    "mkt_excess90_18 = fff.loc[\"1990-01\":\"2018-12\",['Mkt-RF']]\n",
    "exp_var90_18 = mkt_excess90_18.copy()\n",
    "exp_var90_18[\"Constant\"] = 1\n",
    "lm90_18 = sm.OLS(brka_excess90_18, exp_var90_18).fit()\n",
    "\n",
    "replicating_port90_18 = brka_m[\"1990-01\":\"2018-12\"]['BRKA'].values - lm90_18.params[0]*(fff[\"1990-01\":\"2018-12\"]['Mkt-RF'].values + fff[\"1990-01\":\"2018-12\"]['RF'].values) -(1-lm90_18.params[0])*fff[\"1990-01\":\"2018-12\"]['RF'].values"
   ]
  },
  {
   "cell_type": "code",
   "execution_count": 18,
   "id": "4fb02101",
   "metadata": {},
   "outputs": [],
   "source": [
    "te90_18 = replicating_port90_18.std()\n",
    "te_ann90_18 = te90_18*np.sqrt(12)\n",
    "\n",
    "alpha90_18 = replicating_port90_18.mean()\n",
    "alpha_ann90_18 = (1 + alpha90_18)**12 - 1\n",
    "\n",
    "IR90_18 = alpha90_18/te90_18\n",
    "IR_ann90_18 = ((1+alpha90_18)**12 - 1)/(te90_18*np.sqrt(12))"
   ]
  },
  {
   "cell_type": "markdown",
   "id": "1c1094a5",
   "metadata": {},
   "source": [
    "##### Interpretation of results"
   ]
  },
  {
   "cell_type": "code",
   "execution_count": 19,
   "id": "bd1ae2f0",
   "metadata": {},
   "outputs": [
    {
     "name": "stdout",
     "output_type": "stream",
     "text": [
      "                            OLS Regression Results                            \n",
      "==============================================================================\n",
      "Dep. Variable:                   BRKA   R-squared:                       0.181\n",
      "Model:                            OLS   Adj. R-squared:                  0.179\n",
      "Method:                 Least Squares   F-statistic:                     76.69\n",
      "Date:                Fri, 13 May 2022   Prob (F-statistic):           9.03e-17\n",
      "Time:                        20:54:46   Log-Likelihood:                 535.44\n",
      "No. Observations:                 348   AIC:                            -1067.\n",
      "Df Residuals:                     346   BIC:                            -1059.\n",
      "Df Model:                           1                                         \n",
      "Covariance Type:            nonrobust                                         \n",
      "==============================================================================\n",
      "                 coef    std err          t      P>|t|      [0.025      0.975]\n",
      "------------------------------------------------------------------------------\n",
      "Mkt-RF         0.5779      0.066      8.757      0.000       0.448       0.708\n",
      "Constant       0.0061      0.003      2.150      0.032       0.001       0.012\n",
      "==============================================================================\n",
      "Omnibus:                       66.402   Durbin-Watson:                   2.074\n",
      "Prob(Omnibus):                  0.000   Jarque-Bera (JB):              197.134\n",
      "Skew:                           0.858   Prob(JB):                     1.56e-43\n",
      "Kurtosis:                       6.263   Cond. No.                         23.6\n",
      "==============================================================================\n",
      "\n",
      "Notes:\n",
      "[1] Standard Errors assume that the covariance matrix of the errors is correctly specified.\n",
      "\n",
      "1990-2018 Annualized Alpha: 0.07531427984426986\n",
      "1990-2018 Annualized Tracking Error: 0.179946839759673\n",
      "1990-2018 Annualized Information Ratio: 0.41853627407325095\n"
     ]
    }
   ],
   "source": [
    "print(lm90_18.summary())\n",
    "print()\n",
    "print(\"1990-2018 Annualized Alpha:\", alpha_ann90_18)\n",
    "print(\"1990-2018 Annualized Tracking Error:\", te_ann90_18)\n",
    "print(\"1990-2018 Annualized Information Ratio:\", IR_ann90_18)"
   ]
  },
  {
   "cell_type": "markdown",
   "id": "d076793e",
   "metadata": {},
   "source": [
    "In this period, the amount invested in the market is very close to the othe periods, being around 58 cents. The annualized alpha sees an increase when compared to the previous period, sitting at 7.5%.\n",
    "\n",
    "The annualized tracking error also increases to 18% when compared to 2003-2018, meaning that the portfolio didn´t follow the benchmark as well.\n",
    "\n",
    "Thankfully, the information ratio increases to 0.42. This is a considerable improvement from the previous period.\n",
    "\n",
    "Final remarks:\n",
    "\n",
    "In all of the 3 periods analyzed, but in particular in the periods of 1990-2003 and 1990-2018, the value of alpha is really good, with the investment consistently outperforming the benchmark. However, it is important to point out that when we look at the regression parameters, the degree of statistical significance wasn´t very high in any of the periods.\n",
    "\n",
    "In terms of our tracking error, we obtain a high TE in all of the periods. This explains why our alpha values are so good: the reason for the over performance of the investment in relation to its benchmark was because of a higher risk exposure.\n",
    "\n",
    "Regarding the information ratio, we see that the period between 2003-2018 was the period where the investment demonstrated lower levels of consistency when it comes beating its benchmark. In the other periods, the IR can be considered a good one if we go by the industry standards."
   ]
  },
  {
   "cell_type": "markdown",
   "id": "b8d1467b",
   "metadata": {},
   "source": [
    "#### The Fama French Benchmark"
   ]
  },
  {
   "cell_type": "markdown",
   "id": "ccbc4a5f",
   "metadata": {},
   "source": [
    "##### Period 1990-2003"
   ]
  },
  {
   "cell_type": "code",
   "execution_count": 20,
   "id": "ce0494b3",
   "metadata": {},
   "outputs": [],
   "source": [
    "exp_var90_03[\"Value\"] = fff.loc[\"1990\":\"2002-12\",['HML']]\n",
    "exp_var90_03[\"Size\"] = fff.loc[\"1990\":\"2002-12\",['SMB']]\n",
    "lm_ff90_03 = sm.OLS(brka_excess90_03, exp_var90_03).fit()\n",
    "replicating_port_ff90_03 = brka_m[\"1990\": \"2002-12\"]['BRKA'].values - lm_ff90_03.params[0]*(fff[\"1990\":\"2002-12\"]['Mkt-RF'].values + fff[\"1990\":\"2002-12\"]['RF'].values) -(1-lm_ff90_03.params[0])*fff[\"1990\":\"2002-12\"]['RF'].values -lm_ff90_03.params[2]*fff[\"1990\":\"2002-12\"]['HML'].values-lm_ff90_03.params[3]*fff[\"1990\":\"2002-12\"]['SMB'].values\n",
    "\n",
    "alpha_ff90_03 = replicating_port_ff90_03.mean()\n",
    "alpha_ann_ff90_03 = (1 + alpha_ff90_03)**12 - 1\n",
    "\n",
    "te_ff90_03 = replicating_port_ff90_03.std()\n",
    "te_ann_ff90_03 = te_ff90_03*np.sqrt(12)\n",
    "\n",
    "IR_ann_ff90_03 = ((1+lm_ff90_03.params[1])**12-1)/te_ann_ff90_03"
   ]
  },
  {
   "cell_type": "markdown",
   "id": "a13d5c37",
   "metadata": {},
   "source": [
    "##### Interpretation of results"
   ]
  },
  {
   "cell_type": "code",
   "execution_count": 21,
   "id": "ad3c3977",
   "metadata": {},
   "outputs": [
    {
     "name": "stdout",
     "output_type": "stream",
     "text": [
      "                            OLS Regression Results                            \n",
      "==============================================================================\n",
      "Dep. Variable:                   BRKA   R-squared:                       0.327\n",
      "Model:                            OLS   Adj. R-squared:                  0.314\n",
      "Method:                 Least Squares   F-statistic:                     24.65\n",
      "Date:                Fri, 13 May 2022   Prob (F-statistic):           4.69e-13\n",
      "Time:                        20:54:46   Log-Likelihood:                 226.15\n",
      "No. Observations:                 156   AIC:                            -444.3\n",
      "Df Residuals:                     152   BIC:                            -432.1\n",
      "Df Model:                           3                                         \n",
      "Covariance Type:            nonrobust                                         \n",
      "==============================================================================\n",
      "                 coef    std err          t      P>|t|      [0.025      0.975]\n",
      "------------------------------------------------------------------------------\n",
      "Mkt-RF         0.8306      0.118      7.064      0.000       0.598       1.063\n",
      "Constant       0.0066      0.005      1.402      0.163      -0.003       0.016\n",
      "Value          0.5125      0.168      3.043      0.003       0.180       0.845\n",
      "Size          -0.4946      0.129     -3.824      0.000      -0.750      -0.239\n",
      "==============================================================================\n",
      "Omnibus:                       12.530   Durbin-Watson:                   2.206\n",
      "Prob(Omnibus):                  0.002   Jarque-Bera (JB):               13.454\n",
      "Skew:                           0.615   Prob(JB):                      0.00120\n",
      "Kurtosis:                       3.747   Cond. No.                         42.0\n",
      "==============================================================================\n",
      "\n",
      "Notes:\n",
      "[1] Standard Errors assume that the covariance matrix of the errors is correctly specified.\n",
      "\n",
      "1990-2003 Annualized Alpha: 0.08252279788836825\n",
      "1990-2003 Annualized Tracking Error: 0.19668712314789438\n",
      "1990-2003 Annualized Information Error: 0.4195638055385773\n"
     ]
    }
   ],
   "source": [
    "print(lm_ff90_03.summary())\n",
    "print()\n",
    "print(\"1990-2003 Annualized Alpha:\", alpha_ann_ff90_03)\n",
    "print(\"1990-2003 Annualized Tracking Error:\", te_ann_ff90_03)\n",
    "print(\"1990-2003 Annualized Information Error:\", IR_ann_ff90_03)"
   ]
  },
  {
   "cell_type": "markdown",
   "id": "8617ac54",
   "metadata": {},
   "source": [
    "Comparing to the CAPM benchmark during the same period, the loading on the market has increase substantially: it went from 57 cents to 83 cents! In terms of the alpha, theres a decrease from 12% to 8.25%. From the regression we can deduct that adding variables has changed things around quite a bit. Adding value and size as variables has increased the total weight attributed to the market. \n",
    "\n",
    "The positive tilt on value suggests that the strategy of BRK is strongly tilted towards exploiting value stocks, whereas the negative tilt on size indicates that BRK mostly invests into large stocks compared to smaller ones. \n",
    "\n",
    "To summarize each dollar invested in BRK: 83 cents in the market, 17 cents in Bills, 51 cents in Value stocks, -51 cents in growth, 49 cents in large Cap stocks and minus 49 cents in small Cap stocks.\n",
    "\n",
    "The tracking error remains nearly unchanged at roughly 22%, even though two additional variables have been added to the model. \n",
    "\n",
    "The information ratio has decreased from 0.54 to 0.41 in the Fama and French model. That it because our alpha has fallen even though the tracking error has basically remained unchanged. It indicates that the portfolio produced excess returns for a shorter period than in the CAPM model. It shows that other factors than the market risk premium have an influence on the returns."
   ]
  },
  {
   "cell_type": "markdown",
   "id": "e53ffbd0",
   "metadata": {},
   "source": [
    "##### Period 2003-2018"
   ]
  },
  {
   "cell_type": "code",
   "execution_count": 22,
   "id": "af98c0e3",
   "metadata": {},
   "outputs": [],
   "source": [
    "exp_var03_18[\"Value\"] = fff.loc[\"2003\":\"2018\",['HML']]\n",
    "exp_var03_18[\"Size\"] = fff.loc[\"2003\":\"2018\",['SMB']]\n",
    "lm_ff03_18 = sm.OLS(brka_excess03_18, exp_var03_18).fit()\n",
    "replicating_port_ff03_18 = brka_m[\"2003\":\"2018\"]['BRKA'].values - lm_ff03_18.params[0]*(fff[\"2003\":\"2018\"]['Mkt-RF'].values + fff[\"2003\":\"2018\"]['RF'].values) -(1-lm_ff03_18.params[0])*fff[\"2003\":\"2018\"]['RF'].values -lm_ff03_18.params[2]*fff[\"2003\":\"2018\"]['HML'].values-lm_ff03_18.params[3]*fff[\"2003\":\"2018\"]['SMB'].values\n",
    "\n",
    "alpha_ff03_18 = replicating_port_ff03_18.mean()\n",
    "alpha_ann_ff03_18 = (1 + alpha_ff03_18)**12 - 1\n",
    "\n",
    "te_ff03_18 = replicating_port_ff03_18.std()\n",
    "te_ann_ff03_18 = te_ff03_18*np.sqrt(12)\n",
    "\n",
    "IR_ann_ff03_18 = ((1+lm_ff03_18.params[1])**12-1)/te_ann_ff03_18"
   ]
  },
  {
   "cell_type": "markdown",
   "id": "cb3de31e",
   "metadata": {},
   "source": [
    "##### Interpretation of results"
   ]
  },
  {
   "cell_type": "code",
   "execution_count": 23,
   "id": "920ca6fc",
   "metadata": {},
   "outputs": [
    {
     "name": "stdout",
     "output_type": "stream",
     "text": [
      "                            OLS Regression Results                            \n",
      "==============================================================================\n",
      "Dep. Variable:                   BRKA   R-squared:                       0.320\n",
      "Model:                            OLS   Adj. R-squared:                  0.309\n",
      "Method:                 Least Squares   F-statistic:                     29.53\n",
      "Date:                Fri, 13 May 2022   Prob (F-statistic):           1.08e-15\n",
      "Time:                        20:54:47   Log-Likelihood:                 357.88\n",
      "No. Observations:                 192   AIC:                            -707.8\n",
      "Df Residuals:                     188   BIC:                            -694.7\n",
      "Df Model:                           3                                         \n",
      "Covariance Type:            nonrobust                                         \n",
      "==============================================================================\n",
      "                 coef    std err          t      P>|t|      [0.025      0.975]\n",
      "------------------------------------------------------------------------------\n",
      "Mkt-RF         0.6027      0.076      7.927      0.000       0.453       0.753\n",
      "Constant       0.0037      0.003      1.323      0.188      -0.002       0.009\n",
      "Value          0.3577      0.116      3.080      0.002       0.129       0.587\n",
      "Size          -0.3218      0.127     -2.526      0.012      -0.573      -0.071\n",
      "==============================================================================\n",
      "Omnibus:                       66.066   Durbin-Watson:                   2.127\n",
      "Prob(Omnibus):                  0.000   Jarque-Bera (JB):              214.594\n",
      "Skew:                           1.384   Prob(JB):                     2.52e-47\n",
      "Kurtosis:                       7.377   Cond. No.                         48.1\n",
      "==============================================================================\n",
      "\n",
      "Notes:\n",
      "[1] Standard Errors assume that the covariance matrix of the errors is correctly specified.\n",
      "\n",
      "2003-2018 Annualized Alpha: 0.045124121298642184\n",
      "2003-2018 Annualized Tracking Error: 0.12997004098866557\n",
      "2003-2018 Annualized Information Error: 0.3471886363610316\n"
     ]
    }
   ],
   "source": [
    "print(lm_ff03_18.summary())\n",
    "print()\n",
    "print(\"2003-2018 Annualized Alpha:\", alpha_ann_ff03_18)\n",
    "print(\"2003-2018 Annualized Tracking Error:\", te_ann_ff03_18)\n",
    "print(\"2003-2018 Annualized Information Error:\", IR_ann_ff03_18)"
   ]
  },
  {
   "cell_type": "markdown",
   "id": "aa8b569d",
   "metadata": {},
   "source": [
    "The annualized alpha has risen from 3.9% to 4.5% when compared to the CAPM benchmark. The loading on the market has increased from 0.59 to 0.6. It seems that during this specific period of time, adding value and growth to the equation didn´t such a big impact when compared to the first period.\n",
    "\n",
    "The underlying strategy of BRK of focusing on large cap value stocks remains.\n",
    "To summarize each dollar invested in BRK: 60 cents in the market, 40 cents in Bills, 36 cents in Value stocks, -36 cents in growth, 32 cents in large Cap stocks and minus 32 cents in small Cap stocks.\n",
    "\n",
    "The increase in T-Bills proportion compared to the previous sample period, may be explained through the big financial housing crash in 2008 having caused big losses on the market. Investing more into bonds is a way of hedging the returns.\n",
    "\n",
    "The tracking error has remained basically unchanged at roughly 13.5%. Adding Size and Value to the mix has close to no impact on the tracking error.  \n",
    "\n",
    "The information ratio has risen from 0.29 to 0.35. This is because the alpha has also risen. The rise in the information ratio is however not large enough to be considered a satisfying metric. "
   ]
  },
  {
   "cell_type": "markdown",
   "id": "c009292f",
   "metadata": {},
   "source": [
    "##### Period 1990-2018"
   ]
  },
  {
   "cell_type": "code",
   "execution_count": 24,
   "id": "fdb0fbf2",
   "metadata": {},
   "outputs": [],
   "source": [
    "exp_var90_18[\"Value\"] = fff.loc[\"1990\":\"2018-12\",['HML']]\n",
    "exp_var90_18[\"Size\"] = fff.loc[\"1990\":\"2018-12\",['SMB']]\n",
    "lm_ff90_18 = sm.OLS(brka_excess90_18, exp_var90_18).fit()\n",
    "replicating_port_ff90_18 = brka_m[\"1990\": \"2018-12\"]['BRKA'].values - lm_ff90_18.params[0]*(fff[\"1990\":\"2018-12\"]['Mkt-RF'].values + fff[\"1990\":\"2018-12\"]['RF'].values) -(1-lm_ff90_18.params[0])*fff[\"1990\":\"2018-12\"]['RF'].values -lm_ff90_18.params[2]*fff[\"1990\":\"2018-12\"]['HML'].values-lm_ff90_18.params[3]*fff[\"1990\":\"2018-12\"]['SMB'].values\n",
    "\n",
    "alpha_ff90_18 = replicating_port_ff90_18.mean()\n",
    "alpha_ann_ff90_18 = (1 + alpha_ff90_18)**12 - 1\n",
    "\n",
    "te_ff90_18 = replicating_port_ff90_18.std()\n",
    "te_ann_ff90_18 = te_ff90_18*np.sqrt(12)\n",
    "\n",
    "IR_ann_ff90_18 = ((1+lm_ff90_18.params[1])**12-1)/te_ann_ff90_18"
   ]
  },
  {
   "cell_type": "markdown",
   "id": "d3d9574a",
   "metadata": {},
   "source": [
    "##### Interpretation of results"
   ]
  },
  {
   "cell_type": "code",
   "execution_count": 25,
   "id": "e0d68943",
   "metadata": {},
   "outputs": [
    {
     "name": "stdout",
     "output_type": "stream",
     "text": [
      "                            OLS Regression Results                            \n",
      "==============================================================================\n",
      "Dep. Variable:                   BRKA   R-squared:                       0.317\n",
      "Model:                            OLS   Adj. R-squared:                  0.311\n",
      "Method:                 Least Squares   F-statistic:                     53.29\n",
      "Date:                Fri, 13 May 2022   Prob (F-statistic):           2.59e-28\n",
      "Time:                        20:54:47   Log-Likelihood:                 567.01\n",
      "No. Observations:                 348   AIC:                            -1126.\n",
      "Df Residuals:                     344   BIC:                            -1111.\n",
      "Df Model:                           3                                         \n",
      "Covariance Type:            nonrobust                                         \n",
      "==============================================================================\n",
      "                 coef    std err          t      P>|t|      [0.025      0.975]\n",
      "------------------------------------------------------------------------------\n",
      "Mkt-RF         0.7096      0.063     11.350      0.000       0.587       0.833\n",
      "Constant       0.0052      0.003      1.991      0.047    6.18e-05       0.010\n",
      "Value          0.4053      0.090      4.494      0.000       0.228       0.583\n",
      "Size          -0.4829      0.085     -5.696      0.000      -0.650      -0.316\n",
      "==============================================================================\n",
      "Omnibus:                       64.922   Durbin-Watson:                   2.162\n",
      "Prob(Omnibus):                  0.000   Jarque-Bera (JB):              138.061\n",
      "Skew:                           0.962   Prob(JB):                     1.05e-30\n",
      "Kurtosis:                       5.413   Cond. No.                         38.1\n",
      "==============================================================================\n",
      "\n",
      "Notes:\n",
      "[1] Standard Errors assume that the covariance matrix of the errors is correctly specified.\n",
      "\n",
      "1990-2018 Annualized Alpha: 0.06377640944248109\n",
      "1990-2018 Annualized Tracking Error: 0.16433663469319604\n",
      "1990-2018 Annualized Information Error: 0.3880839446514737\n"
     ]
    }
   ],
   "source": [
    "print(lm_ff90_18.summary())\n",
    "print()\n",
    "print(\"1990-2018 Annualized Alpha:\", alpha_ann_ff90_18)\n",
    "print(\"1990-2018 Annualized Tracking Error:\", te_ann_ff90_18)\n",
    "print(\"1990-2018 Annualized Information Error:\", IR_ann_ff90_18)"
   ]
  },
  {
   "cell_type": "markdown",
   "id": "6f11ce67",
   "metadata": {},
   "source": [
    "The amount invested in the market has increased from 0.60 to 0.71, meaning that only 0.29 cents are attributed to T-Bills. The annualzied alpha also increased to 6,37%. Like I mentioned before, adding value and size as variables has increased the weight attributed to the market however, its clear that this effect is far larger in the first half of the sample than in the second half of the sample.\n",
    "\n",
    "To summarize each dollar invested in BRK: 70 cents in the market, 30 cents in Bills, 40 cents in Value stocks, -40 cents in growth, 48 cents in large Cap stocks and minus 48 cents in small Cap stocks.\n",
    "\n",
    "In terms of our tracking error, we obtain another high TE at around 18%. This was common through out the whole sample and explains why our alpha values are so good: the reason for the over performance of the investment in relation to its benchmark was because of a higher risk exposure.\n",
    "\n",
    "Regarding the information ratio, we see that the period between 2003-2018 was the period where the investment demonstrated lower levels of consistency when it comes beating its benchmark. In the other periods, the IR can be considered average to good if we go by the industry standards."
   ]
  },
  {
   "cell_type": "markdown",
   "id": "ebd36f26",
   "metadata": {},
   "source": [
    "## Question III."
   ]
  },
  {
   "cell_type": "markdown",
   "id": "61cb727f",
   "metadata": {},
   "source": [
    "Sharpe Style Analysis is an elegant and simple decomposition exercise similar to performance analysis,\n",
    "with the added constraint that the coefficients in the replicating portfolio are all positive and add to 1. Therefore, the coefficients of performing style analysis on the observed return of a manager can be\n",
    "interpreted as weights in a portfolio of building blocks which, together, mimic that return series. The\n",
    "exercise can reveal drifts in a manager’s style as well as provide insight into what the manager is likely\n",
    "doing to obtain the returns.\n",
    "1. Consider again Berkshire Hathaway monthly returns, in the sample 1990−2018. Use the minimize\n",
    "function to minimize the tracking error between such returns and the HML and SMB factors.\n",
    "Interpret the results and relate them to those obtained in question II."
   ]
  },
  {
   "cell_type": "code",
   "execution_count": 26,
   "id": "ee2090af",
   "metadata": {},
   "outputs": [],
   "source": [
    "def style_analysis(dependent_variable, explanatory_variables):\n",
    "    \"\"\"\n",
    "    Returns the optimal weights that minimizes the Tracking error between\n",
    "    a portfolio of the explanatory variables and the dependent variable\n",
    "    \"\"\"\n",
    "    n = explanatory_variables.shape[1]\n",
    "    init_guess = np.repeat(1/n, n)\n",
    "    bounds = ((0.0, 1.0),) * n # an N-tuple of 2-tuples!\n",
    "    # construct the constraints\n",
    "    weights_sum_to_1 = {'type': 'eq',\n",
    "                        'fun': lambda weights: np.sum(weights) - 1\n",
    "    }\n",
    "    solution = minimize(tracking_error, init_guess,\n",
    "                       args=(dependent_variable, explanatory_variables,), method='SLSQP',\n",
    "                       options={'disp': False},\n",
    "                       constraints=(weights_sum_to_1,),\n",
    "                       bounds=bounds)\n",
    "        \n",
    "    weights = pd.Series(solution.x, index=explanatory_variables.columns)\n",
    "    return weights"
   ]
  },
  {
   "cell_type": "code",
   "execution_count": 27,
   "id": "0d7fa0e0",
   "metadata": {},
   "outputs": [],
   "source": [
    "def tracking_error(weights, r_a, r_b):\n",
    "    \"\"\"\n",
    "    Returns the Tracking Error between the two return series\n",
    "    \"\"\"\n",
    "    te = (r_a.values - weights[0]*(r_b[\"HML\"].values) - weights[1]*(r_b[\"SMB\"].values)).std()\n",
    "    return te"
   ]
  },
  {
   "cell_type": "code",
   "execution_count": 28,
   "id": "688f9453",
   "metadata": {},
   "outputs": [
    {
     "name": "stdout",
     "output_type": "stream",
     "text": [
      "HML    0.822937\n",
      "SMB    0.177063\n",
      "dtype: float64\n",
      "\n",
      "Tracking Error: 0.05879999817051802\n"
     ]
    }
   ],
   "source": [
    "weights = style_analysis(brka_m[\"BRKA\"],  fff.loc[\"1990\":\"2018\", [\"HML\", \"SMB\"]])\n",
    "track_error = tracking_error(weights, brka_m[\"BRKA\"],  fff.loc[\"1990\":\"2018\", [\"HML\", \"SMB\"]])\n",
    "\n",
    "print(weights)\n",
    "print()\n",
    "print(\"Tracking Error:\", track_error)"
   ]
  },
  {
   "cell_type": "markdown",
   "id": "1579f7bd",
   "metadata": {},
   "source": [
    "##### Interpretation of results"
   ]
  },
  {
   "cell_type": "markdown",
   "id": "b8d0727e",
   "metadata": {},
   "source": [
    "The weights computed with the style analysis function gives us a weight of 0.82 for Value and a weight of 0.18 for Size.  The tilt tells us that, in order to replicate Berkshire's portfolio, we have to mainly focus on value (HML) as investment factor. As expected, since Warren Buffet's investment philosophy mainly evolves around buying high book-to-market stocks, this result makes sense. \n",
    "\n",
    "The result doesn't tell us whether he invests more into value or growth stocks, it does, however, confirm the assumption that Hathaway appears to be a Large Value investor.\n",
    "\n",
    "In question 2 we can see how the factors are made up in cents on the dollar, meaning, how we would have to allocate each dollar toward value/growth and small/big. Now we see how much weight each strategy has in order to follow closely what BRK does."
   ]
  },
  {
   "cell_type": "code",
   "execution_count": null,
   "id": "0ea43698",
   "metadata": {},
   "outputs": [],
   "source": []
  }
 ],
 "metadata": {
  "kernelspec": {
   "display_name": "Python 3 (ipykernel)",
   "language": "python",
   "name": "python3"
  },
  "language_info": {
   "codemirror_mode": {
    "name": "ipython",
    "version": 3
   },
   "file_extension": ".py",
   "mimetype": "text/x-python",
   "name": "python",
   "nbconvert_exporter": "python",
   "pygments_lexer": "ipython3",
   "version": "3.10.11"
  }
 },
 "nbformat": 4,
 "nbformat_minor": 5
}
