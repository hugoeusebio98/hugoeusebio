{
 "cells": [
  {
   "cell_type": "markdown",
   "metadata": {},
   "source": [
    "# Data Analytics for Finance - Final Project #\n",
    "\n",
    "**Student Name | Student Number:** Hugo Eusébio | 46267\n",
    "\n",
    "**Signal Name | Signal Code:** Tax Expense Surprise | tax_gr1a\n",
    "\n",
    "\n"
   ]
  },
  {
   "cell_type": "markdown",
   "metadata": {
    "dotnet_interactive": {
     "language": "fsharp"
    }
   },
   "source": [
    "### Strategy Analysis"
   ]
  },
  {
   "cell_type": "code",
   "execution_count": null,
   "metadata": {
    "dotnet_interactive": {
     "language": "fsharp"
    },
    "vscode": {
     "languageId": "dotnet-interactive.fsharp"
    }
   },
   "outputs": [
    {
     "data": {
      "text/html": [
       "<div><div></div><div></div><div><strong>Installed Packages</strong><ul><li><span>Accord, 3.8.0</span></li><li><span>Accord.Statistics, 3.8.0</span></li><li><span>DiffSharp-lite, 1.0.7</span></li><li><span>FSharp.Data, 4.2.8</span></li><li><span>FSharp.Stats, 0.4.5</span></li><li><span>Plotly.NET, 2.0.0</span></li><li><span>Plotly.NET.Interactive, 2.0.0</span></li></ul></div></div>"
      ]
     },
     "metadata": {},
     "output_type": "display_data"
    },
    {
     "data": {
      "text/markdown": [
       "Loading extensions from `Plotly.NET.Interactive.dll`"
      ]
     },
     "metadata": {},
     "output_type": "display_data"
    }
   ],
   "source": [
    "// Importing packages\n",
    "\n",
    "#r \"nuget: FSharp.Stats\"\n",
    "#r \"nuget: FSharp.Data\"\n",
    "#r \"nuget: Plotly.NET, 2.0.0\"\n",
    "#r \"nuget: Plotly.NET.Interactive, 2.0.0\"\n",
    "#r \"nuget: Accord\"\n",
    "#r \"nuget: Accord.Statistics\"\n",
    "#r \"nuget: DiffSharp-lite\"\n",
    "\n",
    "#load \"YahooFinance.fsx\"\n",
    "#load \"Common.fsx\"\n",
    "#load \"Portfolio.fsx\"\n",
    "\n",
    "open System\n",
    "open FSharp.Data\n",
    "open Plotly.NET\n",
    "open Common\n",
    "open YahooFinance\n",
    "open Portfolio\n",
    "open FSharp.Stats\n",
    "open DiffSharp\n",
    "open Accord\n",
    "open Accord.Statistics.Models.Regression.Linear"
   ]
  },
  {
   "cell_type": "code",
   "execution_count": null,
   "metadata": {
    "dotnet_interactive": {
     "language": "fsharp"
    },
    "vscode": {
     "languageId": "dotnet-interactive.fsharp"
    }
   },
   "outputs": [],
   "source": [
    "// Format style\n",
    "\n",
    "Formatter.Register(fun (x:obj) (writer: TextWriter) -> fprintfn writer \"%120A\" x )\n",
    "Formatter.SetPreferredMimeTypesFor(typeof<obj>, \"text/plain\")\n",
    "Formatter.SetPreferredMimeTypesFor(typeof<GenericChart.GenericChart>,\"text/html\")"
   ]
  },
  {
   "cell_type": "code",
   "execution_count": null,
   "metadata": {
    "dotnet_interactive": {
     "language": "fsharp"
    },
    "vscode": {
     "languageId": "dotnet-interactive.fsharp"
    }
   },
   "outputs": [],
   "source": [
    "// Loading signal data\n",
    "\n",
    "let [<Literal>] ResolutionFolder = __SOURCE_DIRECTORY__\n",
    "Environment.CurrentDirectory <- ResolutionFolder\n",
    "\n",
    "let [<Literal>] IdAndReturnsFilePath = \"data/id_and_return_data.csv\"\n",
    "let [<Literal>] MySignalFilePath = \"data/tax_gr1a.csv\"\n",
    "let strategyName = \"Tax_Expense_Surprise\"\n",
    "\n",
    "type IdAndReturnsType = \n",
    "    CsvProvider<Sample=IdAndReturnsFilePath,\n",
    "                Schema=\"obsMain(string)->obsMain=bool,exchMain(string)->exchMain=bool\",\n",
    "                ResolutionFolder=ResolutionFolder>\n",
    "\n",
    "type MySignalType = \n",
    "    CsvProvider<MySignalFilePath,\n",
    "                ResolutionFolder=ResolutionFolder>\n",
    "\n",
    "let idAndReturnsCsv = IdAndReturnsType.GetSample()\n",
    "let mySignalCsv = MySignalType.GetSample()\n",
    "\n",
    "let idAndReturnsRows = idAndReturnsCsv.Rows |> Seq.toList\n",
    "let mySignalRows = mySignalCsv.Rows |> Seq.toList"
   ]
  },
  {
   "cell_type": "code",
   "execution_count": null,
   "metadata": {
    "dotnet_interactive": {
     "language": "fsharp"
    },
    "vscode": {
     "languageId": "dotnet-interactive.fsharp"
    }
   },
   "outputs": [],
   "source": [
    "// Defining support functions\n",
    "\n",
    "let msfBySecurityIdAndMonth =\n",
    "    idAndReturnsRows\n",
    "    |> List.map(fun row -> \n",
    "        let id = Other row.Id\n",
    "        let month = DateTime(row.Eom.Year,row.Eom.Month,1)\n",
    "        let key = id, month\n",
    "        key, row)\n",
    "    |> Map    \n",
    "\n",
    "let signalBySecurityIdAndMonth =\n",
    "    mySignalRows\n",
    "    |> List.choose(fun row -> \n",
    "        match row.Signal with\n",
    "        | None -> None\n",
    "        | Some signal ->\n",
    "            let id = Other row.Id\n",
    "            let month = DateTime(row.Eom.Year,row.Eom.Month,1)\n",
    "            let key = id, month\n",
    "            Some (key, signal))\n",
    "    |> Map\n",
    "\n",
    "let securitiesByFormationMonth =\n",
    "    idAndReturnsRows\n",
    "    |> List.groupBy(fun x -> DateTime(x.Eom.Year, x.Eom.Month,1))\n",
    "    |> List.map(fun (ym, obsThisMonth) -> \n",
    "        let idsThisMonth = [ for x in obsThisMonth do Other x.Id ]\n",
    "        ym, idsThisMonth)\n",
    "    |> Map\n",
    "\n",
    "let getInvestmentUniverse formationMonth =\n",
    "    match Map.tryFind formationMonth securitiesByFormationMonth with\n",
    "    | Some securities -> \n",
    "        { FormationMonth = formationMonth \n",
    "          Securities = securities }\n",
    "    | None -> failwith $\"{formationMonth} is not in the date range\"\n",
    "\n",
    "let getMarketCap (security, formationMonth) =\n",
    "    match Map.tryFind (security, formationMonth) msfBySecurityIdAndMonth with\n",
    "    | None -> None\n",
    "    | Some row -> \n",
    "        match row.MarketEquity with\n",
    "        | None -> None\n",
    "        | Some me -> Some (security, me)\n",
    "\n",
    "let getSecurityReturn (security, formationMonth) =\n",
    "    let missingReturn = 0.0\n",
    "    match Map.tryFind (security, formationMonth) msfBySecurityIdAndMonth with\n",
    "    | None -> security, missingReturn\n",
    "    | Some x ->  \n",
    "        match x.Ret with \n",
    "        | None -> security, missingReturn\n",
    "        | Some r -> security, r\n",
    "        \n",
    "let getMySignal (securityId, formationMonth) =\n",
    "    match Map.tryFind (securityId, formationMonth) signalBySecurityIdAndMonth with\n",
    "    | None -> None\n",
    "    | Some signal ->\n",
    "        Some { SecurityId = securityId \n",
    "               Signal = signal }\n",
    "               \n",
    "let getMySignals (investmentUniverse: InvestmentUniverse) =\n",
    "    let listOfSecuritySignals =\n",
    "        investmentUniverse.Securities\n",
    "        |> List.choose(fun security -> \n",
    "            getMySignal (security, investmentUniverse.FormationMonth))    \n",
    "    \n",
    "    { FormationMonth = investmentUniverse.FormationMonth \n",
    "      Signals = listOfSecuritySignals }\n",
    "\n",
    "\n",
    "let isObsMain (security, formationMonth) =\n",
    "    match Map.tryFind (security, formationMonth) msfBySecurityIdAndMonth with\n",
    "    | None -> false\n",
    "    | Some row -> row.ObsMain\n",
    "\n",
    "let isPrimarySecurity (security, formationMonth) =\n",
    "    match Map.tryFind (security, formationMonth) msfBySecurityIdAndMonth with\n",
    "    | None -> false\n",
    "    | Some row -> row.PrimarySec\n",
    "\n",
    "let isCommonStock (security, formationMonth) =\n",
    "    match Map.tryFind (security, formationMonth) msfBySecurityIdAndMonth with\n",
    "    | None -> false\n",
    "    | Some row -> row.Common\n",
    "\n",
    "let isExchMain (security, formationMonth) =\n",
    "    match Map.tryFind (security, formationMonth) msfBySecurityIdAndMonth with\n",
    "    | None -> false\n",
    "    | Some row -> row.ExchMain\n",
    "\n",
    "let hasMarketEquity (security, formationMonth) =\n",
    "    match Map.tryFind (security, formationMonth) msfBySecurityIdAndMonth with\n",
    "    | None -> false\n",
    "    | Some row -> row.MarketEquity.IsSome\n",
    "\n",
    "let myFilters securityAndFormationMonth =\n",
    "    isObsMain securityAndFormationMonth &&\n",
    "    isPrimarySecurity securityAndFormationMonth &&\n",
    "    isCommonStock securityAndFormationMonth &&\n",
    "    isExchMain securityAndFormationMonth &&\n",
    "    isExchMain securityAndFormationMonth &&\n",
    "    hasMarketEquity securityAndFormationMonth\n",
    "\n",
    "let doMyFilters (universe:InvestmentUniverse) =\n",
    "    let filtered = \n",
    "        universe.Securities\n",
    "        |> List.map(fun security -> security, universe.FormationMonth)\n",
    "        |> List.filter myFilters\n",
    "        |> List.map fst\n",
    "    { universe with Securities = filtered }\n",
    "\n",
    "let startSample = \n",
    "    idAndReturnsRows\n",
    "    |> List.map(fun row -> DateTime(row.Eom.Year,row.Eom.Month,1))\n",
    "    |> List.min\n",
    "\n",
    "let endSample = \n",
    "    let lastMonthWithData = \n",
    "        idAndReturnsRows\n",
    "        |> Seq.map(fun row -> DateTime(row.Eom.Year,row.Eom.Month,1))\n",
    "        |> Seq.max\n",
    "\n",
    "    lastMonthWithData.AddMonths(-1) \n",
    "\n",
    "let sampleMonths = getSampleMonths (startSample, endSample)\n",
    "\n",
    "let formStrategy ym =\n",
    "    ym\n",
    "    |> getInvestmentUniverse\n",
    "    |> doMyFilters\n",
    "    |> getMySignals\n",
    "    |> assignSignalSort strategyName 3\n",
    "    |> List.map (giveValueWeights getMarketCap)\n",
    "    |> List.map (getPortfolioReturn getSecurityReturn) \n",
    "let doParallel = true\n",
    "let portfolios =\n",
    "    if doParallel then\n",
    "        sampleMonths\n",
    "        |> List.toArray\n",
    "        |> Array.Parallel.map formStrategy\n",
    "        |> Array.toList\n",
    "        |> List.collect id\n",
    "    else\n",
    "        sampleMonths\n",
    "        |> List.collect formStrategy"
   ]
  },
  {
   "cell_type": "code",
   "execution_count": null,
   "metadata": {
    "dotnet_interactive": {
     "language": "fsharp"
    },
    "vscode": {
     "languageId": "dotnet-interactive.fsharp"
    }
   },
   "outputs": [],
   "source": [
    "// Loading Fama-French data\n",
    "let ff3 = French.getFF3 Frequency.Monthly\n",
    "let monthlyRiskFreeRate =\n",
    "    [ for obs in ff3 do \n",
    "        let key = DateTime(obs.Date.Year,obs.Date.Month,1)\n",
    "        key, obs.Rf ]\n",
    "    |> Map\n",
    "    \n",
    "// Converting returns to excess returns\n",
    "let portfolioExcessReturns =\n",
    "    portfolios\n",
    "    |> List.map(fun x -> \n",
    "        match Map.tryFind x.YearMonth monthlyRiskFreeRate with \n",
    "        | None -> failwith $\"Can't find risk-free rate for {x.YearMonth}\"\n",
    "        | Some rf -> { x with Return = x.Return - rf })"
   ]
  },
  {
   "cell_type": "code",
   "execution_count": null,
   "metadata": {
    "dotnet_interactive": {
     "language": "fsharp"
    },
    "vscode": {
     "languageId": "dotnet-interactive.fsharp"
    }
   },
   "outputs": [],
   "source": [
    "// Computing Market, Long and Long-short portfolios\n",
    "\n",
    "let vwMktRf_filter =\n",
    "    let portfolioMonths = \n",
    "        portfolioExcessReturns \n",
    "        |> List.map(fun x -> x.YearMonth)\n",
    "    let minYm = portfolioMonths |> List.min\n",
    "    let maxYm = portfolioMonths |> List.max\n",
    "    \n",
    "    [ for x in ff3 do\n",
    "        if x.Date >= minYm && x.Date <= maxYm then\n",
    "            { PortfolioId = Named(\"Mkt-Rf\")\n",
    "              YearMonth = x.Date\n",
    "              Return = x.MktRf } ]\n",
    "\n",
    "let vwMktRf =\n",
    "    vwMktRf_filter\n",
    "    |> List.map(fun x ->\n",
    "        match Map.tryFind x.YearMonth monthlyRiskFreeRate with \n",
    "        | None -> failwith $\"Can't find risk-free rate for {x.YearMonth}\"\n",
    "        | Some rf -> { x with Return = x.Return - rf })\n",
    "\n",
    "let long_filter = \n",
    "    portfolioExcessReturns \n",
    "    |> List.filter(fun x -> \n",
    "        x.PortfolioId = Indexed {| Name = strategyName; Index = 3 |})\n",
    "\n",
    "let long = \n",
    "    long_filter\n",
    "    |> List.map (fun x -> \n",
    "        { PortfolioId = Named \"Long\"\n",
    "          YearMonth = x.YearMonth\n",
    "          Return = x.Return})\n",
    "\n",
    "let short_filter = \n",
    "    portfolioExcessReturns \n",
    "    |> List.filter(fun x -> \n",
    "        x.PortfolioId = Indexed {| Name = strategyName; Index = 1 |})\n",
    "\n",
    "let short = \n",
    "    short_filter\n",
    "    |> List.map (fun x -> \n",
    "        { PortfolioId = Named \"Short\"\n",
    "          YearMonth = x.YearMonth\n",
    "          Return = x.Return})\n",
    "\n",
    "let longShort = \n",
    "    let shortByYearMonthMap = \n",
    "        short \n",
    "        |> List.map(fun row -> row.YearMonth, row) \n",
    "        |> Map\n",
    "    \n",
    "    [ for longObs in long do\n",
    "        match Map.tryFind longObs.YearMonth shortByYearMonthMap with\n",
    "        | None -> failwith \"probably your date variables are not aligned for a weird reason\"\n",
    "        | Some shortObs ->\n",
    "            { PortfolioId = Named \"Long-Short\"\n",
    "              YearMonth = longObs.YearMonth\n",
    "              Return = longObs.Return - shortObs.Return } ] "
   ]
  },
  {
   "cell_type": "code",
   "execution_count": null,
   "metadata": {
    "dotnet_interactive": {
     "language": "fsharp"
    },
    "vscode": {
     "languageId": "dotnet-interactive.fsharp"
    }
   },
   "outputs": [],
   "source": [
    "// Computing Leveraged portfolios\n",
    "\n",
    "let annualizeMonthlyStdDev monthlyStdDev: float = sqrt(12.0) * monthlyStdDev\n",
    "\n",
    "let get_stdDevAnnualized (input: PortfolioReturn list) = \n",
    "    input\n",
    "    |> Seq.stDevBy (fun x -> x.Return)\n",
    "    |> annualizeMonthlyStdDev\n",
    "\n",
    "let stdDevLongAnnualized = get_stdDevAnnualized long\n",
    "let stdDevLongShortAnnualized = get_stdDevAnnualized longShort\n",
    "let stdDevVwMktRfAnnualized = get_stdDevAnnualized vwMktRf\n",
    "\n",
    "let get_leverage input: float =\n",
    "    0.1 / input\n",
    "\n",
    "let leverageLong = get_leverage stdDevLongAnnualized\n",
    "let leverageLongShort = get_leverage stdDevLongShortAnnualized\n",
    "let leverageVwMktRf = get_leverage stdDevVwMktRfAnnualized\n",
    "\n",
    "let longLev_map = \n",
    "    long\n",
    "    |> List.map(fun (x) ->\n",
    "        { PortfolioId = x.PortfolioId;\n",
    "          YearMonth = x.YearMonth;\n",
    "          Return = leverageLong * x.Return })\n",
    "\n",
    "let longLev = \n",
    "    longLev_map\n",
    "    |> List.map (fun x -> \n",
    "        { PortfolioId = Named \"Long\"\n",
    "          YearMonth = x.YearMonth\n",
    "          Return = x.Return })\n",
    "\n",
    "let longShortLev_map = \n",
    "    longShort\n",
    "    |> List.map(fun (x) ->\n",
    "        { PortfolioId = x.PortfolioId;\n",
    "          YearMonth = x.YearMonth;\n",
    "          Return = leverageLongShort * x.Return })\n",
    "\n",
    "let longShortLev = \n",
    "    longShortLev_map\n",
    "    |> List.map (fun x -> \n",
    "        { PortfolioId = Named \"Long-Short\"\n",
    "          YearMonth = x.YearMonth\n",
    "          Return = x.Return })\n",
    "\n",
    "let vwMktRfLev_map = \n",
    "    vwMktRf\n",
    "    |> List.map(fun (x) ->\n",
    "        { PortfolioId = x.PortfolioId;\n",
    "          YearMonth = x.YearMonth;\n",
    "          Return = leverageVwMktRf * x.Return })\n",
    "\n",
    "let vwMktRfLev = \n",
    "    vwMktRfLev_map\n",
    "    |> List.map (fun x -> \n",
    "        { PortfolioId = Named \"Mkt-Rf\"\n",
    "          YearMonth = x.YearMonth\n",
    "          Return = x.Return })"
   ]
  },
  {
   "cell_type": "code",
   "execution_count": null,
   "metadata": {
    "dotnet_interactive": {
     "language": "fsharp"
    },
    "vscode": {
     "languageId": "dotnet-interactive.fsharp"
    }
   },
   "outputs": [],
   "source": [
    "// Preparing portfolios returns plots\n",
    "\n",
    "let cumulateSimpleReturn (xs: PortfolioReturn list) =\n",
    "    let accumulator (priorObs:PortfolioReturn) (thisObs:PortfolioReturn) =\n",
    "        let asOfNow = (1.0 + priorObs.Return)*(1.0 + thisObs.Return) - 1.0\n",
    "        { thisObs with Return = asOfNow}\n",
    "    match xs |> List.sortBy(fun x -> x.YearMonth) with\n",
    "    | [] -> []      \n",
    "    | head::tail -> \n",
    "        (head, tail) \n",
    "        ||> List.scan accumulator\n",
    "        \n",
    "let portfolioReturnPlot (xs: PortfolioReturn list) =\n",
    "    xs\n",
    "    |> List.map(fun x -> x.YearMonth, x.Return)\n",
    "    |> Chart.Line \n",
    "    |> Chart.withLegendStyle(Orientation=StyleParam.Orientation.Vertical)\n",
    "\n",
    "//Standard portfolios \n",
    "let combinedChart =\n",
    "    List.concat [long; longShort; vwMktRf]\n",
    "    |> List.groupBy(fun x -> x.PortfolioId)\n",
    "    |> List.map(fun (portId, xs) ->\n",
    "        xs\n",
    "        |> cumulateSimpleReturn\n",
    "        |> portfolioReturnPlot\n",
    "        |> Chart.withTitle \"Growth of 1 Euro\"\n",
    "        |> Chart.withTraceInfo (Name=portId.ToString()))\n",
    "    |> Chart.combine\n",
    "            |> Chart.withSize(600.0,600.0)\n",
    "          \n",
    "//Leveraged portfolios plot\n",
    "let combinedChartLev =\n",
    "    List.concat [longLev; longShortLev; vwMktRfLev]\n",
    "    |> List.groupBy(fun x -> x.PortfolioId)\n",
    "    |> List.map(fun (portId, xs) ->\n",
    "        xs\n",
    "        |> cumulateSimpleReturn\n",
    "        |> portfolioReturnPlot\n",
    "        |> Chart.withTitle \"Growth of 1 Euro with Leverage\"\n",
    "        |> Chart.withTraceInfo (Name=portId.ToString() + \" Leveraged\"))\n",
    "    |> Chart.combine\n",
    "        |> Chart.withSize(600.0,600.0)"
   ]
  },
  {
   "cell_type": "code",
   "execution_count": null,
   "metadata": {
    "dotnet_interactive": {
     "language": "fsharp"
    },
    "vscode": {
     "languageId": "dotnet-interactive.fsharp"
    }
   },
   "outputs": [
    {
     "data": {
      "text/html": [
       "\r\n",
       "<div>\r\n",
       "    <div id=\"191fac9e-dbf2-4f57-a4bb-555dce45bf6a\"><!-- Plotly chart will be drawn inside this DIV --></div>\r\n",
       "<script type=\"text/javascript\">\r\n",
       "\r\n",
       "            var renderPlotly_191fac9edbf24f57a4bb555dce45bf6a = function() {\r\n",
       "            var fsharpPlotlyRequire = requirejs.config({context:'fsharp-plotly',paths:{plotly:'https://cdn.plot.ly/plotly-2.6.3.min'}}) || require;\r\n",
       "            fsharpPlotlyRequire(['plotly'], function(Plotly) {\r\n",
       "\r\n",
       "            var data = [{\"type\":\"scatter\",\"mode\":\"lines\",\"x\":[\"2000-02-01T00:00:00\",\"2000-03-01T00:00:00\",\"2000-04-01T00:00:00\",\"2000-05-01T00:00:00\",\"2000-06-01T00:00:00\",\"2000-07-01T00:00:00\",\"2000-08-01T00:00:00\",\"2000-09-01T00:00:00\",\"2000-10-01T00:00:00\",\"2000-11-01T00:00:00\",\"2000-12-01T00:00:00\",\"2001-01-01T00:00:00\",\"2001-02-01T00:00:00\",\"2001-03-01T00:00:00\",\"2001-04-01T00:00:00\",\"2001-05-01T00:00:00\",\"2001-06-01T00:00:00\",\"2001-07-01T00:00:00\",\"2001-08-01T00:00:00\",\"2001-09-01T00:00:00\",\"2001-10-01T00:00:00\",\"2001-11-01T00:00:00\",\"2001-12-01T00:00:00\",\"2002-01-01T00:00:00\",\"2002-02-01T00:00:00\",\"2002-03-01T00:00:00\",\"2002-04-01T00:00:00\",\"2002-05-01T00:00:00\",\"2002-06-01T00:00:00\",\"2002-07-01T00:00:00\",\"2002-08-01T00:00:00\",\"2002-09-01T00:00:00\",\"2002-10-01T00:00:00\",\"2002-11-01T00:00:00\",\"2002-12-01T00:00:00\",\"2003-01-01T00:00:00\",\"2003-02-01T00:00:00\",\"2003-03-01T00:00:00\",\"2003-04-01T00:00:00\",\"2003-05-01T00:00:00\",\"2003-06-01T00:00:00\",\"2003-07-01T00:00:00\",\"2003-08-01T00:00:00\",\"2003-09-01T00:00:00\",\"2003-10-01T00:00:00\",\"2003-11-01T00:00:00\",\"2003-12-01T00:00:00\",\"2004-01-01T00:00:00\",\"2004-02-01T00:00:00\",\"2004-03-01T00:00:00\",\"2004-04-01T00:00:00\",\"2004-05-01T00:00:00\",\"2004-06-01T00:00:00\",\"2004-07-01T00:00:00\",\"2004-08-01T00:00:00\",\"2004-09-01T00:00:00\",\"2004-10-01T00:00:00\",\"2004-11-01T00:00:00\",\"2004-12-01T00:00:00\",\"2005-01-01T00:00:00\",\"2005-02-01T00:00:00\",\"2005-03-01T00:00:00\",\"2005-04-01T00:00:00\",\"2005-05-01T00:00:00\",\"2005-06-01T00:00:00\",\"2005-07-01T00:00:00\",\"2005-08-01T00:00:00\",\"2005-09-01T00:00:00\",\"2005-10-01T00:00:00\",\"2005-11-01T00:00:00\",\"2005-12-01T00:00:00\",\"2006-01-01T00:00:00\",\"2006-02-01T00:00:00\",\"2006-03-01T00:00:00\",\"2006-04-01T00:00:00\",\"2006-05-01T00:00:00\",\"2006-06-01T00:00:00\",\"2006-07-01T00:00:00\",\"2006-08-01T00:00:00\",\"2006-09-01T00:00:00\",\"2006-10-01T00:00:00\",\"2006-11-01T00:00:00\",\"2006-12-01T00:00:00\",\"2007-01-01T00:00:00\",\"2007-02-01T00:00:00\",\"2007-03-01T00:00:00\",\"2007-04-01T00:00:00\",\"2007-05-01T00:00:00\",\"2007-06-01T00:00:00\",\"2007-07-01T00:00:00\",\"2007-08-01T00:00:00\",\"2007-09-01T00:00:00\",\"2007-10-01T00:00:00\",\"2007-11-01T00:00:00\",\"2007-12-01T00:00:00\",\"2008-01-01T00:00:00\",\"2008-02-01T00:00:00\",\"2008-03-01T00:00:00\",\"2008-04-01T00:00:00\",\"2008-05-01T00:00:00\",\"2008-06-01T00:00:00\",\"2008-07-01T00:00:00\",\"2008-08-01T00:00:00\",\"2008-09-01T00:00:00\",\"2008-10-01T00:00:00\",\"2008-11-01T00:00:00\",\"2008-12-01T00:00:00\",\"2009-01-01T00:00:00\",\"2009-02-01T00:00:00\",\"2009-03-01T00:00:00\",\"2009-04-01T00:00:00\",\"2009-05-01T00:00:00\",\"2009-06-01T00:00:00\",\"2009-07-01T00:00:00\",\"2009-08-01T00:00:00\",\"2009-09-01T00:00:00\",\"2009-10-01T00:00:00\",\"2009-11-01T00:00:00\",\"2009-12-01T00:00:00\",\"2010-01-01T00:00:00\",\"2010-02-01T00:00:00\",\"2010-03-01T00:00:00\",\"2010-04-01T00:00:00\",\"2010-05-01T00:00:00\",\"2010-06-01T00:00:00\",\"2010-07-01T00:00:00\",\"2010-08-01T00:00:00\",\"2010-09-01T00:00:00\",\"2010-10-01T00:00:00\",\"2010-11-01T00:00:00\",\"2010-12-01T00:00:00\",\"2011-01-01T00:00:00\",\"2011-02-01T00:00:00\",\"2011-03-01T00:00:00\",\"2011-04-01T00:00:00\",\"2011-05-01T00:00:00\",\"2011-06-01T00:00:00\",\"2011-07-01T00:00:00\",\"2011-08-01T00:00:00\",\"2011-09-01T00:00:00\",\"2011-10-01T00:00:00\",\"2011-11-01T00:00:00\",\"2011-12-01T00:00:00\",\"2012-01-01T00:00:00\",\"2012-02-01T00:00:00\",\"2012-03-01T00:00:00\",\"2012-04-01T00:00:00\",\"2012-05-01T00:00:00\",\"2012-06-01T00:00:00\",\"2012-07-01T00:00:00\",\"2012-08-01T00:00:00\",\"2012-09-01T00:00:00\",\"2012-10-01T00:00:00\",\"2012-11-01T00:00:00\",\"2012-12-01T00:00:00\",\"2013-01-01T00:00:00\",\"2013-02-01T00:00:00\",\"2013-03-01T00:00:00\",\"2013-04-01T00:00:00\",\"2013-05-01T00:00:00\",\"2013-06-01T00:00:00\",\"2013-07-01T00:00:00\",\"2013-08-01T00:00:00\",\"2013-09-01T00:00:00\",\"2013-10-01T00:00:00\",\"2013-11-01T00:00:00\",\"2013-12-01T00:00:00\",\"2014-01-01T00:00:00\",\"2014-02-01T00:00:00\",\"2014-03-01T00:00:00\",\"2014-04-01T00:00:00\",\"2014-05-01T00:00:00\",\"2014-06-01T00:00:00\",\"2014-07-01T00:00:00\",\"2014-08-01T00:00:00\",\"2014-09-01T00:00:00\",\"2014-10-01T00:00:00\",\"2014-11-01T00:00:00\",\"2014-12-01T00:00:00\",\"2015-01-01T00:00:00\",\"2015-02-01T00:00:00\",\"2015-03-01T00:00:00\",\"2015-04-01T00:00:00\",\"2015-05-01T00:00:00\",\"2015-06-01T00:00:00\",\"2015-07-01T00:00:00\",\"2015-08-01T00:00:00\",\"2015-09-01T00:00:00\",\"2015-10-01T00:00:00\",\"2015-11-01T00:00:00\",\"2015-12-01T00:00:00\",\"2016-01-01T00:00:00\",\"2016-02-01T00:00:00\",\"2016-03-01T00:00:00\",\"2016-04-01T00:00:00\",\"2016-05-01T00:00:00\",\"2016-06-01T00:00:00\",\"2016-07-01T00:00:00\",\"2016-08-01T00:00:00\",\"2016-09-01T00:00:00\",\"2016-10-01T00:00:00\",\"2016-11-01T00:00:00\",\"2016-12-01T00:00:00\",\"2017-01-01T00:00:00\",\"2017-02-01T00:00:00\",\"2017-03-01T00:00:00\",\"2017-04-01T00:00:00\",\"2017-05-01T00:00:00\",\"2017-06-01T00:00:00\",\"2017-07-01T00:00:00\",\"2017-08-01T00:00:00\",\"2017-09-01T00:00:00\",\"2017-10-01T00:00:00\",\"2017-11-01T00:00:00\",\"2017-12-01T00:00:00\",\"2018-01-01T00:00:00\",\"2018-02-01T00:00:00\",\"2018-03-01T00:00:00\",\"2018-04-01T00:00:00\",\"2018-05-01T00:00:00\",\"2018-06-01T00:00:00\",\"2018-07-01T00:00:00\",\"2018-08-01T00:00:00\",\"2018-09-01T00:00:00\",\"2018-10-01T00:00:00\",\"2018-11-01T00:00:00\",\"2018-12-01T00:00:00\",\"2019-01-01T00:00:00\",\"2019-02-01T00:00:00\",\"2019-03-01T00:00:00\",\"2019-04-01T00:00:00\",\"2019-05-01T00:00:00\",\"2019-06-01T00:00:00\",\"2019-07-01T00:00:00\",\"2019-08-01T00:00:00\",\"2019-09-01T00:00:00\",\"2019-10-01T00:00:00\",\"2019-11-01T00:00:00\",\"2019-12-01T00:00:00\",\"2020-01-01T00:00:00\",\"2020-02-01T00:00:00\",\"2020-03-01T00:00:00\",\"2020-04-01T00:00:00\",\"2020-05-01T00:00:00\",\"2020-06-01T00:00:00\",\"2020-07-01T00:00:00\",\"2020-08-01T00:00:00\",\"2020-09-01T00:00:00\",\"2020-10-01T00:00:00\",\"2020-11-01T00:00:00\",\"2020-12-01T00:00:00\"],\"y\":[0.0436461229037775,0.1198870226845492,0.046345098195680334,-0.02131568004624751,0.044867977269039905,0.011873286362089619,0.07767884350697485,0.015036208207411583,-0.013534274547031822,-0.12403834183274653,-0.12904115386906556,-0.08897552885433901,-0.2003865078848276,-0.2637768545632928,-0.19416210232940223,-0.19561702093302358,-0.21950114384940134,-0.23453757678884846,-0.2917380045063136,-0.3575031682820914,-0.33795438984407034,-0.29746411864882183,-0.2860292060387034,-0.3067178625102561,-0.30883138185453074,-0.2775222949806827,-0.30666394194322355,-0.31918329675770174,-0.3604094680957928,-0.4175778072159969,-0.40680372654754415,-0.4532280914504535,-0.42266081798596733,-0.41287773546185647,-0.43598234826040627,-0.4507948575874511,-0.4617540207008153,-0.4517460941298117,-0.4134393961859103,-0.3822163643964168,-0.37299943822739234,-0.35816658574301674,-0.3329757459987229,-0.3383056250121077,-0.29848933492698626,-0.28761357647708563,-0.2619542287577623,-0.24891362200539646,-0.23663496845475407,-0.24173935031274085,-0.25504867993931835,-0.24113493479421466,-0.22536309626354567,-0.257861295607688,-0.26453611626687046,-0.24137253051852214,-0.22573447471853203,-0.18611759712492326,-0.16257588673457835,-0.18143241762138396,-0.14921393330011312,-0.16612293558046864,-0.1969296153207284,-0.16381501407491617,-0.15819398123937167,-0.1178430058458878,-0.1212868021684198,-0.11187464541256109,-0.14581118555700445,-0.114836862720338,-0.11603345753531313,-0.07300704648479428,-0.08888850741400378,-0.07306733827471079,-0.07144192922775461,-0.1093452954708054,-0.10922346112381887,-0.11681619633473683,-0.10740823337699756,-0.10023170948395388,-0.06367075078618223,-0.03619903601260921,-0.04017656954351401,-0.025796363295282232,-0.04193433397985624,-0.02415492640742689,0.013486683609214012,0.05754521273176527,0.04535974255524344,0.025811586575078982,0.03421978722282715,0.08289512805869337,0.1149296572270202,0.06390187396397384,0.07361620893714815,-0.02204354720741375,-0.037763292420573746,-0.047512831303918146,0.002281710331584863,0.03464124722518469,-0.03208472762497372,-0.059713295542466516,-0.054700146420611606,-0.17323638556522825,-0.30998145117138665,-0.35112074262133164,-0.3342256326813313,-0.3668341846481793,-0.41912914621003805,-0.3763727531953187,-0.3293533453709604,-0.2866913991352248,-0.2884625732363575,-0.24155157551205508,-0.22788445193698292,-0.19535534845830238,-0.20736470180159283,-0.1612775837892777,-0.13168020475155662,-0.16575691009767812,-0.13953763188337875,-0.08481074000024891,-0.07379136938122144,-0.13419943978398374,-0.17536235405792477,-0.12584590593647604,-0.157627003785056,-0.07725481279066093,-0.03474128470826576,-0.0190496748514265,0.03701307904605877,0.04661209454080706,0.0955116738198658,0.10207908556534973,0.13351530357218921,0.10816868872013119,0.09077727336884633,0.07534746853124674,0.0033732227403948656,-0.09607619153220681,0.026594658861998077,0.02663593514622531,0.021118083855052205,0.08225447577180511,0.14209841557848168,0.160993202940944,0.15503829577104322,0.07690450604180943,0.11715790733081066,0.13282546142738672,0.16695122476869062,0.20020524345366142,0.1690917801915861,0.17744753520386514,0.17834569910058273,0.23688909772734057,0.2464149355139993,0.2872063500866542,0.29878430004574175,0.338048936363895,0.31323782745735085,0.4040232561479016,0.37978953096485,0.4387378174497918,0.5028820002269827,0.5460544714454345,0.5897074085320861,0.5457128531803868,0.6279321364732173,0.6226828121961279,0.6209567301150696,0.6599383326768182,0.6954252711657354,0.6598259476276394,0.7257367921825248,0.6864034131822656,0.7312493822870365,0.7678522808550017,0.7652058747450186,0.7189526972041698,0.8303920324133074,0.8108370842670813,0.8302041161130613,0.856146825257387,0.8220743619146385,0.8487365828802169,0.7384176982395503,0.6933608023475852,0.8266740882846151,0.8280440676647383,0.7926358838059968,0.6783674815854961,0.6831248213464505,0.7944899142193034,0.7921609407073904,0.8191569804336027,0.8184067768525254,0.8935674723841653,0.876646712755117,0.8718577966157521,0.8154728740195378,0.88042185980993,0.9112046660644031,0.9679155692773254,1.0302553593923918,1.044432664388749,1.0667579884427778,1.1024768865621382,1.0948364225705038,1.1353960826081773,1.14799703122317,1.2095984890337488,1.276030432881874,1.3313327087081803,1.3651384454929532,1.4997179888005685,1.4084171906729908,1.3776709976865686,1.3890114941445892,1.4540634132322743,1.4486403466334323,1.5270204070466633,1.5711238672373158,1.588713843706146,1.3773328242509923,1.4434662641055223,1.2215583727504034,1.4141871329828262,1.513558391677782,1.545313511927362,1.6324478548479462,1.4657252706469608,1.6262120902850081,1.6180696402101122,1.5393545698494968,1.5592182374037868,1.5909922541271473,1.6797919697122765,1.7449691164662737,1.723853139360342,1.5011193814258235,1.1644740072892197,1.467405858943391,1.6082081866407312,1.6784166641747165,1.8617629695848454,2.052644159126187,1.9429416129685526,1.87098835019534,2.171742029040434,2.2820151619295954],\"marker\":{},\"line\":{},\"name\":\"Long\"},{\"type\":\"scatter\",\"mode\":\"lines\",\"x\":[\"2000-02-01T00:00:00\",\"2000-03-01T00:00:00\",\"2000-04-01T00:00:00\",\"2000-05-01T00:00:00\",\"2000-06-01T00:00:00\",\"2000-07-01T00:00:00\",\"2000-08-01T00:00:00\",\"2000-09-01T00:00:00\",\"2000-10-01T00:00:00\",\"2000-11-01T00:00:00\",\"2000-12-01T00:00:00\",\"2001-01-01T00:00:00\",\"2001-02-01T00:00:00\",\"2001-03-01T00:00:00\",\"2001-04-01T00:00:00\",\"2001-05-01T00:00:00\",\"2001-06-01T00:00:00\",\"2001-07-01T00:00:00\",\"2001-08-01T00:00:00\",\"2001-09-01T00:00:00\",\"2001-10-01T00:00:00\",\"2001-11-01T00:00:00\",\"2001-12-01T00:00:00\",\"2002-01-01T00:00:00\",\"2002-02-01T00:00:00\",\"2002-03-01T00:00:00\",\"2002-04-01T00:00:00\",\"2002-05-01T00:00:00\",\"2002-06-01T00:00:00\",\"2002-07-01T00:00:00\",\"2002-08-01T00:00:00\",\"2002-09-01T00:00:00\",\"2002-10-01T00:00:00\",\"2002-11-01T00:00:00\",\"2002-12-01T00:00:00\",\"2003-01-01T00:00:00\",\"2003-02-01T00:00:00\",\"2003-03-01T00:00:00\",\"2003-04-01T00:00:00\",\"2003-05-01T00:00:00\",\"2003-06-01T00:00:00\",\"2003-07-01T00:00:00\",\"2003-08-01T00:00:00\",\"2003-09-01T00:00:00\",\"2003-10-01T00:00:00\",\"2003-11-01T00:00:00\",\"2003-12-01T00:00:00\",\"2004-01-01T00:00:00\",\"2004-02-01T00:00:00\",\"2004-03-01T00:00:00\",\"2004-04-01T00:00:00\",\"2004-05-01T00:00:00\",\"2004-06-01T00:00:00\",\"2004-07-01T00:00:00\",\"2004-08-01T00:00:00\",\"2004-09-01T00:00:00\",\"2004-10-01T00:00:00\",\"2004-11-01T00:00:00\",\"2004-12-01T00:00:00\",\"2005-01-01T00:00:00\",\"2005-02-01T00:00:00\",\"2005-03-01T00:00:00\",\"2005-04-01T00:00:00\",\"2005-05-01T00:00:00\",\"2005-06-01T00:00:00\",\"2005-07-01T00:00:00\",\"2005-08-01T00:00:00\",\"2005-09-01T00:00:00\",\"2005-10-01T00:00:00\",\"2005-11-01T00:00:00\",\"2005-12-01T00:00:00\",\"2006-01-01T00:00:00\",\"2006-02-01T00:00:00\",\"2006-03-01T00:00:00\",\"2006-04-01T00:00:00\",\"2006-05-01T00:00:00\",\"2006-06-01T00:00:00\",\"2006-07-01T00:00:00\",\"2006-08-01T00:00:00\",\"2006-09-01T00:00:00\",\"2006-10-01T00:00:00\",\"2006-11-01T00:00:00\",\"2006-12-01T00:00:00\",\"2007-01-01T00:00:00\",\"2007-02-01T00:00:00\",\"2007-03-01T00:00:00\",\"2007-04-01T00:00:00\",\"2007-05-01T00:00:00\",\"2007-06-01T00:00:00\",\"2007-07-01T00:00:00\",\"2007-08-01T00:00:00\",\"2007-09-01T00:00:00\",\"2007-10-01T00:00:00\",\"2007-11-01T00:00:00\",\"2007-12-01T00:00:00\",\"2008-01-01T00:00:00\",\"2008-02-01T00:00:00\",\"2008-03-01T00:00:00\",\"2008-04-01T00:00:00\",\"2008-05-01T00:00:00\",\"2008-06-01T00:00:00\",\"2008-07-01T00:00:00\",\"2008-08-01T00:00:00\",\"2008-09-01T00:00:00\",\"2008-10-01T00:00:00\",\"2008-11-01T00:00:00\",\"2008-12-01T00:00:00\",\"2009-01-01T00:00:00\",\"2009-02-01T00:00:00\",\"2009-03-01T00:00:00\",\"2009-04-01T00:00:00\",\"2009-05-01T00:00:00\",\"2009-06-01T00:00:00\",\"2009-07-01T00:00:00\",\"2009-08-01T00:00:00\",\"2009-09-01T00:00:00\",\"2009-10-01T00:00:00\",\"2009-11-01T00:00:00\",\"2009-12-01T00:00:00\",\"2010-01-01T00:00:00\",\"2010-02-01T00:00:00\",\"2010-03-01T00:00:00\",\"2010-04-01T00:00:00\",\"2010-05-01T00:00:00\",\"2010-06-01T00:00:00\",\"2010-07-01T00:00:00\",\"2010-08-01T00:00:00\",\"2010-09-01T00:00:00\",\"2010-10-01T00:00:00\",\"2010-11-01T00:00:00\",\"2010-12-01T00:00:00\",\"2011-01-01T00:00:00\",\"2011-02-01T00:00:00\",\"2011-03-01T00:00:00\",\"2011-04-01T00:00:00\",\"2011-05-01T00:00:00\",\"2011-06-01T00:00:00\",\"2011-07-01T00:00:00\",\"2011-08-01T00:00:00\",\"2011-09-01T00:00:00\",\"2011-10-01T00:00:00\",\"2011-11-01T00:00:00\",\"2011-12-01T00:00:00\",\"2012-01-01T00:00:00\",\"2012-02-01T00:00:00\",\"2012-03-01T00:00:00\",\"2012-04-01T00:00:00\",\"2012-05-01T00:00:00\",\"2012-06-01T00:00:00\",\"2012-07-01T00:00:00\",\"2012-08-01T00:00:00\",\"2012-09-01T00:00:00\",\"2012-10-01T00:00:00\",\"2012-11-01T00:00:00\",\"2012-12-01T00:00:00\",\"2013-01-01T00:00:00\",\"2013-02-01T00:00:00\",\"2013-03-01T00:00:00\",\"2013-04-01T00:00:00\",\"2013-05-01T00:00:00\",\"2013-06-01T00:00:00\",\"2013-07-01T00:00:00\",\"2013-08-01T00:00:00\",\"2013-09-01T00:00:00\",\"2013-10-01T00:00:00\",\"2013-11-01T00:00:00\",\"2013-12-01T00:00:00\",\"2014-01-01T00:00:00\",\"2014-02-01T00:00:00\",\"2014-03-01T00:00:00\",\"2014-04-01T00:00:00\",\"2014-05-01T00:00:00\",\"2014-06-01T00:00:00\",\"2014-07-01T00:00:00\",\"2014-08-01T00:00:00\",\"2014-09-01T00:00:00\",\"2014-10-01T00:00:00\",\"2014-11-01T00:00:00\",\"2014-12-01T00:00:00\",\"2015-01-01T00:00:00\",\"2015-02-01T00:00:00\",\"2015-03-01T00:00:00\",\"2015-04-01T00:00:00\",\"2015-05-01T00:00:00\",\"2015-06-01T00:00:00\",\"2015-07-01T00:00:00\",\"2015-08-01T00:00:00\",\"2015-09-01T00:00:00\",\"2015-10-01T00:00:00\",\"2015-11-01T00:00:00\",\"2015-12-01T00:00:00\",\"2016-01-01T00:00:00\",\"2016-02-01T00:00:00\",\"2016-03-01T00:00:00\",\"2016-04-01T00:00:00\",\"2016-05-01T00:00:00\",\"2016-06-01T00:00:00\",\"2016-07-01T00:00:00\",\"2016-08-01T00:00:00\",\"2016-09-01T00:00:00\",\"2016-10-01T00:00:00\",\"2016-11-01T00:00:00\",\"2016-12-01T00:00:00\",\"2017-01-01T00:00:00\",\"2017-02-01T00:00:00\",\"2017-03-01T00:00:00\",\"2017-04-01T00:00:00\",\"2017-05-01T00:00:00\",\"2017-06-01T00:00:00\",\"2017-07-01T00:00:00\",\"2017-08-01T00:00:00\",\"2017-09-01T00:00:00\",\"2017-10-01T00:00:00\",\"2017-11-01T00:00:00\",\"2017-12-01T00:00:00\",\"2018-01-01T00:00:00\",\"2018-02-01T00:00:00\",\"2018-03-01T00:00:00\",\"2018-04-01T00:00:00\",\"2018-05-01T00:00:00\",\"2018-06-01T00:00:00\",\"2018-07-01T00:00:00\",\"2018-08-01T00:00:00\",\"2018-09-01T00:00:00\",\"2018-10-01T00:00:00\",\"2018-11-01T00:00:00\",\"2018-12-01T00:00:00\",\"2019-01-01T00:00:00\",\"2019-02-01T00:00:00\",\"2019-03-01T00:00:00\",\"2019-04-01T00:00:00\",\"2019-05-01T00:00:00\",\"2019-06-01T00:00:00\",\"2019-07-01T00:00:00\",\"2019-08-01T00:00:00\",\"2019-09-01T00:00:00\",\"2019-10-01T00:00:00\",\"2019-11-01T00:00:00\",\"2019-12-01T00:00:00\",\"2020-01-01T00:00:00\",\"2020-02-01T00:00:00\",\"2020-03-01T00:00:00\",\"2020-04-01T00:00:00\",\"2020-05-01T00:00:00\",\"2020-06-01T00:00:00\",\"2020-07-01T00:00:00\",\"2020-08-01T00:00:00\",\"2020-09-01T00:00:00\",\"2020-10-01T00:00:00\",\"2020-11-01T00:00:00\",\"2020-12-01T00:00:00\"],\"y\":[0.06174393005754647,0.08207484544004684,0.03877453441775458,-0.007725975576378219,0.041557759685864504,0.047266831057538816,0.05958037679093309,0.021007586608972506,-0.005910762440980877,-0.0350508971703366,-0.06830665605966957,-0.06284023085697299,-0.12108820164814904,-0.13306658285732498,-0.09943241443407447,-0.11300733721450151,-0.12658865805396002,-0.13123715990511764,-0.15543102128378716,-0.13467688508922204,-0.14114783424999333,-0.181198797202753,-0.17227779083210126,-0.1960552217216841,-0.15583383443633525,-0.1581024600699018,-0.13912388891244498,-0.1491932195836415,-0.12788150382618346,-0.12725302296727103,-0.10730468671533022,-0.07914240735074896,-0.12030978523651081,-0.20138076772848534,-0.17509432515496548,-0.17990921818783523,-0.18462003434334384,-0.16385769641640524,-0.17219895025683118,-0.1891547982180496,-0.18710685203537114,-0.17502818197943937,-0.15550762953326014,-0.15070853247297267,-0.15021743991051584,-0.14408992434116263,-0.16848259341387406,-0.1782390121374512,-0.1753152367595855,-0.15983932874193718,-0.1612312083332652,-0.14758307859769737,-0.1496699673996711,-0.1452577983978044,-0.1551208269572798,-0.13090291888641525,-0.12209650644268266,-0.11655221684771622,-0.12120494277112548,-0.10971604647020416,-0.08863196285966468,-0.0919692009295755,-0.10616372433163135,-0.09129368234518231,-0.08943631845377953,-0.0675516062690068,-0.06342730807311758,-0.05967357231127679,-0.0818815739842681,-0.08324480799879319,-0.08485651620866319,-0.07147003978068167,-0.08566219490900451,-0.08279109458871958,-0.09066691904106516,-0.0986412550214878,-0.09100624449129657,-0.09228110633704045,-0.11013688271043776,-0.12046303145628467,-0.11141945460280545,-0.10470325066534714,-0.11947762611018709,-0.11612287973244773,-0.11488447224930332,-0.10294093843005281,-0.10419004398589804,-0.09735691177475314,-0.08944748121561996,-0.06956988454295021,-0.067275714799227,-0.05023578666265227,-0.0494349798050665,-0.03968357648845844,-0.02576725279635006,-0.05376822888072175,-0.06020155213891376,-0.05318388091792592,-0.05748403165571425,-0.04312183361573185,-0.020602484377581276,-0.03174285370681562,-0.04459550925434996,-0.06375858949185365,-0.02877019315570306,0.016434451121574156,0.031091648030238783,0.07285076257711864,0.1125237297566386,0.06315005303833021,-0.021696598186322413,-0.02200275243608274,-0.025448302782672627,-0.0618334220077289,-0.0734623341522892,-0.07906262370252026,-0.06428754730207464,-0.06213178406314879,-0.0588757307590676,-0.051559134872743995,-0.06070548359718131,-0.061145651547528934,-0.08318021845253853,-0.056666074219746454,-0.04574366661034457,-0.06758501694075025,-0.05667821082811764,-0.06294763339583209,-0.06052065215721969,-0.048380975099931556,-0.06944612887946389,-0.09020272917828354,-0.0877076467992387,-0.09721455662539646,-0.10033530088247977,-0.12011246402347742,-0.11342099825819851,-0.09366189918414503,-0.10923323775090932,-0.1323803561737359,-0.10108895649396221,-0.0959711899955703,-0.1066223812377608,-0.09714666526645677,-0.07781491285548103,-0.08743230251262835,-0.08731222015569107,-0.08820190708959308,-0.08558671955655495,-0.07457328424334331,-0.07135848405444112,-0.06525488181686523,-0.082177967830114,-0.08546662980218267,-0.10431360354965025,-0.1194593110315254,-0.12224092810329601,-0.12912304474748515,-0.1280261563751255,-0.12138416453689349,-0.12378665138325795,-0.11036735182232105,-0.10188954930490257,-0.10008320996428843,-0.09635093598477218,-0.08925557374922555,-0.0902779700021612,-0.0821848875351755,-0.07748160635976309,-0.0815198573516085,-0.08819956710811339,-0.08308701085208514,-0.0899397674169754,-0.09270350087616996,-0.09479487796622454,-0.0870498977016535,-0.08042273784932319,-0.06881355928833088,-0.0723424578592814,-0.06667395345490834,-0.06431110903171411,-0.06264601358860566,-0.06455749339734296,-0.05913562466966338,-0.05764513116741066,-0.04505865020245259,-0.045071579380360105,-0.03227710518765792,-0.03251779718617487,-0.03358170847783515,-0.027284320018726493,-0.05262513527971924,-0.04961907780264807,-0.05711666803617532,-0.07547915175732545,-0.07422037245245328,-0.08740839437892522,-0.07938325142915326,-0.09190022314970447,-0.1005271784218097,-0.10729785807479064,-0.11091138989937332,-0.10896047405589437,-0.09887346138985065,-0.09815339848821103,-0.09699334906893531,-0.09589506638769674,-0.08802213076001697,-0.09499874504768357,-0.09983689352632708,-0.09182423073267632,-0.08187352638358403,-0.06342983522390044,-0.06744097698554452,-0.0603768340225449,-0.04287642195756991,-0.03732073302540195,-0.03047185607432812,-0.030879335282663622,-0.021261261566519973,-0.04055516538534065,-0.037037322424147257,-0.04780630166787536,-0.04485515840480292,-0.057164124361447355,-0.05235504072911701,-0.05022440334542988,-0.04435584972776496,-0.03477443381692147,-0.0359806420883908,-0.03763344976263605,-0.032351789934910724,-0.04225725656614665,-0.06167134940429564,-0.07626000679093159,-0.08351749334309833,-0.09249497845842114,-0.0938997833957752,-0.10174636835672268,-0.11319534810175425,-0.11588950476744275,-0.12753241017989003,-0.11727959074379801,-0.11255318075032994,-0.10431826712574588,-0.07932146733624423,-0.06814158202768406,-0.07230607495550878,-0.07993789931738671,-0.11502082021611326,-0.12435773396427396],\"marker\":{},\"line\":{},\"name\":\"Long-Short\"},{\"type\":\"scatter\",\"mode\":\"lines\",\"x\":[\"2000-02-01T00:00:00\",\"2000-03-01T00:00:00\",\"2000-04-01T00:00:00\",\"2000-05-01T00:00:00\",\"2000-06-01T00:00:00\",\"2000-07-01T00:00:00\",\"2000-08-01T00:00:00\",\"2000-09-01T00:00:00\",\"2000-10-01T00:00:00\",\"2000-11-01T00:00:00\",\"2000-12-01T00:00:00\",\"2001-01-01T00:00:00\",\"2001-02-01T00:00:00\",\"2001-03-01T00:00:00\",\"2001-04-01T00:00:00\",\"2001-05-01T00:00:00\",\"2001-06-01T00:00:00\",\"2001-07-01T00:00:00\",\"2001-08-01T00:00:00\",\"2001-09-01T00:00:00\",\"2001-10-01T00:00:00\",\"2001-11-01T00:00:00\",\"2001-12-01T00:00:00\",\"2002-01-01T00:00:00\",\"2002-02-01T00:00:00\",\"2002-03-01T00:00:00\",\"2002-04-01T00:00:00\",\"2002-05-01T00:00:00\",\"2002-06-01T00:00:00\",\"2002-07-01T00:00:00\",\"2002-08-01T00:00:00\",\"2002-09-01T00:00:00\",\"2002-10-01T00:00:00\",\"2002-11-01T00:00:00\",\"2002-12-01T00:00:00\",\"2003-01-01T00:00:00\",\"2003-02-01T00:00:00\",\"2003-03-01T00:00:00\",\"2003-04-01T00:00:00\",\"2003-05-01T00:00:00\",\"2003-06-01T00:00:00\",\"2003-07-01T00:00:00\",\"2003-08-01T00:00:00\",\"2003-09-01T00:00:00\",\"2003-10-01T00:00:00\",\"2003-11-01T00:00:00\",\"2003-12-01T00:00:00\",\"2004-01-01T00:00:00\",\"2004-02-01T00:00:00\",\"2004-03-01T00:00:00\",\"2004-04-01T00:00:00\",\"2004-05-01T00:00:00\",\"2004-06-01T00:00:00\",\"2004-07-01T00:00:00\",\"2004-08-01T00:00:00\",\"2004-09-01T00:00:00\",\"2004-10-01T00:00:00\",\"2004-11-01T00:00:00\",\"2004-12-01T00:00:00\",\"2005-01-01T00:00:00\",\"2005-02-01T00:00:00\",\"2005-03-01T00:00:00\",\"2005-04-01T00:00:00\",\"2005-05-01T00:00:00\",\"2005-06-01T00:00:00\",\"2005-07-01T00:00:00\",\"2005-08-01T00:00:00\",\"2005-09-01T00:00:00\",\"2005-10-01T00:00:00\",\"2005-11-01T00:00:00\",\"2005-12-01T00:00:00\",\"2006-01-01T00:00:00\",\"2006-02-01T00:00:00\",\"2006-03-01T00:00:00\",\"2006-04-01T00:00:00\",\"2006-05-01T00:00:00\",\"2006-06-01T00:00:00\",\"2006-07-01T00:00:00\",\"2006-08-01T00:00:00\",\"2006-09-01T00:00:00\",\"2006-10-01T00:00:00\",\"2006-11-01T00:00:00\",\"2006-12-01T00:00:00\",\"2007-01-01T00:00:00\",\"2007-02-01T00:00:00\",\"2007-03-01T00:00:00\",\"2007-04-01T00:00:00\",\"2007-05-01T00:00:00\",\"2007-06-01T00:00:00\",\"2007-07-01T00:00:00\",\"2007-08-01T00:00:00\",\"2007-09-01T00:00:00\",\"2007-10-01T00:00:00\",\"2007-11-01T00:00:00\",\"2007-12-01T00:00:00\",\"2008-01-01T00:00:00\",\"2008-02-01T00:00:00\",\"2008-03-01T00:00:00\",\"2008-04-01T00:00:00\",\"2008-05-01T00:00:00\",\"2008-06-01T00:00:00\",\"2008-07-01T00:00:00\",\"2008-08-01T00:00:00\",\"2008-09-01T00:00:00\",\"2008-10-01T00:00:00\",\"2008-11-01T00:00:00\",\"2008-12-01T00:00:00\",\"2009-01-01T00:00:00\",\"2009-02-01T00:00:00\",\"2009-03-01T00:00:00\",\"2009-04-01T00:00:00\",\"2009-05-01T00:00:00\",\"2009-06-01T00:00:00\",\"2009-07-01T00:00:00\",\"2009-08-01T00:00:00\",\"2009-09-01T00:00:00\",\"2009-10-01T00:00:00\",\"2009-11-01T00:00:00\",\"2009-12-01T00:00:00\",\"2010-01-01T00:00:00\",\"2010-02-01T00:00:00\",\"2010-03-01T00:00:00\",\"2010-04-01T00:00:00\",\"2010-05-01T00:00:00\",\"2010-06-01T00:00:00\",\"2010-07-01T00:00:00\",\"2010-08-01T00:00:00\",\"2010-09-01T00:00:00\",\"2010-10-01T00:00:00\",\"2010-11-01T00:00:00\",\"2010-12-01T00:00:00\",\"2011-01-01T00:00:00\",\"2011-02-01T00:00:00\",\"2011-03-01T00:00:00\",\"2011-04-01T00:00:00\",\"2011-05-01T00:00:00\",\"2011-06-01T00:00:00\",\"2011-07-01T00:00:00\",\"2011-08-01T00:00:00\",\"2011-09-01T00:00:00\",\"2011-10-01T00:00:00\",\"2011-11-01T00:00:00\",\"2011-12-01T00:00:00\",\"2012-01-01T00:00:00\",\"2012-02-01T00:00:00\",\"2012-03-01T00:00:00\",\"2012-04-01T00:00:00\",\"2012-05-01T00:00:00\",\"2012-06-01T00:00:00\",\"2012-07-01T00:00:00\",\"2012-08-01T00:00:00\",\"2012-09-01T00:00:00\",\"2012-10-01T00:00:00\",\"2012-11-01T00:00:00\",\"2012-12-01T00:00:00\",\"2013-01-01T00:00:00\",\"2013-02-01T00:00:00\",\"2013-03-01T00:00:00\",\"2013-04-01T00:00:00\",\"2013-05-01T00:00:00\",\"2013-06-01T00:00:00\",\"2013-07-01T00:00:00\",\"2013-08-01T00:00:00\",\"2013-09-01T00:00:00\",\"2013-10-01T00:00:00\",\"2013-11-01T00:00:00\",\"2013-12-01T00:00:00\",\"2014-01-01T00:00:00\",\"2014-02-01T00:00:00\",\"2014-03-01T00:00:00\",\"2014-04-01T00:00:00\",\"2014-05-01T00:00:00\",\"2014-06-01T00:00:00\",\"2014-07-01T00:00:00\",\"2014-08-01T00:00:00\",\"2014-09-01T00:00:00\",\"2014-10-01T00:00:00\",\"2014-11-01T00:00:00\",\"2014-12-01T00:00:00\",\"2015-01-01T00:00:00\",\"2015-02-01T00:00:00\",\"2015-03-01T00:00:00\",\"2015-04-01T00:00:00\",\"2015-05-01T00:00:00\",\"2015-06-01T00:00:00\",\"2015-07-01T00:00:00\",\"2015-08-01T00:00:00\",\"2015-09-01T00:00:00\",\"2015-10-01T00:00:00\",\"2015-11-01T00:00:00\",\"2015-12-01T00:00:00\",\"2016-01-01T00:00:00\",\"2016-02-01T00:00:00\",\"2016-03-01T00:00:00\",\"2016-04-01T00:00:00\",\"2016-05-01T00:00:00\",\"2016-06-01T00:00:00\",\"2016-07-01T00:00:00\",\"2016-08-01T00:00:00\",\"2016-09-01T00:00:00\",\"2016-10-01T00:00:00\",\"2016-11-01T00:00:00\",\"2016-12-01T00:00:00\",\"2017-01-01T00:00:00\",\"2017-02-01T00:00:00\",\"2017-03-01T00:00:00\",\"2017-04-01T00:00:00\",\"2017-05-01T00:00:00\",\"2017-06-01T00:00:00\",\"2017-07-01T00:00:00\",\"2017-08-01T00:00:00\",\"2017-09-01T00:00:00\",\"2017-10-01T00:00:00\",\"2017-11-01T00:00:00\",\"2017-12-01T00:00:00\",\"2018-01-01T00:00:00\",\"2018-02-01T00:00:00\",\"2018-03-01T00:00:00\",\"2018-04-01T00:00:00\",\"2018-05-01T00:00:00\",\"2018-06-01T00:00:00\",\"2018-07-01T00:00:00\",\"2018-08-01T00:00:00\",\"2018-09-01T00:00:00\",\"2018-10-01T00:00:00\",\"2018-11-01T00:00:00\",\"2018-12-01T00:00:00\",\"2019-01-01T00:00:00\",\"2019-02-01T00:00:00\",\"2019-03-01T00:00:00\",\"2019-04-01T00:00:00\",\"2019-05-01T00:00:00\",\"2019-06-01T00:00:00\",\"2019-07-01T00:00:00\",\"2019-08-01T00:00:00\",\"2019-09-01T00:00:00\",\"2019-10-01T00:00:00\",\"2019-11-01T00:00:00\",\"2019-12-01T00:00:00\",\"2020-01-01T00:00:00\",\"2020-02-01T00:00:00\",\"2020-03-01T00:00:00\",\"2020-04-01T00:00:00\",\"2020-05-01T00:00:00\",\"2020-06-01T00:00:00\",\"2020-07-01T00:00:00\",\"2020-08-01T00:00:00\",\"2020-09-01T00:00:00\",\"2020-10-01T00:00:00\",\"2020-11-01T00:00:00\",\"2020-12-01T00:00:00\"],\"y\":[0.020200000000000003,0.0684554599999998,-0.004840584556000227,-0.05380242779584499,-0.01368365073438882,-0.04317450957743063,0.019306194947163124,-0.04144445427168775,-0.07326849838986771,-0.17734044602068566,-0.17166409509822844,-0.15021019516127254,-0.23884327180595188,-0.29730010853125477,-0.24424626672536454,-0.241223251792266,-0.2580680956024777,-0.2760970408793375,-0.3251052712118063,-0.3894227388653212,-0.3757458082159044,-0.32973827428141655,-0.32001947925849716,-0.3307631714862129,-0.3469587027362466,-0.32011870541870646,-0.3564923546788057,-0.3662736708876878,-0.4127891834445315,-0.461703844463602,-0.45976597830367094,-0.5164365271796159,-0.4792021397724463,-0.44878754473515714,-0.48114371585920335,-0.49499717864576254,-0.5049457342264411,-0.5000446969952828,-0.45944832639129973,-0.4272314466442212,-0.41967090173992483,-0.4064393982995952,-0.3929655726409961,-0.40097842708213494,-0.36497723054977127,-0.3568489391008084,-0.3297722794369524,-0.3158315428492411,-0.3066636855234208,-0.3164397275575406,-0.3294957287611916,-0.3220531313504409,-0.3099856770884787,-0.3386902729215979,-0.33888866583972144,-0.3290381069607333,-0.3201814099726149,-0.2903373738704127,-0.2671314059959752,-0.2885311689408927,-0.2762227581635701,-0.29200110203560437,-0.3119666709582003,-0.28850473443787494,-0.2860856505349637,-0.25981360247465046,-0.27106443571703576,-0.2696065645884699,-0.28633257425939396,-0.262781549209954,-0.26698369437945724,-0.2472655557582647,-0.2520830562014118,-0.24393076151400728,-0.24113330533160904,-0.2714879731183447,-0.2769518133199571,-0.2854837819227817,-0.2739800708117385,-0.26359798582434635,-0.24283144902459286,-0.23306397471701013,-0.22945937539818018,-0.22206218540200262,-0.24026593026359577,-0.23836659508925484,-0.21513677623947713,-0.19292514700705432,-0.21197211353768786,-0.24451766524858132,-0.24074025357482431,-0.2187217209284943,-0.20715880239823603,-0.2481486923142472,-0.2567197972218648,-0.3055533065443883,-0.327914490073659,-0.33530743068284874,-0.30592801911903067,-0.2942676098402305,-0.35503116863298656,-0.36096488188156306,-0.35201839022790493,-0.4128638633855046,-0.5144971286334739,-0.5528033051842928,-0.5450220826944994,-0.581966289579706,-0.6242294977031977,-0.5906731918480932,-0.5490446554590442,-0.5255498820084604,-0.523557191512896,-0.4868234509785403,-0.4697859895510279,-0.44820627932575474,-0.46249773669121774,-0.43261261085124936,-0.41706619638857356,-0.4366527721899175,-0.4174989664443747,-0.3808014013303703,-0.36847934921684466,-0.41836948062871393,-0.4508244636096317,-0.4128215164914183,-0.44088864800312844,-0.38760533615782666,-0.36390566266713453,-0.36015270607687067,-0.31657910536070555,-0.3030473716468475,-0.27879342018015785,-0.27554799057096857,-0.25453888229752675,-0.26400623849234817,-0.276886129318732,-0.2938793052797418,-0.3362465469629573,-0.38662543404846883,-0.31700742081297006,-0.3189198000346938,-0.3138798065549505,-0.27923073678597554,-0.24737273535191562,-0.2239660274213603,-0.23056231618827872,-0.2782674525846055,-0.25019205649014675,-0.24426857373641886,-0.2250729955093238,-0.20399498098717728,-0.21808426982370432,-0.21206351870134676,-0.2028446618701525,-0.1584431095363199,-0.14758702564933845,-0.1132347827830068,-0.09948992191614336,-0.07427563972979534,-0.08538433205303786,-0.03370854681403446,-0.05989504519537414,-0.024453088399239653,0.016324772505672103,0.04813573788509973,0.07758835211967097,0.04181241882929787,0.0902566963048601,0.094944800098971,0.09286440497878301,0.11537741172134597,0.14448876216727302,0.12114119141906077,0.16867757793522897,0.14565462964990483,0.1745251263170824,0.20447551703816802,0.20375283172794512,0.1663161186612061,0.237811296735138,0.2239478102117045,0.23116910229195353,0.24791300208312417,0.22881993315125237,0.2477437601217818,0.17238003701042626,0.13638796987420632,0.22445803753945714,0.23131500254967818,0.20447233549409516,0.13485383450253652,0.13383246605148424,0.21252043919545716,0.22343312314821606,0.24508788942793958,0.24421632790533998,0.2931140295920196,0.299191665531102,0.3021798063618235,0.2756153383120423,0.3374826822201764,0.3612898739636956,0.3871543815690057,0.4361209312383916,0.43813150054212535,0.45308806814776337,0.46761894882924104,0.47818580526081167,0.5047931497555063,0.5058465049603349,0.542287990380375,0.5756014109725911,0.6234996938661579,0.6392476408966596,0.728914486853707,0.6639073021480077,0.6228087917849521,0.6252430049726296,0.6660366043974424,0.6717011288523937,0.7223536730566213,0.7788468735328784,0.7772459113466987,0.6373766581237135,0.6621010456613814,0.5002124038139628,0.623229820926708,0.675497821160548,0.6907448513331091,0.7543168577432342,0.628883202414593,0.7388328185775779,0.7562211467633537,0.7081006873420379,0.7294519459338134,0.7626574232957428,0.8287570766693333,0.8768533877857367,0.8725366249938296,0.7180523534318386,0.48611528571854046,0.6889700222191213,0.7830456524567264,0.8267302709419162,0.9319499345481708,1.0791645195607416,1.0034829310487305,0.9612094412036023,1.2055761375775713,1.307473755133655],\"marker\":{},\"line\":{},\"name\":\"Mkt-Rf\"}];\r\n",
       "            var layout = {\"width\":600,\"height\":600,\"template\":{\"layout\":{\"title\":{\"x\":0.05},\"font\":{\"color\":\"rgba(42, 63, 95, 1.0)\"},\"paper_bgcolor\":\"rgba(255, 255, 255, 1.0)\",\"plot_bgcolor\":\"rgba(229, 236, 246, 1.0)\",\"autotypenumbers\":\"strict\",\"colorscale\":{\"diverging\":[[0.0,\"#8e0152\"],[0.1,\"#c51b7d\"],[0.2,\"#de77ae\"],[0.3,\"#f1b6da\"],[0.4,\"#fde0ef\"],[0.5,\"#f7f7f7\"],[0.6,\"#e6f5d0\"],[0.7,\"#b8e186\"],[0.8,\"#7fbc41\"],[0.9,\"#4d9221\"],[1.0,\"#276419\"]],\"sequential\":[[0.0,\"#0d0887\"],[0.1111111111111111,\"#46039f\"],[0.2222222222222222,\"#7201a8\"],[0.3333333333333333,\"#9c179e\"],[0.4444444444444444,\"#bd3786\"],[0.5555555555555556,\"#d8576b\"],[0.6666666666666666,\"#ed7953\"],[0.7777777777777778,\"#fb9f3a\"],[0.8888888888888888,\"#fdca26\"],[1.0,\"#f0f921\"]],\"sequentialminus\":[[0.0,\"#0d0887\"],[0.1111111111111111,\"#46039f\"],[0.2222222222222222,\"#7201a8\"],[0.3333333333333333,\"#9c179e\"],[0.4444444444444444,\"#bd3786\"],[0.5555555555555556,\"#d8576b\"],[0.6666666666666666,\"#ed7953\"],[0.7777777777777778,\"#fb9f3a\"],[0.8888888888888888,\"#fdca26\"],[1.0,\"#f0f921\"]]},\"hovermode\":\"closest\",\"hoverlabel\":{\"align\":\"left\"},\"coloraxis\":{\"colorbar\":{\"outlinewidth\":0.0,\"ticks\":\"\"}},\"geo\":{\"showland\":true,\"landcolor\":\"rgba(229, 236, 246, 1.0)\",\"showlakes\":true,\"lakecolor\":\"rgba(255, 255, 255, 1.0)\",\"subunitcolor\":\"rgba(255, 255, 255, 1.0)\",\"bgcolor\":\"rgba(255, 255, 255, 1.0)\"},\"mapbox\":{\"style\":\"light\"},\"polar\":{\"bgcolor\":\"rgba(229, 236, 246, 1.0)\",\"radialaxis\":{\"linecolor\":\"rgba(255, 255, 255, 1.0)\",\"gridcolor\":\"rgba(255, 255, 255, 1.0)\",\"ticks\":\"\"},\"angularaxis\":{\"linecolor\":\"rgba(255, 255, 255, 1.0)\",\"gridcolor\":\"rgba(255, 255, 255, 1.0)\",\"ticks\":\"\"}},\"scene\":{\"xaxis\":{\"ticks\":\"\",\"linecolor\":\"rgba(255, 255, 255, 1.0)\",\"gridcolor\":\"rgba(255, 255, 255, 1.0)\",\"gridwidth\":2.0,\"zerolinecolor\":\"rgba(255, 255, 255, 1.0)\",\"backgroundcolor\":\"rgba(229, 236, 246, 1.0)\",\"showbackground\":true},\"yaxis\":{\"ticks\":\"\",\"linecolor\":\"rgba(255, 255, 255, 1.0)\",\"gridcolor\":\"rgba(255, 255, 255, 1.0)\",\"gridwidth\":2.0,\"zerolinecolor\":\"rgba(255, 255, 255, 1.0)\",\"backgroundcolor\":\"rgba(229, 236, 246, 1.0)\",\"showbackground\":true},\"zaxis\":{\"ticks\":\"\",\"linecolor\":\"rgba(255, 255, 255, 1.0)\",\"gridcolor\":\"rgba(255, 255, 255, 1.0)\",\"gridwidth\":2.0,\"zerolinecolor\":\"rgba(255, 255, 255, 1.0)\",\"backgroundcolor\":\"rgba(229, 236, 246, 1.0)\",\"showbackground\":true}},\"ternary\":{\"aaxis\":{\"ticks\":\"\",\"linecolor\":\"rgba(255, 255, 255, 1.0)\",\"gridcolor\":\"rgba(255, 255, 255, 1.0)\"},\"baxis\":{\"ticks\":\"\",\"linecolor\":\"rgba(255, 255, 255, 1.0)\",\"gridcolor\":\"rgba(255, 255, 255, 1.0)\"},\"caxis\":{\"ticks\":\"\",\"linecolor\":\"rgba(255, 255, 255, 1.0)\",\"gridcolor\":\"rgba(255, 255, 255, 1.0)\"},\"bgcolor\":\"rgba(229, 236, 246, 1.0)\"},\"xaxis\":{\"title\":{\"standoff\":15},\"ticks\":\"\",\"automargin\":true,\"linecolor\":\"rgba(255, 255, 255, 1.0)\",\"gridcolor\":\"rgba(255, 255, 255, 1.0)\",\"zerolinecolor\":\"rgba(255, 255, 255, 1.0)\",\"zerolinewidth\":2.0},\"yaxis\":{\"title\":{\"standoff\":15},\"ticks\":\"\",\"automargin\":true,\"linecolor\":\"rgba(255, 255, 255, 1.0)\",\"gridcolor\":\"rgba(255, 255, 255, 1.0)\",\"zerolinecolor\":\"rgba(255, 255, 255, 1.0)\",\"zerolinewidth\":2.0},\"annotationdefaults\":{\"arrowcolor\":\"#2a3f5f\",\"arrowhead\":0,\"arrowwidth\":1},\"shapedefaults\":{\"line\":{\"color\":\"rgba(42, 63, 95, 1.0)\"}},\"colorway\":[\"rgba(99, 110, 250, 1.0)\",\"rgba(239, 85, 59, 1.0)\",\"rgba(0, 204, 150, 1.0)\",\"rgba(171, 99, 250, 1.0)\",\"rgba(255, 161, 90, 1.0)\",\"rgba(25, 211, 243, 1.0)\",\"rgba(255, 102, 146, 1.0)\",\"rgba(182, 232, 128, 1.0)\",\"rgba(255, 151, 255, 1.0)\",\"rgba(254, 203, 82, 1.0)\"]},\"data\":{\"bar\":[{\"marker\":{\"line\":{\"color\":\"rgba(229, 236, 246, 1.0)\",\"width\":0.5},\"pattern\":{\"fillmode\":\"overlay\",\"size\":10,\"solidity\":0.2}},\"error_x\":{\"color\":\"rgba(42, 63, 95, 1.0)\"},\"error_y\":{\"color\":\"rgba(42, 63, 95, 1.0)\"}}],\"barpolar\":[{\"marker\":{\"line\":{\"color\":\"rgba(229, 236, 246, 1.0)\",\"width\":0.5},\"pattern\":{\"fillmode\":\"overlay\",\"size\":10,\"solidity\":0.2}}}],\"carpet\":[{\"aaxis\":{\"linecolor\":\"rgba(255, 255, 255, 1.0)\",\"gridcolor\":\"rgba(255, 255, 255, 1.0)\",\"endlinecolor\":\"rgba(42, 63, 95, 1.0)\",\"minorgridcolor\":\"rgba(255, 255, 255, 1.0)\",\"startlinecolor\":\"rgba(42, 63, 95, 1.0)\"},\"baxis\":{\"linecolor\":\"rgba(255, 255, 255, 1.0)\",\"gridcolor\":\"rgba(255, 255, 255, 1.0)\",\"endlinecolor\":\"rgba(42, 63, 95, 1.0)\",\"minorgridcolor\":\"rgba(255, 255, 255, 1.0)\",\"startlinecolor\":\"rgba(42, 63, 95, 1.0)\"}}],\"choropleth\":[{\"colorbar\":{\"outlinewidth\":0.0,\"ticks\":\"\"},\"colorscale\":[[0.0,\"#0d0887\"],[0.1111111111111111,\"#46039f\"],[0.2222222222222222,\"#7201a8\"],[0.3333333333333333,\"#9c179e\"],[0.4444444444444444,\"#bd3786\"],[0.5555555555555556,\"#d8576b\"],[0.6666666666666666,\"#ed7953\"],[0.7777777777777778,\"#fb9f3a\"],[0.8888888888888888,\"#fdca26\"],[1.0,\"#f0f921\"]]}],\"contour\":[{\"colorbar\":{\"outlinewidth\":0.0,\"ticks\":\"\"},\"colorscale\":[[0.0,\"#0d0887\"],[0.1111111111111111,\"#46039f\"],[0.2222222222222222,\"#7201a8\"],[0.3333333333333333,\"#9c179e\"],[0.4444444444444444,\"#bd3786\"],[0.5555555555555556,\"#d8576b\"],[0.6666666666666666,\"#ed7953\"],[0.7777777777777778,\"#fb9f3a\"],[0.8888888888888888,\"#fdca26\"],[1.0,\"#f0f921\"]]}],\"contourcarpet\":[{\"colorbar\":{\"outlinewidth\":0.0,\"ticks\":\"\"}}],\"heatmap\":[{\"colorbar\":{\"outlinewidth\":0.0,\"ticks\":\"\"},\"colorscale\":[[0.0,\"#0d0887\"],[0.1111111111111111,\"#46039f\"],[0.2222222222222222,\"#7201a8\"],[0.3333333333333333,\"#9c179e\"],[0.4444444444444444,\"#bd3786\"],[0.5555555555555556,\"#d8576b\"],[0.6666666666666666,\"#ed7953\"],[0.7777777777777778,\"#fb9f3a\"],[0.8888888888888888,\"#fdca26\"],[1.0,\"#f0f921\"]]}],\"heatmapgl\":[{\"colorbar\":{\"outlinewidth\":0.0,\"ticks\":\"\"},\"colorscale\":[[0.0,\"#0d0887\"],[0.1111111111111111,\"#46039f\"],[0.2222222222222222,\"#7201a8\"],[0.3333333333333333,\"#9c179e\"],[0.4444444444444444,\"#bd3786\"],[0.5555555555555556,\"#d8576b\"],[0.6666666666666666,\"#ed7953\"],[0.7777777777777778,\"#fb9f3a\"],[0.8888888888888888,\"#fdca26\"],[1.0,\"#f0f921\"]]}],\"histogram\":[{\"marker\":{\"pattern\":{\"fillmode\":\"overlay\",\"size\":10,\"solidity\":0.2}}}],\"histogram2d\":[{\"colorbar\":{\"outlinewidth\":0.0,\"ticks\":\"\"},\"colorscale\":[[0.0,\"#0d0887\"],[0.1111111111111111,\"#46039f\"],[0.2222222222222222,\"#7201a8\"],[0.3333333333333333,\"#9c179e\"],[0.4444444444444444,\"#bd3786\"],[0.5555555555555556,\"#d8576b\"],[0.6666666666666666,\"#ed7953\"],[0.7777777777777778,\"#fb9f3a\"],[0.8888888888888888,\"#fdca26\"],[1.0,\"#f0f921\"]]}],\"histogram2dcontour\":[{\"colorbar\":{\"outlinewidth\":0.0,\"ticks\":\"\"},\"colorscale\":[[0.0,\"#0d0887\"],[0.1111111111111111,\"#46039f\"],[0.2222222222222222,\"#7201a8\"],[0.3333333333333333,\"#9c179e\"],[0.4444444444444444,\"#bd3786\"],[0.5555555555555556,\"#d8576b\"],[0.6666666666666666,\"#ed7953\"],[0.7777777777777778,\"#fb9f3a\"],[0.8888888888888888,\"#fdca26\"],[1.0,\"#f0f921\"]]}],\"mesh3d\":[{\"colorbar\":{\"outlinewidth\":0.0,\"ticks\":\"\"}}],\"parcoords\":[{\"line\":{\"colorbar\":{\"outlinewidth\":0.0,\"ticks\":\"\"}}}],\"pie\":[{\"automargin\":true}],\"scatter\":[{\"marker\":{\"colorbar\":{\"outlinewidth\":0.0,\"ticks\":\"\"}}}],\"scatter3d\":[{\"marker\":{\"colorbar\":{\"outlinewidth\":0.0,\"ticks\":\"\"}},\"line\":{\"colorbar\":{\"outlinewidth\":0.0,\"ticks\":\"\"}}}],\"scattercarpet\":[{\"marker\":{\"colorbar\":{\"outlinewidth\":0.0,\"ticks\":\"\"}}}],\"scattergeo\":[{\"marker\":{\"colorbar\":{\"outlinewidth\":0.0,\"ticks\":\"\"}}}],\"scattergl\":[{\"marker\":{\"colorbar\":{\"outlinewidth\":0.0,\"ticks\":\"\"}}}],\"scattermapbox\":[{\"marker\":{\"colorbar\":{\"outlinewidth\":0.0,\"ticks\":\"\"}}}],\"scatterpolar\":[{\"marker\":{\"colorbar\":{\"outlinewidth\":0.0,\"ticks\":\"\"}}}],\"scatterpolargl\":[{\"marker\":{\"colorbar\":{\"outlinewidth\":0.0,\"ticks\":\"\"}}}],\"scatterternary\":[{\"marker\":{\"colorbar\":{\"outlinewidth\":0.0,\"ticks\":\"\"}}}],\"surface\":[{\"colorbar\":{\"outlinewidth\":0.0,\"ticks\":\"\"},\"colorscale\":[[0.0,\"#0d0887\"],[0.1111111111111111,\"#46039f\"],[0.2222222222222222,\"#7201a8\"],[0.3333333333333333,\"#9c179e\"],[0.4444444444444444,\"#bd3786\"],[0.5555555555555556,\"#d8576b\"],[0.6666666666666666,\"#ed7953\"],[0.7777777777777778,\"#fb9f3a\"],[0.8888888888888888,\"#fdca26\"],[1.0,\"#f0f921\"]]}],\"table\":[{\"cells\":{\"fill\":{\"color\":\"rgba(235, 240, 248, 1.0)\"},\"line\":{\"color\":\"rgba(255, 255, 255, 1.0)\"}},\"header\":{\"fill\":{\"color\":\"rgba(200, 212, 227, 1.0)\"},\"line\":{\"color\":\"rgba(255, 255, 255, 1.0)\"}}}]}},\"legend\":{\"orientation\":\"v\"},\"title\":{\"text\":\"Growth of 1 Euro\"}};\r\n",
       "            var config = {\"responsive\":true};\r\n",
       "            Plotly.newPlot('191fac9e-dbf2-4f57-a4bb-555dce45bf6a', data, layout, config);\r\n",
       "});\r\n",
       "            };\r\n",
       "            if ((typeof(requirejs) !==  typeof(Function)) || (typeof(requirejs.config) !== typeof(Function))) {\r\n",
       "                var script = document.createElement(\"script\");\r\n",
       "                script.setAttribute(\"src\", \"https://cdnjs.cloudflare.com/ajax/libs/require.js/2.3.6/require.min.js\");\r\n",
       "                script.onload = function(){\r\n",
       "                    renderPlotly_191fac9edbf24f57a4bb555dce45bf6a();\r\n",
       "                };\r\n",
       "                document.getElementsByTagName(\"head\")[0].appendChild(script);\r\n",
       "            }\r\n",
       "            else {\r\n",
       "                renderPlotly_191fac9edbf24f57a4bb555dce45bf6a();\r\n",
       "            }\r\n",
       "</script>\r\n",
       "\r\n",
       "    \r\n",
       "</div    \r\n"
      ]
     },
     "metadata": {},
     "output_type": "display_data"
    }
   ],
   "source": [
    "//Standard portfolios plot\n",
    "combinedChart"
   ]
  },
  {
   "cell_type": "code",
   "execution_count": null,
   "metadata": {
    "dotnet_interactive": {
     "language": "fsharp"
    },
    "vscode": {
     "languageId": "dotnet-interactive.fsharp"
    }
   },
   "outputs": [
    {
     "data": {
      "text/html": [
       "\r\n",
       "<div>\r\n",
       "    <div id=\"834be408-fd5d-4eeb-a927-61ed39c08c5c\"><!-- Plotly chart will be drawn inside this DIV --></div>\r\n",
       "<script type=\"text/javascript\">\r\n",
       "\r\n",
       "            var renderPlotly_834be408fd5d4eeba92761ed39c08c5c = function() {\r\n",
       "            var fsharpPlotlyRequire = requirejs.config({context:'fsharp-plotly',paths:{plotly:'https://cdn.plot.ly/plotly-2.6.3.min'}}) || require;\r\n",
       "            fsharpPlotlyRequire(['plotly'], function(Plotly) {\r\n",
       "\r\n",
       "            var data = [{\"type\":\"scatter\",\"mode\":\"lines\",\"x\":[\"2000-02-01T00:00:00\",\"2000-03-01T00:00:00\",\"2000-04-01T00:00:00\",\"2000-05-01T00:00:00\",\"2000-06-01T00:00:00\",\"2000-07-01T00:00:00\",\"2000-08-01T00:00:00\",\"2000-09-01T00:00:00\",\"2000-10-01T00:00:00\",\"2000-11-01T00:00:00\",\"2000-12-01T00:00:00\",\"2001-01-01T00:00:00\",\"2001-02-01T00:00:00\",\"2001-03-01T00:00:00\",\"2001-04-01T00:00:00\",\"2001-05-01T00:00:00\",\"2001-06-01T00:00:00\",\"2001-07-01T00:00:00\",\"2001-08-01T00:00:00\",\"2001-09-01T00:00:00\",\"2001-10-01T00:00:00\",\"2001-11-01T00:00:00\",\"2001-12-01T00:00:00\",\"2002-01-01T00:00:00\",\"2002-02-01T00:00:00\",\"2002-03-01T00:00:00\",\"2002-04-01T00:00:00\",\"2002-05-01T00:00:00\",\"2002-06-01T00:00:00\",\"2002-07-01T00:00:00\",\"2002-08-01T00:00:00\",\"2002-09-01T00:00:00\",\"2002-10-01T00:00:00\",\"2002-11-01T00:00:00\",\"2002-12-01T00:00:00\",\"2003-01-01T00:00:00\",\"2003-02-01T00:00:00\",\"2003-03-01T00:00:00\",\"2003-04-01T00:00:00\",\"2003-05-01T00:00:00\",\"2003-06-01T00:00:00\",\"2003-07-01T00:00:00\",\"2003-08-01T00:00:00\",\"2003-09-01T00:00:00\",\"2003-10-01T00:00:00\",\"2003-11-01T00:00:00\",\"2003-12-01T00:00:00\",\"2004-01-01T00:00:00\",\"2004-02-01T00:00:00\",\"2004-03-01T00:00:00\",\"2004-04-01T00:00:00\",\"2004-05-01T00:00:00\",\"2004-06-01T00:00:00\",\"2004-07-01T00:00:00\",\"2004-08-01T00:00:00\",\"2004-09-01T00:00:00\",\"2004-10-01T00:00:00\",\"2004-11-01T00:00:00\",\"2004-12-01T00:00:00\",\"2005-01-01T00:00:00\",\"2005-02-01T00:00:00\",\"2005-03-01T00:00:00\",\"2005-04-01T00:00:00\",\"2005-05-01T00:00:00\",\"2005-06-01T00:00:00\",\"2005-07-01T00:00:00\",\"2005-08-01T00:00:00\",\"2005-09-01T00:00:00\",\"2005-10-01T00:00:00\",\"2005-11-01T00:00:00\",\"2005-12-01T00:00:00\",\"2006-01-01T00:00:00\",\"2006-02-01T00:00:00\",\"2006-03-01T00:00:00\",\"2006-04-01T00:00:00\",\"2006-05-01T00:00:00\",\"2006-06-01T00:00:00\",\"2006-07-01T00:00:00\",\"2006-08-01T00:00:00\",\"2006-09-01T00:00:00\",\"2006-10-01T00:00:00\",\"2006-11-01T00:00:00\",\"2006-12-01T00:00:00\",\"2007-01-01T00:00:00\",\"2007-02-01T00:00:00\",\"2007-03-01T00:00:00\",\"2007-04-01T00:00:00\",\"2007-05-01T00:00:00\",\"2007-06-01T00:00:00\",\"2007-07-01T00:00:00\",\"2007-08-01T00:00:00\",\"2007-09-01T00:00:00\",\"2007-10-01T00:00:00\",\"2007-11-01T00:00:00\",\"2007-12-01T00:00:00\",\"2008-01-01T00:00:00\",\"2008-02-01T00:00:00\",\"2008-03-01T00:00:00\",\"2008-04-01T00:00:00\",\"2008-05-01T00:00:00\",\"2008-06-01T00:00:00\",\"2008-07-01T00:00:00\",\"2008-08-01T00:00:00\",\"2008-09-01T00:00:00\",\"2008-10-01T00:00:00\",\"2008-11-01T00:00:00\",\"2008-12-01T00:00:00\",\"2009-01-01T00:00:00\",\"2009-02-01T00:00:00\",\"2009-03-01T00:00:00\",\"2009-04-01T00:00:00\",\"2009-05-01T00:00:00\",\"2009-06-01T00:00:00\",\"2009-07-01T00:00:00\",\"2009-08-01T00:00:00\",\"2009-09-01T00:00:00\",\"2009-10-01T00:00:00\",\"2009-11-01T00:00:00\",\"2009-12-01T00:00:00\",\"2010-01-01T00:00:00\",\"2010-02-01T00:00:00\",\"2010-03-01T00:00:00\",\"2010-04-01T00:00:00\",\"2010-05-01T00:00:00\",\"2010-06-01T00:00:00\",\"2010-07-01T00:00:00\",\"2010-08-01T00:00:00\",\"2010-09-01T00:00:00\",\"2010-10-01T00:00:00\",\"2010-11-01T00:00:00\",\"2010-12-01T00:00:00\",\"2011-01-01T00:00:00\",\"2011-02-01T00:00:00\",\"2011-03-01T00:00:00\",\"2011-04-01T00:00:00\",\"2011-05-01T00:00:00\",\"2011-06-01T00:00:00\",\"2011-07-01T00:00:00\",\"2011-08-01T00:00:00\",\"2011-09-01T00:00:00\",\"2011-10-01T00:00:00\",\"2011-11-01T00:00:00\",\"2011-12-01T00:00:00\",\"2012-01-01T00:00:00\",\"2012-02-01T00:00:00\",\"2012-03-01T00:00:00\",\"2012-04-01T00:00:00\",\"2012-05-01T00:00:00\",\"2012-06-01T00:00:00\",\"2012-07-01T00:00:00\",\"2012-08-01T00:00:00\",\"2012-09-01T00:00:00\",\"2012-10-01T00:00:00\",\"2012-11-01T00:00:00\",\"2012-12-01T00:00:00\",\"2013-01-01T00:00:00\",\"2013-02-01T00:00:00\",\"2013-03-01T00:00:00\",\"2013-04-01T00:00:00\",\"2013-05-01T00:00:00\",\"2013-06-01T00:00:00\",\"2013-07-01T00:00:00\",\"2013-08-01T00:00:00\",\"2013-09-01T00:00:00\",\"2013-10-01T00:00:00\",\"2013-11-01T00:00:00\",\"2013-12-01T00:00:00\",\"2014-01-01T00:00:00\",\"2014-02-01T00:00:00\",\"2014-03-01T00:00:00\",\"2014-04-01T00:00:00\",\"2014-05-01T00:00:00\",\"2014-06-01T00:00:00\",\"2014-07-01T00:00:00\",\"2014-08-01T00:00:00\",\"2014-09-01T00:00:00\",\"2014-10-01T00:00:00\",\"2014-11-01T00:00:00\",\"2014-12-01T00:00:00\",\"2015-01-01T00:00:00\",\"2015-02-01T00:00:00\",\"2015-03-01T00:00:00\",\"2015-04-01T00:00:00\",\"2015-05-01T00:00:00\",\"2015-06-01T00:00:00\",\"2015-07-01T00:00:00\",\"2015-08-01T00:00:00\",\"2015-09-01T00:00:00\",\"2015-10-01T00:00:00\",\"2015-11-01T00:00:00\",\"2015-12-01T00:00:00\",\"2016-01-01T00:00:00\",\"2016-02-01T00:00:00\",\"2016-03-01T00:00:00\",\"2016-04-01T00:00:00\",\"2016-05-01T00:00:00\",\"2016-06-01T00:00:00\",\"2016-07-01T00:00:00\",\"2016-08-01T00:00:00\",\"2016-09-01T00:00:00\",\"2016-10-01T00:00:00\",\"2016-11-01T00:00:00\",\"2016-12-01T00:00:00\",\"2017-01-01T00:00:00\",\"2017-02-01T00:00:00\",\"2017-03-01T00:00:00\",\"2017-04-01T00:00:00\",\"2017-05-01T00:00:00\",\"2017-06-01T00:00:00\",\"2017-07-01T00:00:00\",\"2017-08-01T00:00:00\",\"2017-09-01T00:00:00\",\"2017-10-01T00:00:00\",\"2017-11-01T00:00:00\",\"2017-12-01T00:00:00\",\"2018-01-01T00:00:00\",\"2018-02-01T00:00:00\",\"2018-03-01T00:00:00\",\"2018-04-01T00:00:00\",\"2018-05-01T00:00:00\",\"2018-06-01T00:00:00\",\"2018-07-01T00:00:00\",\"2018-08-01T00:00:00\",\"2018-09-01T00:00:00\",\"2018-10-01T00:00:00\",\"2018-11-01T00:00:00\",\"2018-12-01T00:00:00\",\"2019-01-01T00:00:00\",\"2019-02-01T00:00:00\",\"2019-03-01T00:00:00\",\"2019-04-01T00:00:00\",\"2019-05-01T00:00:00\",\"2019-06-01T00:00:00\",\"2019-07-01T00:00:00\",\"2019-08-01T00:00:00\",\"2019-09-01T00:00:00\",\"2019-10-01T00:00:00\",\"2019-11-01T00:00:00\",\"2019-12-01T00:00:00\",\"2020-01-01T00:00:00\",\"2020-02-01T00:00:00\",\"2020-03-01T00:00:00\",\"2020-04-01T00:00:00\",\"2020-05-01T00:00:00\",\"2020-06-01T00:00:00\",\"2020-07-01T00:00:00\",\"2020-08-01T00:00:00\",\"2020-09-01T00:00:00\",\"2020-10-01T00:00:00\",\"2020-11-01T00:00:00\",\"2020-12-01T00:00:00\"],\"y\":[0.027423936422827994,0.07458336679303823,0.030244456576048906,-0.011614312514687364,0.030382729465806113,0.00993875462261351,0.051206961576173216,0.012813876338621633,-0.005098359931145158,-0.07512455541366814,-0.07844347293814846,-0.0518067748011618,-0.12466505539875661,-0.16826655255742906,-0.11885140417004703,-0.11985099965272905,-0.13627151365601098,-0.14672675148011116,-0.18679013758556673,-0.234234949189278,-0.21959537996459422,-0.189606052303954,-0.18131814947355673,-0.19622380657982064,-0.19776343343422242,-0.1749299082296497,-0.1958404174751759,-0.20496398151319217,-0.23521317001362751,-0.27816464393876006,-0.26977459333429255,-0.3056823785303303,-0.2812934445380112,-0.27364134848756994,-0.29160130913783944,-0.3032908596739895,-0.3120261717721905,-0.3039887019509072,-0.27343292055077306,-0.249132039521884,-0.24209325931642944,-0.23082759933125896,-0.21185931125390656,-0.21581628889429516,-0.1861676139819305,-0.17823996584796142,-0.15964227107337448,-0.15031267538576798,-0.14158488872552522,-0.1451914421596594,-0.1546188141946887,-0.1446978735675427,-0.1335286898170539,-0.15636886469664502,-0.16113637062156294,-0.14453591813482514,-0.13345590957140752,-0.10559693620348798,-0.08934168241159468,-0.10222583665994811,-0.08002334122732402,-0.0915117146804495,-0.11260024520772893,-0.08960863722885759,-0.08576337459423011,-0.05822839566207183,-0.06053844518318363,-0.0542157079003871,-0.07692321788954304,-0.05589173524049307,-0.05669365279188676,-0.027844293453013536,-0.03830916663141959,-0.027816481337524235,-0.02674533979341298,-0.05170733680367101,-0.051625831309238146,-0.056705008022644776,-0.05039142125213125,-0.0455941971157674,-0.0212270836923375,-0.0031834814765042685,-0.005768274908517057,0.0035910711772892956,-0.006854689865602226,0.004725586586107777,0.0290767043690332,0.05718560218118651,0.049531773985412864,0.037200165217125436,0.04254189808934128,0.07337191751125105,0.09332299228527097,0.06188231899043761,0.06797448897766256,0.008184949181752277,-0.0019974546707810514,-0.008351026239616699,0.024222493888094165,0.04499988064520677,0.0026545525327978936,-0.01532821310236343,-0.012029641279411307,-0.08987085349967527,-0.18445480492474953,-0.21500599959693611,-0.20216355826354282,-0.2267164378777855,-0.26684608024914636,-0.23293819085201894,-0.19659972768182632,-0.16448804983074916,-0.16579157847974957,-0.13123461190291774,-0.12139817750152027,-0.09814051746320296,-0.10659794902714292,-0.0739589215737112,-0.05342606478272183,-0.07676690904933525,-0.0585353588206986,-0.02091204558533588,-0.013504885942469236,-0.053931298212734124,-0.08219278785615725,-0.04756522584086531,-0.0693222886326641,-0.013528634401748119,0.01502845652074658,0.02539624456904299,0.06221789548867096,0.06839578582458006,0.09976009035339284,0.10390255979187057,0.1236873930144673,0.10789957148576601,0.09697476963180796,0.08722475845990751,0.041502069712577416,-0.023358981393842515,0.05991870155837331,0.05994547833348629,0.05636598812470228,0.0961054853999983,0.13418814406599733,0.14597797846852179,0.1422847539263714,0.09373343769038689,0.1194208880755876,0.12928514028244376,0.15066018877405174,0.171262817762609,0.15218488497374616,0.1573590870615016,0.15791379742143663,0.19406023993573607,0.19983830967993454,0.224510798922543,0.2314311836060705,0.25482272379072146,0.2402029492611195,0.2940732805836288,0.2800390415438043,0.3144000323370908,0.35122033045089807,0.37560923639228116,0.4000136222893105,0.3756692759431519,0.4216465298483627,0.4187661958076798,0.4178179460020195,0.43924156610983367,0.4585743499414048,0.43933121668231445,0.47524318372217333,0.4541163488720612,0.47841293301032417,0.4980526724681449,0.4966436376555279,0.4720031819528894,0.5319639873680708,0.521680386070265,0.5319060437920733,0.5455497403079996,0.5277235591906002,0.5417697681261151,0.48396302855746565,0.4597964962658927,0.5320069991791707,0.5327289337412788,0.5140751701345805,0.4534342714620365,0.45602282189774157,0.5165548274578058,0.5153181234579669,0.5296601654704445,0.5292638070992741,0.5689798783847781,0.5601705952740921,0.5576690352955731,0.5281875442309913,0.5625388608358455,0.578610784723921,0.6080427020419035,0.6400493780460117,0.6472452605392547,0.6585475740295927,0.6765578548141624,0.672729685215133,0.6930792008386863,0.6993566932383033,0.7299781594535573,0.762658632825916,0.7895688544028074,0.8058737748292182,0.8704383051208446,0.8275132295358172,0.8128542316544518,0.8182870766418107,0.849396248352229,0.8468283770628999,0.8839725979987556,0.9046322317761304,0.912819471566547,0.8146808286675071,0.8463995374150155,0.7410394301358108,0.8358935348949299,0.8833747117366191,0.8983248648301132,0.9391570606995079,0.8619900344957658,0.9381376238145755,0.9343619536991128,0.8978194283230527,0.907147139774324,0.9220247480938988,0.9634140934803948,0.9934188626034457,0.9837837586316902,0.8818587378326759,0.7227077378987259,0.8741992467688979,0.9413992237025819,0.9742349234307646,1.0591484693239788,1.1454465737944672,1.0970023109932283,1.0647877752133268,1.2006939098031126,1.24876850320347],\"marker\":{},\"line\":{},\"name\":\"Long Leveraged\"},{\"type\":\"scatter\",\"mode\":\"lines\",\"x\":[\"2000-02-01T00:00:00\",\"2000-03-01T00:00:00\",\"2000-04-01T00:00:00\",\"2000-05-01T00:00:00\",\"2000-06-01T00:00:00\",\"2000-07-01T00:00:00\",\"2000-08-01T00:00:00\",\"2000-09-01T00:00:00\",\"2000-10-01T00:00:00\",\"2000-11-01T00:00:00\",\"2000-12-01T00:00:00\",\"2001-01-01T00:00:00\",\"2001-02-01T00:00:00\",\"2001-03-01T00:00:00\",\"2001-04-01T00:00:00\",\"2001-05-01T00:00:00\",\"2001-06-01T00:00:00\",\"2001-07-01T00:00:00\",\"2001-08-01T00:00:00\",\"2001-09-01T00:00:00\",\"2001-10-01T00:00:00\",\"2001-11-01T00:00:00\",\"2001-12-01T00:00:00\",\"2002-01-01T00:00:00\",\"2002-02-01T00:00:00\",\"2002-03-01T00:00:00\",\"2002-04-01T00:00:00\",\"2002-05-01T00:00:00\",\"2002-06-01T00:00:00\",\"2002-07-01T00:00:00\",\"2002-08-01T00:00:00\",\"2002-09-01T00:00:00\",\"2002-10-01T00:00:00\",\"2002-11-01T00:00:00\",\"2002-12-01T00:00:00\",\"2003-01-01T00:00:00\",\"2003-02-01T00:00:00\",\"2003-03-01T00:00:00\",\"2003-04-01T00:00:00\",\"2003-05-01T00:00:00\",\"2003-06-01T00:00:00\",\"2003-07-01T00:00:00\",\"2003-08-01T00:00:00\",\"2003-09-01T00:00:00\",\"2003-10-01T00:00:00\",\"2003-11-01T00:00:00\",\"2003-12-01T00:00:00\",\"2004-01-01T00:00:00\",\"2004-02-01T00:00:00\",\"2004-03-01T00:00:00\",\"2004-04-01T00:00:00\",\"2004-05-01T00:00:00\",\"2004-06-01T00:00:00\",\"2004-07-01T00:00:00\",\"2004-08-01T00:00:00\",\"2004-09-01T00:00:00\",\"2004-10-01T00:00:00\",\"2004-11-01T00:00:00\",\"2004-12-01T00:00:00\",\"2005-01-01T00:00:00\",\"2005-02-01T00:00:00\",\"2005-03-01T00:00:00\",\"2005-04-01T00:00:00\",\"2005-05-01T00:00:00\",\"2005-06-01T00:00:00\",\"2005-07-01T00:00:00\",\"2005-08-01T00:00:00\",\"2005-09-01T00:00:00\",\"2005-10-01T00:00:00\",\"2005-11-01T00:00:00\",\"2005-12-01T00:00:00\",\"2006-01-01T00:00:00\",\"2006-02-01T00:00:00\",\"2006-03-01T00:00:00\",\"2006-04-01T00:00:00\",\"2006-05-01T00:00:00\",\"2006-06-01T00:00:00\",\"2006-07-01T00:00:00\",\"2006-08-01T00:00:00\",\"2006-09-01T00:00:00\",\"2006-10-01T00:00:00\",\"2006-11-01T00:00:00\",\"2006-12-01T00:00:00\",\"2007-01-01T00:00:00\",\"2007-02-01T00:00:00\",\"2007-03-01T00:00:00\",\"2007-04-01T00:00:00\",\"2007-05-01T00:00:00\",\"2007-06-01T00:00:00\",\"2007-07-01T00:00:00\",\"2007-08-01T00:00:00\",\"2007-09-01T00:00:00\",\"2007-10-01T00:00:00\",\"2007-11-01T00:00:00\",\"2007-12-01T00:00:00\",\"2008-01-01T00:00:00\",\"2008-02-01T00:00:00\",\"2008-03-01T00:00:00\",\"2008-04-01T00:00:00\",\"2008-05-01T00:00:00\",\"2008-06-01T00:00:00\",\"2008-07-01T00:00:00\",\"2008-08-01T00:00:00\",\"2008-09-01T00:00:00\",\"2008-10-01T00:00:00\",\"2008-11-01T00:00:00\",\"2008-12-01T00:00:00\",\"2009-01-01T00:00:00\",\"2009-02-01T00:00:00\",\"2009-03-01T00:00:00\",\"2009-04-01T00:00:00\",\"2009-05-01T00:00:00\",\"2009-06-01T00:00:00\",\"2009-07-01T00:00:00\",\"2009-08-01T00:00:00\",\"2009-09-01T00:00:00\",\"2009-10-01T00:00:00\",\"2009-11-01T00:00:00\",\"2009-12-01T00:00:00\",\"2010-01-01T00:00:00\",\"2010-02-01T00:00:00\",\"2010-03-01T00:00:00\",\"2010-04-01T00:00:00\",\"2010-05-01T00:00:00\",\"2010-06-01T00:00:00\",\"2010-07-01T00:00:00\",\"2010-08-01T00:00:00\",\"2010-09-01T00:00:00\",\"2010-10-01T00:00:00\",\"2010-11-01T00:00:00\",\"2010-12-01T00:00:00\",\"2011-01-01T00:00:00\",\"2011-02-01T00:00:00\",\"2011-03-01T00:00:00\",\"2011-04-01T00:00:00\",\"2011-05-01T00:00:00\",\"2011-06-01T00:00:00\",\"2011-07-01T00:00:00\",\"2011-08-01T00:00:00\",\"2011-09-01T00:00:00\",\"2011-10-01T00:00:00\",\"2011-11-01T00:00:00\",\"2011-12-01T00:00:00\",\"2012-01-01T00:00:00\",\"2012-02-01T00:00:00\",\"2012-03-01T00:00:00\",\"2012-04-01T00:00:00\",\"2012-05-01T00:00:00\",\"2012-06-01T00:00:00\",\"2012-07-01T00:00:00\",\"2012-08-01T00:00:00\",\"2012-09-01T00:00:00\",\"2012-10-01T00:00:00\",\"2012-11-01T00:00:00\",\"2012-12-01T00:00:00\",\"2013-01-01T00:00:00\",\"2013-02-01T00:00:00\",\"2013-03-01T00:00:00\",\"2013-04-01T00:00:00\",\"2013-05-01T00:00:00\",\"2013-06-01T00:00:00\",\"2013-07-01T00:00:00\",\"2013-08-01T00:00:00\",\"2013-09-01T00:00:00\",\"2013-10-01T00:00:00\",\"2013-11-01T00:00:00\",\"2013-12-01T00:00:00\",\"2014-01-01T00:00:00\",\"2014-02-01T00:00:00\",\"2014-03-01T00:00:00\",\"2014-04-01T00:00:00\",\"2014-05-01T00:00:00\",\"2014-06-01T00:00:00\",\"2014-07-01T00:00:00\",\"2014-08-01T00:00:00\",\"2014-09-01T00:00:00\",\"2014-10-01T00:00:00\",\"2014-11-01T00:00:00\",\"2014-12-01T00:00:00\",\"2015-01-01T00:00:00\",\"2015-02-01T00:00:00\",\"2015-03-01T00:00:00\",\"2015-04-01T00:00:00\",\"2015-05-01T00:00:00\",\"2015-06-01T00:00:00\",\"2015-07-01T00:00:00\",\"2015-08-01T00:00:00\",\"2015-09-01T00:00:00\",\"2015-10-01T00:00:00\",\"2015-11-01T00:00:00\",\"2015-12-01T00:00:00\",\"2016-01-01T00:00:00\",\"2016-02-01T00:00:00\",\"2016-03-01T00:00:00\",\"2016-04-01T00:00:00\",\"2016-05-01T00:00:00\",\"2016-06-01T00:00:00\",\"2016-07-01T00:00:00\",\"2016-08-01T00:00:00\",\"2016-09-01T00:00:00\",\"2016-10-01T00:00:00\",\"2016-11-01T00:00:00\",\"2016-12-01T00:00:00\",\"2017-01-01T00:00:00\",\"2017-02-01T00:00:00\",\"2017-03-01T00:00:00\",\"2017-04-01T00:00:00\",\"2017-05-01T00:00:00\",\"2017-06-01T00:00:00\",\"2017-07-01T00:00:00\",\"2017-08-01T00:00:00\",\"2017-09-01T00:00:00\",\"2017-10-01T00:00:00\",\"2017-11-01T00:00:00\",\"2017-12-01T00:00:00\",\"2018-01-01T00:00:00\",\"2018-02-01T00:00:00\",\"2018-03-01T00:00:00\",\"2018-04-01T00:00:00\",\"2018-05-01T00:00:00\",\"2018-06-01T00:00:00\",\"2018-07-01T00:00:00\",\"2018-08-01T00:00:00\",\"2018-09-01T00:00:00\",\"2018-10-01T00:00:00\",\"2018-11-01T00:00:00\",\"2018-12-01T00:00:00\",\"2019-01-01T00:00:00\",\"2019-02-01T00:00:00\",\"2019-03-01T00:00:00\",\"2019-04-01T00:00:00\",\"2019-05-01T00:00:00\",\"2019-06-01T00:00:00\",\"2019-07-01T00:00:00\",\"2019-08-01T00:00:00\",\"2019-09-01T00:00:00\",\"2019-10-01T00:00:00\",\"2019-11-01T00:00:00\",\"2019-12-01T00:00:00\",\"2020-01-01T00:00:00\",\"2020-02-01T00:00:00\",\"2020-03-01T00:00:00\",\"2020-04-01T00:00:00\",\"2020-05-01T00:00:00\",\"2020-06-01T00:00:00\",\"2020-07-01T00:00:00\",\"2020-08-01T00:00:00\",\"2020-09-01T00:00:00\",\"2020-10-01T00:00:00\",\"2020-11-01T00:00:00\",\"2020-12-01T00:00:00\"],\"y\":[0.09350151329115047,0.12521039347575647,0.05702492633562595,-0.014629994586033979,0.05948322878021006,0.06827751448177932,0.08729855351448035,0.027358057964011806,-0.013659108322401803,-0.057443325817733704,-0.10663530538935517,-0.09869780840954623,-0.18353024891763958,-0.20038092405325214,-0.15340206472893225,-0.1727272039874237,-0.19190925737538012,-0.1984222214573632,-0.23222668055865958,-0.20365558304753306,-0.21267368193136282,-0.26827354048185525,-0.25620072653791015,-0.28855714475902405,-0.23465634365538945,-0.23777104027009455,-0.21175063312651266,-0.22571264322320783,-0.19634196256982495,-0.19546493706943024,-0.1676173433889775,-0.12785134039146084,-0.18689531990600017,-0.30037196995435556,-0.2654994266355185,-0.2719917308512303,-0.27832451825082705,-0.25049648328922114,-0.2618191620694472,-0.28471627250788756,-0.2819804790648561,-0.26582401654204313,-0.23951664031431996,-0.23297211895638648,-0.2323004703513586,-0.223917609551595,-0.2574113295117326,-0.2706057942128348,-0.2666758610506895,-0.24583630222627073,-0.24772833786721649,-0.2291917432667322,-0.2320494520852291,-0.22601521671472047,-0.23954005050183003,-0.20653026222990112,-0.1943547996967092,-0.18664989406187016,-0.19313666381954775,-0.1771626132077191,-0.1476529283966308,-0.15237936938518248,-0.17244469099147364,-0.15159615237917579,-0.1489701177374999,-0.11799594645933831,-0.1120882223618137,-0.10669912047524521,-0.13864780431322932,-0.1405845689466726,-0.1428725928527098,-0.12388600869558797,-0.1441645828280803,-0.1400949398011061,-0.15127650601306197,-0.16254749781387934,-0.15180521656034474,-0.15360666647335652,-0.1788196341858138,-0.19325002514673972,-0.18068829480342552,-0.1713105026154128,-0.19201946449771046,-0.18735776187169528,-0.18563353091658708,-0.16899261837534318,-0.1707449139113827,-0.161165995959357,-0.15003511458475804,-0.12193654389592501,-0.11865791650897572,-0.09427512906379965,-0.09311866365772026,-0.0790303138881322,-0.0588196829473997,-0.09978418252095489,-0.10905266980089479,-0.0989779101186542,-0.1051748580304237,-0.08452606160537002,-0.051899632260668405,-0.0682308765992502,-0.08696075004746329,-0.11469343115427977,-0.06459152509731281,0.001339028841249812,0.023205417348483914,0.08595938850586182,0.1467719537607839,0.06970155259451283,-0.059577195413184514,-0.0600228662857617,-0.06503777032517699,-0.11789901166880856,-0.134456780367871,-0.14237924906526878,-0.12154301213071195,-0.11847820234891715,-0.11384365723263379,-0.10341095489231733,-0.11650444114399894,-0.1171314091388671,-0.14850951571458537,-0.11121904986745534,-0.09563529764958956,-0.12698131775282195,-0.11151680441938405,-0.12045894031300441,-0.11700922666964997,-0.09973094967236351,-0.12990948851514406,-0.1592997537508073,-0.15580830393110157,-0.1691303455604687,-0.17347976108603602,-0.20099423283026074,-0.19179252627840737,-0.16451550574821883,-0.18625244917804362,-0.21827434166270598,-0.17557960384827864,-0.16847177683988102,-0.18330779227298588,-0.17019003021982537,-0.14328354084919104,-0.1568136281411644,-0.1566456077231544,-0.15789055069695146,-0.15423294345254213,-0.1388068692538793,-0.1342764657972092,-0.12565975092219295,-0.1496310294279426,-0.1542451881855006,-0.18063953485648798,-0.20162086232513265,-0.20544014202494543,-0.21487418158934712,-0.21337667320083653,-0.20430293861917992,-0.20759777700455218,-0.18922012436756164,-0.17751974577720586,-0.1750146782254588,-0.169833342247524,-0.15996226782375755,-0.1613903259716759,-0.1500926401664221,-0.14349723167395156,-0.14917491826683327,-0.15854519625809216,-0.1514003404204728,-0.16100461135856037,-0.16486303547669146,-0.16777821421892247,-0.15699528476706404,-0.14772837831313956,-0.13143483027430458,-0.13641941879228092,-0.12842829152766444,-0.1250868856179046,-0.12272913994811119,-0.12543823447283664,-0.11776202609929831,-0.11564555091909545,-0.09775842434379789,-0.09777692305271302,-0.07947107195543657,-0.07981778680980223,-0.08135014621510195,-0.07228510624337559,-0.1088844725257847,-0.1046025993094839,-0.11529965338678616,-0.14139085215285674,-0.13962052811246084,-0.1581808904950719,-0.14697053310766028,-0.1645339416503726,-0.17655318584819035,-0.1859396958032058,-0.19092976141032902,-0.18824129827535263,-0.17432521816955482,-0.17332609726200676,-0.1717158134903949,-0.17019026180244257,-0.15924765588296763,-0.1689875193933742,-0.1757151467488769,-0.16460403931025958,-0.1507428449238324,-0.12490781813265128,-0.13058334085366052,-0.12061011901111052,-0.09580733715160838,-0.08785938478768873,-0.07803231795303611,-0.07861911119258413,-0.0647715332716261,-0.09269024788138469,-0.0876525004676435,-0.10310325672855414,-0.09889374418986963,-0.11647916281653314,-0.1096547168838351,-0.10662329264566395,-0.09826400892448395,-0.08457294300887941,-0.08630531678431064,-0.08867757540878018,-0.08110355738081843,-0.09534809585216497,-0.1231179823175178,-0.14376350500744706,-0.15395069951174167,-0.166500896866566,-0.1684547706044327,-0.17935949501199377,-0.1951991283753981,-0.19890173601128602,-0.21487762316931658,-0.20090571469302831,-0.19442637693946874,-0.1831063797426402,-0.14858242253266463,-0.1329258637148748,-0.13879390010828707,-0.1495227982495213,-0.19863231374584012,-0.21143574842972257],\"marker\":{},\"line\":{},\"name\":\"Long-Short Leveraged\"},{\"type\":\"scatter\",\"mode\":\"lines\",\"x\":[\"2000-02-01T00:00:00\",\"2000-03-01T00:00:00\",\"2000-04-01T00:00:00\",\"2000-05-01T00:00:00\",\"2000-06-01T00:00:00\",\"2000-07-01T00:00:00\",\"2000-08-01T00:00:00\",\"2000-09-01T00:00:00\",\"2000-10-01T00:00:00\",\"2000-11-01T00:00:00\",\"2000-12-01T00:00:00\",\"2001-01-01T00:00:00\",\"2001-02-01T00:00:00\",\"2001-03-01T00:00:00\",\"2001-04-01T00:00:00\",\"2001-05-01T00:00:00\",\"2001-06-01T00:00:00\",\"2001-07-01T00:00:00\",\"2001-08-01T00:00:00\",\"2001-09-01T00:00:00\",\"2001-10-01T00:00:00\",\"2001-11-01T00:00:00\",\"2001-12-01T00:00:00\",\"2002-01-01T00:00:00\",\"2002-02-01T00:00:00\",\"2002-03-01T00:00:00\",\"2002-04-01T00:00:00\",\"2002-05-01T00:00:00\",\"2002-06-01T00:00:00\",\"2002-07-01T00:00:00\",\"2002-08-01T00:00:00\",\"2002-09-01T00:00:00\",\"2002-10-01T00:00:00\",\"2002-11-01T00:00:00\",\"2002-12-01T00:00:00\",\"2003-01-01T00:00:00\",\"2003-02-01T00:00:00\",\"2003-03-01T00:00:00\",\"2003-04-01T00:00:00\",\"2003-05-01T00:00:00\",\"2003-06-01T00:00:00\",\"2003-07-01T00:00:00\",\"2003-08-01T00:00:00\",\"2003-09-01T00:00:00\",\"2003-10-01T00:00:00\",\"2003-11-01T00:00:00\",\"2003-12-01T00:00:00\",\"2004-01-01T00:00:00\",\"2004-02-01T00:00:00\",\"2004-03-01T00:00:00\",\"2004-04-01T00:00:00\",\"2004-05-01T00:00:00\",\"2004-06-01T00:00:00\",\"2004-07-01T00:00:00\",\"2004-08-01T00:00:00\",\"2004-09-01T00:00:00\",\"2004-10-01T00:00:00\",\"2004-11-01T00:00:00\",\"2004-12-01T00:00:00\",\"2005-01-01T00:00:00\",\"2005-02-01T00:00:00\",\"2005-03-01T00:00:00\",\"2005-04-01T00:00:00\",\"2005-05-01T00:00:00\",\"2005-06-01T00:00:00\",\"2005-07-01T00:00:00\",\"2005-08-01T00:00:00\",\"2005-09-01T00:00:00\",\"2005-10-01T00:00:00\",\"2005-11-01T00:00:00\",\"2005-12-01T00:00:00\",\"2006-01-01T00:00:00\",\"2006-02-01T00:00:00\",\"2006-03-01T00:00:00\",\"2006-04-01T00:00:00\",\"2006-05-01T00:00:00\",\"2006-06-01T00:00:00\",\"2006-07-01T00:00:00\",\"2006-08-01T00:00:00\",\"2006-09-01T00:00:00\",\"2006-10-01T00:00:00\",\"2006-11-01T00:00:00\",\"2006-12-01T00:00:00\",\"2007-01-01T00:00:00\",\"2007-02-01T00:00:00\",\"2007-03-01T00:00:00\",\"2007-04-01T00:00:00\",\"2007-05-01T00:00:00\",\"2007-06-01T00:00:00\",\"2007-07-01T00:00:00\",\"2007-08-01T00:00:00\",\"2007-09-01T00:00:00\",\"2007-10-01T00:00:00\",\"2007-11-01T00:00:00\",\"2007-12-01T00:00:00\",\"2008-01-01T00:00:00\",\"2008-02-01T00:00:00\",\"2008-03-01T00:00:00\",\"2008-04-01T00:00:00\",\"2008-05-01T00:00:00\",\"2008-06-01T00:00:00\",\"2008-07-01T00:00:00\",\"2008-08-01T00:00:00\",\"2008-09-01T00:00:00\",\"2008-10-01T00:00:00\",\"2008-11-01T00:00:00\",\"2008-12-01T00:00:00\",\"2009-01-01T00:00:00\",\"2009-02-01T00:00:00\",\"2009-03-01T00:00:00\",\"2009-04-01T00:00:00\",\"2009-05-01T00:00:00\",\"2009-06-01T00:00:00\",\"2009-07-01T00:00:00\",\"2009-08-01T00:00:00\",\"2009-09-01T00:00:00\",\"2009-10-01T00:00:00\",\"2009-11-01T00:00:00\",\"2009-12-01T00:00:00\",\"2010-01-01T00:00:00\",\"2010-02-01T00:00:00\",\"2010-03-01T00:00:00\",\"2010-04-01T00:00:00\",\"2010-05-01T00:00:00\",\"2010-06-01T00:00:00\",\"2010-07-01T00:00:00\",\"2010-08-01T00:00:00\",\"2010-09-01T00:00:00\",\"2010-10-01T00:00:00\",\"2010-11-01T00:00:00\",\"2010-12-01T00:00:00\",\"2011-01-01T00:00:00\",\"2011-02-01T00:00:00\",\"2011-03-01T00:00:00\",\"2011-04-01T00:00:00\",\"2011-05-01T00:00:00\",\"2011-06-01T00:00:00\",\"2011-07-01T00:00:00\",\"2011-08-01T00:00:00\",\"2011-09-01T00:00:00\",\"2011-10-01T00:00:00\",\"2011-11-01T00:00:00\",\"2011-12-01T00:00:00\",\"2012-01-01T00:00:00\",\"2012-02-01T00:00:00\",\"2012-03-01T00:00:00\",\"2012-04-01T00:00:00\",\"2012-05-01T00:00:00\",\"2012-06-01T00:00:00\",\"2012-07-01T00:00:00\",\"2012-08-01T00:00:00\",\"2012-09-01T00:00:00\",\"2012-10-01T00:00:00\",\"2012-11-01T00:00:00\",\"2012-12-01T00:00:00\",\"2013-01-01T00:00:00\",\"2013-02-01T00:00:00\",\"2013-03-01T00:00:00\",\"2013-04-01T00:00:00\",\"2013-05-01T00:00:00\",\"2013-06-01T00:00:00\",\"2013-07-01T00:00:00\",\"2013-08-01T00:00:00\",\"2013-09-01T00:00:00\",\"2013-10-01T00:00:00\",\"2013-11-01T00:00:00\",\"2013-12-01T00:00:00\",\"2014-01-01T00:00:00\",\"2014-02-01T00:00:00\",\"2014-03-01T00:00:00\",\"2014-04-01T00:00:00\",\"2014-05-01T00:00:00\",\"2014-06-01T00:00:00\",\"2014-07-01T00:00:00\",\"2014-08-01T00:00:00\",\"2014-09-01T00:00:00\",\"2014-10-01T00:00:00\",\"2014-11-01T00:00:00\",\"2014-12-01T00:00:00\",\"2015-01-01T00:00:00\",\"2015-02-01T00:00:00\",\"2015-03-01T00:00:00\",\"2015-04-01T00:00:00\",\"2015-05-01T00:00:00\",\"2015-06-01T00:00:00\",\"2015-07-01T00:00:00\",\"2015-08-01T00:00:00\",\"2015-09-01T00:00:00\",\"2015-10-01T00:00:00\",\"2015-11-01T00:00:00\",\"2015-12-01T00:00:00\",\"2016-01-01T00:00:00\",\"2016-02-01T00:00:00\",\"2016-03-01T00:00:00\",\"2016-04-01T00:00:00\",\"2016-05-01T00:00:00\",\"2016-06-01T00:00:00\",\"2016-07-01T00:00:00\",\"2016-08-01T00:00:00\",\"2016-09-01T00:00:00\",\"2016-10-01T00:00:00\",\"2016-11-01T00:00:00\",\"2016-12-01T00:00:00\",\"2017-01-01T00:00:00\",\"2017-02-01T00:00:00\",\"2017-03-01T00:00:00\",\"2017-04-01T00:00:00\",\"2017-05-01T00:00:00\",\"2017-06-01T00:00:00\",\"2017-07-01T00:00:00\",\"2017-08-01T00:00:00\",\"2017-09-01T00:00:00\",\"2017-10-01T00:00:00\",\"2017-11-01T00:00:00\",\"2017-12-01T00:00:00\",\"2018-01-01T00:00:00\",\"2018-02-01T00:00:00\",\"2018-03-01T00:00:00\",\"2018-04-01T00:00:00\",\"2018-05-01T00:00:00\",\"2018-06-01T00:00:00\",\"2018-07-01T00:00:00\",\"2018-08-01T00:00:00\",\"2018-09-01T00:00:00\",\"2018-10-01T00:00:00\",\"2018-11-01T00:00:00\",\"2018-12-01T00:00:00\",\"2019-01-01T00:00:00\",\"2019-02-01T00:00:00\",\"2019-03-01T00:00:00\",\"2019-04-01T00:00:00\",\"2019-05-01T00:00:00\",\"2019-06-01T00:00:00\",\"2019-07-01T00:00:00\",\"2019-08-01T00:00:00\",\"2019-09-01T00:00:00\",\"2019-10-01T00:00:00\",\"2019-11-01T00:00:00\",\"2019-12-01T00:00:00\",\"2020-01-01T00:00:00\",\"2020-02-01T00:00:00\",\"2020-03-01T00:00:00\",\"2020-04-01T00:00:00\",\"2020-05-01T00:00:00\",\"2020-06-01T00:00:00\",\"2020-07-01T00:00:00\",\"2020-08-01T00:00:00\",\"2020-09-01T00:00:00\",\"2020-10-01T00:00:00\",\"2020-11-01T00:00:00\",\"2020-12-01T00:00:00\"],\"y\":[0.012694909875101482,0.042798481159257884,-0.0021590814993545093,-0.033012597641862707,-0.007245534278114807,-0.025900364043771718,0.014075219759967394,-0.023908254194340506,-0.04427431220731404,-0.11172575875624857,-0.10787386400797871,-0.09335260474335949,-0.15278195460001065,-0.1936736079135789,-0.1554143907726041,-0.15329123469518835,-0.16510437284099366,-0.1778545644859525,-0.2128342234704479,-0.2599794098867152,-0.24956175240070289,-0.21480327842488456,-0.20764802974112184,-0.2155158328232193,-0.2274468590795672,-0.20749201048273835,-0.2341382350554484,-0.24145421032564196,-0.276445191019025,-0.3143238581166895,-0.31277254383109654,-0.35807838967331285,-0.3270148476818151,-0.3023148687715126,-0.32805292950952514,-0.3393281379386881,-0.34750770447304014,-0.3434480522071719,-0.3099435340977241,-0.28409659366483886,-0.27815768545990427,-0.26781447321741114,-0.2573690690328596,-0.26352970032771084,-0.23571284947574433,-0.2295646948653024,-0.20918036096757253,-0.19884277739650713,-0.19209593130381963,-0.1992550103974604,-0.20886683527817906,-0.2033479569167259,-0.19443612618306816,-0.21549676619854008,-0.21564467507749807,-0.2082999191179331,-0.20173222567690396,-0.1797084705229942,-0.1628509292287741,-0.1782135002465759,-0.1692787306410638,-0.18065998360538793,-0.1951808164845199,-0.17793312595400368,-0.17617656057861308,-0.15712369885359423,-0.16517536360208285,-0.16412605434261895,-0.17615574676449075,-0.15906986844685767,-0.16208227110619178,-0.1479167709886956,-0.151343977261451,-0.14553049370761217,-0.14354359125802818,-0.1650735653588844,-0.16900895490347922,-0.17517145024057312,-0.16682565330810462,-0.15933792324110208,-0.14443920807989774,-0.13750305232818283,-0.13495543803185883,-0.12973642999124146,-0.14253451274267603,-0.14118730394543078,-0.12472553324403601,-0.10915838906869557,-0.12237106399665643,-0.1451503044013096,-0.14246410642052176,-0.1268352011915106,-0.11871370234401668,-0.14734795241105458,-0.1534567388589838,-0.1884104086434032,-0.20483409311441936,-0.21033113047879182,-0.1883957314325181,-0.1798266976139855,-0.2242066704857919,-0.2286921834996022,-0.22190586839910353,-0.26782313051614604,-0.3474741474999884,-0.3798300098027303,-0.37304831489626167,-0.40504230129432695,-0.4428443638813394,-0.41157592207871774,-0.37396710782926856,-0.3534690304702469,-0.35176248888428163,-0.32035257186268584,-0.3061717953021915,-0.28842480908105805,-0.30000721589185597,-0.27554777039207534,-0.2630728274254873,-0.27863399216586615,-0.26322008129863117,-0.23404872763828455,-0.22446945639126026,-0.26297331471619156,-0.28881945302626233,-0.2578905714394315,-0.28018385800197043,-0.23707239760597665,-0.21851690256414147,-0.21561922636631503,-0.18204915191593074,-0.17187095966275934,-0.15375941417192585,-0.15136618318856787,-0.1358995215638079,-0.1427962991256445,-0.15222388156257816,-0.16474454360806934,-0.1962400666028683,-0.23457956103857058,-0.17998188351275513,-0.18142486158390947,-0.17761798741061186,-0.15151782357879462,-0.12794871019240184,-0.11090435129632092,-0.11565382692059933,-0.1501119995873964,-0.12933467849627533,-0.1250119636188426,-0.11104461142593525,-0.09584868705398497,-0.10590624714973185,-0.10157959442622178,-0.09497351605389892,-0.06329281845939605,-0.05569879712710213,-0.03178250543321692,-0.022350959670254578,-0.005147362601886529,-0.012650074228090169,0.022408786427441152,0.004995845906721197,0.028807187721652916,0.05583360788144942,0.0766027267477094,0.09561526268357823,0.07275535827849011,0.10410495062992875,0.1070886637594275,0.10576671610896571,0.12008229736441822,0.13845481586159436,0.12385913971315587,0.1538063237139986,0.13952141749273306,0.1575682623805852,0.176119164930713,0.17567567799602468,0.1526969398926974,0.19710418864563795,0.18867805727916354,0.19308557949526506,0.20328296311445637,0.1917128540948505,0.20324660578336062,0.15757252281486234,0.13523860891750705,0.1905312211248391,0.1947211540313627,0.1783529398331718,0.13554922316408047,0.1349069397214009,0.1844061163232571,0.19110529256683062,0.20435485919226593,0.20382503624788173,0.2335577242866893,0.23720136534793212,0.23898969047714114,0.22310509670890055,0.260385771712321,0.27448520791427744,0.2897035258440206,0.3183151719788979,0.31947508530629176,0.32809916549541107,0.33644574926331305,0.34249305718643175,0.357679735931024,0.35827700995680756,0.37893471007013146,0.39765341107748675,0.42435587426282395,0.4330388482084788,0.48230215299542256,0.4472751614992858,0.42480913253043684,0.426152287742815,0.44864893905483116,0.45174436431496345,0.47938901011496093,0.5098844206614412,0.5090304076922381,0.4343939574237492,0.4480060109101234,0.35937053637485405,0.42942405561168906,0.45835051045372954,0.4666908083496859,0.5013489017537267,0.4338858590102861,0.4947128883773142,0.5041065742224147,0.4782061173499863,0.48981855140727704,0.5077953709624796,0.5433300114534398,0.5688389743790507,0.5665712803397902,0.48534765655815826,0.35932746470262034,0.4759372499960841,0.5276028338381287,0.5511237802422304,0.6072734481575464,0.6842437153633918,0.6457149961979218,0.623891951888554,0.7510528024937779,0.8018944330460624],\"marker\":{},\"line\":{},\"name\":\"Mkt-Rf Leveraged\"}];\r\n",
       "            var layout = {\"width\":600,\"height\":600,\"template\":{\"layout\":{\"title\":{\"x\":0.05},\"font\":{\"color\":\"rgba(42, 63, 95, 1.0)\"},\"paper_bgcolor\":\"rgba(255, 255, 255, 1.0)\",\"plot_bgcolor\":\"rgba(229, 236, 246, 1.0)\",\"autotypenumbers\":\"strict\",\"colorscale\":{\"diverging\":[[0.0,\"#8e0152\"],[0.1,\"#c51b7d\"],[0.2,\"#de77ae\"],[0.3,\"#f1b6da\"],[0.4,\"#fde0ef\"],[0.5,\"#f7f7f7\"],[0.6,\"#e6f5d0\"],[0.7,\"#b8e186\"],[0.8,\"#7fbc41\"],[0.9,\"#4d9221\"],[1.0,\"#276419\"]],\"sequential\":[[0.0,\"#0d0887\"],[0.1111111111111111,\"#46039f\"],[0.2222222222222222,\"#7201a8\"],[0.3333333333333333,\"#9c179e\"],[0.4444444444444444,\"#bd3786\"],[0.5555555555555556,\"#d8576b\"],[0.6666666666666666,\"#ed7953\"],[0.7777777777777778,\"#fb9f3a\"],[0.8888888888888888,\"#fdca26\"],[1.0,\"#f0f921\"]],\"sequentialminus\":[[0.0,\"#0d0887\"],[0.1111111111111111,\"#46039f\"],[0.2222222222222222,\"#7201a8\"],[0.3333333333333333,\"#9c179e\"],[0.4444444444444444,\"#bd3786\"],[0.5555555555555556,\"#d8576b\"],[0.6666666666666666,\"#ed7953\"],[0.7777777777777778,\"#fb9f3a\"],[0.8888888888888888,\"#fdca26\"],[1.0,\"#f0f921\"]]},\"hovermode\":\"closest\",\"hoverlabel\":{\"align\":\"left\"},\"coloraxis\":{\"colorbar\":{\"outlinewidth\":0.0,\"ticks\":\"\"}},\"geo\":{\"showland\":true,\"landcolor\":\"rgba(229, 236, 246, 1.0)\",\"showlakes\":true,\"lakecolor\":\"rgba(255, 255, 255, 1.0)\",\"subunitcolor\":\"rgba(255, 255, 255, 1.0)\",\"bgcolor\":\"rgba(255, 255, 255, 1.0)\"},\"mapbox\":{\"style\":\"light\"},\"polar\":{\"bgcolor\":\"rgba(229, 236, 246, 1.0)\",\"radialaxis\":{\"linecolor\":\"rgba(255, 255, 255, 1.0)\",\"gridcolor\":\"rgba(255, 255, 255, 1.0)\",\"ticks\":\"\"},\"angularaxis\":{\"linecolor\":\"rgba(255, 255, 255, 1.0)\",\"gridcolor\":\"rgba(255, 255, 255, 1.0)\",\"ticks\":\"\"}},\"scene\":{\"xaxis\":{\"ticks\":\"\",\"linecolor\":\"rgba(255, 255, 255, 1.0)\",\"gridcolor\":\"rgba(255, 255, 255, 1.0)\",\"gridwidth\":2.0,\"zerolinecolor\":\"rgba(255, 255, 255, 1.0)\",\"backgroundcolor\":\"rgba(229, 236, 246, 1.0)\",\"showbackground\":true},\"yaxis\":{\"ticks\":\"\",\"linecolor\":\"rgba(255, 255, 255, 1.0)\",\"gridcolor\":\"rgba(255, 255, 255, 1.0)\",\"gridwidth\":2.0,\"zerolinecolor\":\"rgba(255, 255, 255, 1.0)\",\"backgroundcolor\":\"rgba(229, 236, 246, 1.0)\",\"showbackground\":true},\"zaxis\":{\"ticks\":\"\",\"linecolor\":\"rgba(255, 255, 255, 1.0)\",\"gridcolor\":\"rgba(255, 255, 255, 1.0)\",\"gridwidth\":2.0,\"zerolinecolor\":\"rgba(255, 255, 255, 1.0)\",\"backgroundcolor\":\"rgba(229, 236, 246, 1.0)\",\"showbackground\":true}},\"ternary\":{\"aaxis\":{\"ticks\":\"\",\"linecolor\":\"rgba(255, 255, 255, 1.0)\",\"gridcolor\":\"rgba(255, 255, 255, 1.0)\"},\"baxis\":{\"ticks\":\"\",\"linecolor\":\"rgba(255, 255, 255, 1.0)\",\"gridcolor\":\"rgba(255, 255, 255, 1.0)\"},\"caxis\":{\"ticks\":\"\",\"linecolor\":\"rgba(255, 255, 255, 1.0)\",\"gridcolor\":\"rgba(255, 255, 255, 1.0)\"},\"bgcolor\":\"rgba(229, 236, 246, 1.0)\"},\"xaxis\":{\"title\":{\"standoff\":15},\"ticks\":\"\",\"automargin\":true,\"linecolor\":\"rgba(255, 255, 255, 1.0)\",\"gridcolor\":\"rgba(255, 255, 255, 1.0)\",\"zerolinecolor\":\"rgba(255, 255, 255, 1.0)\",\"zerolinewidth\":2.0},\"yaxis\":{\"title\":{\"standoff\":15},\"ticks\":\"\",\"automargin\":true,\"linecolor\":\"rgba(255, 255, 255, 1.0)\",\"gridcolor\":\"rgba(255, 255, 255, 1.0)\",\"zerolinecolor\":\"rgba(255, 255, 255, 1.0)\",\"zerolinewidth\":2.0},\"annotationdefaults\":{\"arrowcolor\":\"#2a3f5f\",\"arrowhead\":0,\"arrowwidth\":1},\"shapedefaults\":{\"line\":{\"color\":\"rgba(42, 63, 95, 1.0)\"}},\"colorway\":[\"rgba(99, 110, 250, 1.0)\",\"rgba(239, 85, 59, 1.0)\",\"rgba(0, 204, 150, 1.0)\",\"rgba(171, 99, 250, 1.0)\",\"rgba(255, 161, 90, 1.0)\",\"rgba(25, 211, 243, 1.0)\",\"rgba(255, 102, 146, 1.0)\",\"rgba(182, 232, 128, 1.0)\",\"rgba(255, 151, 255, 1.0)\",\"rgba(254, 203, 82, 1.0)\"]},\"data\":{\"bar\":[{\"marker\":{\"line\":{\"color\":\"rgba(229, 236, 246, 1.0)\",\"width\":0.5},\"pattern\":{\"fillmode\":\"overlay\",\"size\":10,\"solidity\":0.2}},\"error_x\":{\"color\":\"rgba(42, 63, 95, 1.0)\"},\"error_y\":{\"color\":\"rgba(42, 63, 95, 1.0)\"}}],\"barpolar\":[{\"marker\":{\"line\":{\"color\":\"rgba(229, 236, 246, 1.0)\",\"width\":0.5},\"pattern\":{\"fillmode\":\"overlay\",\"size\":10,\"solidity\":0.2}}}],\"carpet\":[{\"aaxis\":{\"linecolor\":\"rgba(255, 255, 255, 1.0)\",\"gridcolor\":\"rgba(255, 255, 255, 1.0)\",\"endlinecolor\":\"rgba(42, 63, 95, 1.0)\",\"minorgridcolor\":\"rgba(255, 255, 255, 1.0)\",\"startlinecolor\":\"rgba(42, 63, 95, 1.0)\"},\"baxis\":{\"linecolor\":\"rgba(255, 255, 255, 1.0)\",\"gridcolor\":\"rgba(255, 255, 255, 1.0)\",\"endlinecolor\":\"rgba(42, 63, 95, 1.0)\",\"minorgridcolor\":\"rgba(255, 255, 255, 1.0)\",\"startlinecolor\":\"rgba(42, 63, 95, 1.0)\"}}],\"choropleth\":[{\"colorbar\":{\"outlinewidth\":0.0,\"ticks\":\"\"},\"colorscale\":[[0.0,\"#0d0887\"],[0.1111111111111111,\"#46039f\"],[0.2222222222222222,\"#7201a8\"],[0.3333333333333333,\"#9c179e\"],[0.4444444444444444,\"#bd3786\"],[0.5555555555555556,\"#d8576b\"],[0.6666666666666666,\"#ed7953\"],[0.7777777777777778,\"#fb9f3a\"],[0.8888888888888888,\"#fdca26\"],[1.0,\"#f0f921\"]]}],\"contour\":[{\"colorbar\":{\"outlinewidth\":0.0,\"ticks\":\"\"},\"colorscale\":[[0.0,\"#0d0887\"],[0.1111111111111111,\"#46039f\"],[0.2222222222222222,\"#7201a8\"],[0.3333333333333333,\"#9c179e\"],[0.4444444444444444,\"#bd3786\"],[0.5555555555555556,\"#d8576b\"],[0.6666666666666666,\"#ed7953\"],[0.7777777777777778,\"#fb9f3a\"],[0.8888888888888888,\"#fdca26\"],[1.0,\"#f0f921\"]]}],\"contourcarpet\":[{\"colorbar\":{\"outlinewidth\":0.0,\"ticks\":\"\"}}],\"heatmap\":[{\"colorbar\":{\"outlinewidth\":0.0,\"ticks\":\"\"},\"colorscale\":[[0.0,\"#0d0887\"],[0.1111111111111111,\"#46039f\"],[0.2222222222222222,\"#7201a8\"],[0.3333333333333333,\"#9c179e\"],[0.4444444444444444,\"#bd3786\"],[0.5555555555555556,\"#d8576b\"],[0.6666666666666666,\"#ed7953\"],[0.7777777777777778,\"#fb9f3a\"],[0.8888888888888888,\"#fdca26\"],[1.0,\"#f0f921\"]]}],\"heatmapgl\":[{\"colorbar\":{\"outlinewidth\":0.0,\"ticks\":\"\"},\"colorscale\":[[0.0,\"#0d0887\"],[0.1111111111111111,\"#46039f\"],[0.2222222222222222,\"#7201a8\"],[0.3333333333333333,\"#9c179e\"],[0.4444444444444444,\"#bd3786\"],[0.5555555555555556,\"#d8576b\"],[0.6666666666666666,\"#ed7953\"],[0.7777777777777778,\"#fb9f3a\"],[0.8888888888888888,\"#fdca26\"],[1.0,\"#f0f921\"]]}],\"histogram\":[{\"marker\":{\"pattern\":{\"fillmode\":\"overlay\",\"size\":10,\"solidity\":0.2}}}],\"histogram2d\":[{\"colorbar\":{\"outlinewidth\":0.0,\"ticks\":\"\"},\"colorscale\":[[0.0,\"#0d0887\"],[0.1111111111111111,\"#46039f\"],[0.2222222222222222,\"#7201a8\"],[0.3333333333333333,\"#9c179e\"],[0.4444444444444444,\"#bd3786\"],[0.5555555555555556,\"#d8576b\"],[0.6666666666666666,\"#ed7953\"],[0.7777777777777778,\"#fb9f3a\"],[0.8888888888888888,\"#fdca26\"],[1.0,\"#f0f921\"]]}],\"histogram2dcontour\":[{\"colorbar\":{\"outlinewidth\":0.0,\"ticks\":\"\"},\"colorscale\":[[0.0,\"#0d0887\"],[0.1111111111111111,\"#46039f\"],[0.2222222222222222,\"#7201a8\"],[0.3333333333333333,\"#9c179e\"],[0.4444444444444444,\"#bd3786\"],[0.5555555555555556,\"#d8576b\"],[0.6666666666666666,\"#ed7953\"],[0.7777777777777778,\"#fb9f3a\"],[0.8888888888888888,\"#fdca26\"],[1.0,\"#f0f921\"]]}],\"mesh3d\":[{\"colorbar\":{\"outlinewidth\":0.0,\"ticks\":\"\"}}],\"parcoords\":[{\"line\":{\"colorbar\":{\"outlinewidth\":0.0,\"ticks\":\"\"}}}],\"pie\":[{\"automargin\":true}],\"scatter\":[{\"marker\":{\"colorbar\":{\"outlinewidth\":0.0,\"ticks\":\"\"}}}],\"scatter3d\":[{\"marker\":{\"colorbar\":{\"outlinewidth\":0.0,\"ticks\":\"\"}},\"line\":{\"colorbar\":{\"outlinewidth\":0.0,\"ticks\":\"\"}}}],\"scattercarpet\":[{\"marker\":{\"colorbar\":{\"outlinewidth\":0.0,\"ticks\":\"\"}}}],\"scattergeo\":[{\"marker\":{\"colorbar\":{\"outlinewidth\":0.0,\"ticks\":\"\"}}}],\"scattergl\":[{\"marker\":{\"colorbar\":{\"outlinewidth\":0.0,\"ticks\":\"\"}}}],\"scattermapbox\":[{\"marker\":{\"colorbar\":{\"outlinewidth\":0.0,\"ticks\":\"\"}}}],\"scatterpolar\":[{\"marker\":{\"colorbar\":{\"outlinewidth\":0.0,\"ticks\":\"\"}}}],\"scatterpolargl\":[{\"marker\":{\"colorbar\":{\"outlinewidth\":0.0,\"ticks\":\"\"}}}],\"scatterternary\":[{\"marker\":{\"colorbar\":{\"outlinewidth\":0.0,\"ticks\":\"\"}}}],\"surface\":[{\"colorbar\":{\"outlinewidth\":0.0,\"ticks\":\"\"},\"colorscale\":[[0.0,\"#0d0887\"],[0.1111111111111111,\"#46039f\"],[0.2222222222222222,\"#7201a8\"],[0.3333333333333333,\"#9c179e\"],[0.4444444444444444,\"#bd3786\"],[0.5555555555555556,\"#d8576b\"],[0.6666666666666666,\"#ed7953\"],[0.7777777777777778,\"#fb9f3a\"],[0.8888888888888888,\"#fdca26\"],[1.0,\"#f0f921\"]]}],\"table\":[{\"cells\":{\"fill\":{\"color\":\"rgba(235, 240, 248, 1.0)\"},\"line\":{\"color\":\"rgba(255, 255, 255, 1.0)\"}},\"header\":{\"fill\":{\"color\":\"rgba(200, 212, 227, 1.0)\"},\"line\":{\"color\":\"rgba(255, 255, 255, 1.0)\"}}}]}},\"legend\":{\"orientation\":\"v\"},\"title\":{\"text\":\"Growth of 1 Euro with Leverage\"}};\r\n",
       "            var config = {\"responsive\":true};\r\n",
       "            Plotly.newPlot('834be408-fd5d-4eeb-a927-61ed39c08c5c', data, layout, config);\r\n",
       "});\r\n",
       "            };\r\n",
       "            if ((typeof(requirejs) !==  typeof(Function)) || (typeof(requirejs.config) !== typeof(Function))) {\r\n",
       "                var script = document.createElement(\"script\");\r\n",
       "                script.setAttribute(\"src\", \"https://cdnjs.cloudflare.com/ajax/libs/require.js/2.3.6/require.min.js\");\r\n",
       "                script.onload = function(){\r\n",
       "                    renderPlotly_834be408fd5d4eeba92761ed39c08c5c();\r\n",
       "                };\r\n",
       "                document.getElementsByTagName(\"head\")[0].appendChild(script);\r\n",
       "            }\r\n",
       "            else {\r\n",
       "                renderPlotly_834be408fd5d4eeba92761ed39c08c5c();\r\n",
       "            }\r\n",
       "</script>\r\n",
       "\r\n",
       "    \r\n",
       "</div    \r\n"
      ]
     },
     "metadata": {},
     "output_type": "display_data"
    }
   ],
   "source": [
    "// Leveraged portfolios plot\n",
    "combinedChartLev"
   ]
  },
  {
   "cell_type": "code",
   "execution_count": null,
   "metadata": {
    "dotnet_interactive": {
     "language": "fsharp"
    },
    "vscode": {
     "languageId": "dotnet-interactive.fsharp"
    }
   },
   "outputs": [],
   "source": [
    "// Spliting data to calculate performance indicators\n",
    "\n",
    "let split_list (input_list: list<'a>) = \n",
    "    let length =\n",
    "        input_list\n",
    "        |> List.length\n",
    "\n",
    "    let length_proper =\n",
    "        int(length) / 2\n",
    "\n",
    "    let firstList = input_list |> Seq.take length_proper |> Seq.toList\n",
    "    let secondList = input_list |> Seq.skip length_proper |> Seq.toList\n",
    "    let answer_list = [firstList; secondList]\n",
    "    answer_list\n",
    "\n",
    "let longBottomHalf = (split_list long)[0]\n",
    "let longTopHalf = (split_list long)[1]\n",
    "let longShortBottomHalf = (split_list longShort)[0]\n",
    "let longShortTopHalf = (split_list longShort)[1]\n",
    "let vwMktRfBottomHalf = (split_list vwMktRf)[0]\n",
    "let vwMktRfTopHalf = (split_list vwMktRf)[1]"
   ]
  },
  {
   "cell_type": "code",
   "execution_count": null,
   "metadata": {
    "dotnet_interactive": {
     "language": "fsharp"
    },
    "vscode": {
     "languageId": "dotnet-interactive.fsharp"
    }
   },
   "outputs": [],
   "source": [
    "//Computing Annualized Excess Returns\n",
    "\n",
    "let annualizeMonthlyReturns monthlyReturn = 12.0 * monthlyReturn\n",
    "\n",
    "let get_avg (input:PortfolioReturn List) = \n",
    "    let x = \n",
    "        input\n",
    "        |> List.map (fun x -> x.Return)\n",
    "        |> List.map ( fun x -> annualizeMonthlyReturns x)\n",
    "        |> List.average\n",
    "    let y = \n",
    "        x * 100.0\n",
    "    y\n",
    "\n",
    "//Long\n",
    "let longAvg = get_avg long\n",
    "let longBottomHalfAvg =  get_avg longBottomHalf\n",
    "let longTopHalfAvg =  get_avg longTopHalf\n",
    "\n",
    "//Long_Short\n",
    "let longShortAvg = get_avg longShort\n",
    "let longShortBottomHalfAvg = get_avg longShortBottomHalf\n",
    "let longShortTopHalfAvg = get_avg longShortTopHalf\n",
    "\n",
    "//Market\n",
    "let vwMktRfAvg = get_avg vwMktRf\n",
    "let vwMktRfBottomHalfAvg = get_avg vwMktRfBottomHalf\n",
    "let vwMktRfTopHalfAvg = get_avg vwMktRfTopHalf\n"
   ]
  },
  {
   "cell_type": "code",
   "execution_count": null,
   "metadata": {
    "dotnet_interactive": {
     "language": "fsharp"
    },
    "vscode": {
     "languageId": "dotnet-interactive.fsharp"
    }
   },
   "outputs": [
    {
     "data": {
      "text/plain": [
       "(6.975316875, -0.4230327464, 14.31494944)\r\n"
      ]
     },
     "metadata": {},
     "output_type": "display_data"
    }
   ],
   "source": [
    "// Long Portfolio Annualized Excess Returns\n",
    "longAvg, longBottomHalfAvg, longTopHalfAvg"
   ]
  },
  {
   "cell_type": "code",
   "execution_count": null,
   "metadata": {
    "dotnet_interactive": {
     "language": "fsharp"
    },
    "vscode": {
     "languageId": "dotnet-interactive.fsharp"
    }
   },
   "outputs": [
    {
     "data": {
      "text/plain": [
       "(-0.4153531099, -0.09233533958, -0.7358072471)\r\n"
      ]
     },
     "metadata": {},
     "output_type": "display_data"
    }
   ],
   "source": [
    "// Long-Short Portfolio Annualized Excess Returns\n",
    "longShortAvg, longShortBottomHalfAvg, longShortTopHalfAvg"
   ]
  },
  {
   "cell_type": "code",
   "execution_count": null,
   "metadata": {
    "dotnet_interactive": {
     "language": "fsharp"
    },
    "vscode": {
     "languageId": "dotnet-interactive.fsharp"
    }
   },
   "outputs": [
    {
     "data": {
      "text/plain": [
       "(5.283824701, -4.30944, 14.80095238)\r\n"
      ]
     },
     "metadata": {},
     "output_type": "display_data"
    }
   ],
   "source": [
    "// Market Portfolio Annualized Excess Returns\n",
    "vwMktRfAvg, vwMktRfBottomHalfAvg, vwMktRfTopHalfAvg"
   ]
  },
  {
   "cell_type": "code",
   "execution_count": null,
   "metadata": {
    "dotnet_interactive": {
     "language": "fsharp"
    },
    "vscode": {
     "languageId": "dotnet-interactive.fsharp"
    }
   },
   "outputs": [],
   "source": [
    "// Computing Annualized Sharpe Ratios\n",
    "\n",
    "let sharpe (xs: float seq) =\n",
    "    (Seq.mean xs) / (Seq.stDev xs)\n",
    "\n",
    "let annualizeMonthlySharpe monthlySharpe = sqrt(12.0) * monthlySharpe\n",
    "\n",
    "let get_sharpe (input: PortfolioReturn List) = \n",
    "    input\n",
    "    |> List.map (fun x -> x.Return)\n",
    "    |> sharpe\n",
    "    |> annualizeMonthlySharpe\n",
    "\n",
    "//Long\n",
    "let longSharpe = get_sharpe long\n",
    "let longBottomSharpe = get_sharpe longBottomHalf\n",
    "let longTopSharpe = get_sharpe longTopHalf\n",
    "\n",
    "//Long-Short\n",
    "let longShortSharpe = get_sharpe longShort\n",
    "let longShortBottomSharpe = get_sharpe longShortBottomHalf\n",
    "let longShortTopSharpe = get_sharpe longShortTopHalf\n",
    "\n",
    "//Market\n",
    "let vwMktRfSharpe = get_sharpe vwMktRf\n",
    "let vwMktRfBottomSharpe = get_sharpe vwMktRfBottomHalf\n",
    "let vwMktRfTopSharpe = get_sharpe vwMktRfTopHalf"
   ]
  },
  {
   "cell_type": "code",
   "execution_count": null,
   "metadata": {
    "dotnet_interactive": {
     "language": "fsharp"
    },
    "vscode": {
     "languageId": "dotnet-interactive.fsharp"
    }
   },
   "outputs": [
    {
     "data": {
      "text/plain": [
       "(0.4382763778, -0.02527235909, 0.9660831117)\r\n"
      ]
     },
     "metadata": {},
     "output_type": "display_data"
    }
   ],
   "source": [
    "// Long Portfolio Annualized Sharpe Ratios\n",
    "longSharpe, longBottomSharpe, longTopSharpe"
   ]
  },
  {
   "cell_type": "code",
   "execution_count": null,
   "metadata": {
    "dotnet_interactive": {
     "language": "fsharp"
    },
    "vscode": {
     "languageId": "dotnet-interactive.fsharp"
    }
   },
   "outputs": [
    {
     "data": {
      "text/plain": [
       "(-0.06289872428, -0.01094824278, -0.1804031288)\r\n"
      ]
     },
     "metadata": {},
     "output_type": "display_data"
    }
   ],
   "source": [
    "// Long-Short portfolio Annualized Sharpe Ratios\n",
    "longShortSharpe, longShortBottomSharpe, longShortTopSharpe"
   ]
  },
  {
   "cell_type": "code",
   "execution_count": null,
   "metadata": {
    "dotnet_interactive": {
     "language": "fsharp"
    },
    "vscode": {
     "languageId": "dotnet-interactive.fsharp"
    }
   },
   "outputs": [
    {
     "data": {
      "text/plain": [
       "(0.3320677147, -0.2570009056, 1.016111804)\r\n"
      ]
     },
     "metadata": {},
     "output_type": "display_data"
    }
   ],
   "source": [
    "// Market portfolio Annualized Sharpe Ratios\n",
    "vwMktRfSharpe, vwMktRfBottomSharpe, vwMktRfTopSharpe"
   ]
  },
  {
   "cell_type": "code",
   "execution_count": null,
   "metadata": {
    "dotnet_interactive": {
     "language": "fsharp"
    },
    "vscode": {
     "languageId": "dotnet-interactive.fsharp"
    }
   },
   "outputs": [],
   "source": [
    "// Preparing data for regression\n",
    "\n",
    "let ff3ByMonth = \n",
    "    ff3\n",
    "    |> Array.map(fun x -> DateTime(x.Date.Year, x.Date.Month,1), x)\n",
    "    |> Map\n",
    "\n",
    "type RegData =\n",
    "    { Date : DateTime\n",
    "      Portfolio : float\n",
    "      MktRf : float \n",
    "      Hml : float \n",
    "      Smb : float }\n",
    "      \n",
    "let RegData (input: PortfolioReturn list) = \n",
    "    input \n",
    "    |> List.map(fun port ->\n",
    "        let monthToFind = DateTime(port.YearMonth.Year,port.YearMonth.Month,1)\n",
    "        match Map.tryFind monthToFind ff3ByMonth with\n",
    "        | None -> failwith \"probably you messed up your days of months\"\n",
    "        | Some ff3 -> \n",
    "            { Date = monthToFind\n",
    "              Portfolio = port.Return\n",
    "              MktRf = ff3.MktRf \n",
    "              Hml = ff3.Hml \n",
    "              Smb = ff3.Smb })\n",
    "    |> List.toArray\n",
    "\n",
    "let capmModelData (input: RegData array) = \n",
    "    input\n",
    "    |> Array.map(fun obs -> [|obs.MktRf|], obs.Portfolio)\n",
    "    |> Array.unzip \n",
    "\n",
    "let ff3ModelData (input: RegData array) =\n",
    "    input\n",
    "    |> Array.map(fun obs -> [|obs.MktRf; obs.Hml; obs.Smb |], obs.Portfolio)\n",
    "    |> Array.unzip\n",
    "\n",
    "type RegressionOutput =\n",
    "    { Model : MultipleLinearRegression \n",
    "      TValuesWeights : float array\n",
    "      TValuesIntercept : float \n",
    "      R2: float }\n",
    "\n",
    "type XY = (float array) array * float array\n",
    "\n",
    "let fitModel (x: (float array) array, y: float array) =\n",
    "    let ols = new OrdinaryLeastSquares(UseIntercept=true)\n",
    "    let estimate = ols.Learn(x,y)\n",
    "    let mse = estimate.GetStandardError(x,y)\n",
    "    let se = estimate.GetStandardErrors(mse, ols.GetInformationMatrix())\n",
    "    let tvaluesWeights = \n",
    "        estimate.Weights\n",
    "        |> Array.mapi(fun i w -> w / se.[i])\n",
    "    let tvalueIntercept = estimate.Intercept / (se |> Array.last)\n",
    "    let r2 = estimate.CoefficientOfDetermination(x,y)\n",
    "    { Model = estimate\n",
    "      TValuesWeights = tvaluesWeights\n",
    "      TValuesIntercept = tvalueIntercept  \n",
    "      R2 = r2 }\n",
    "      \n",
    "let capmEstimate (input: PortfolioReturn list) =\n",
    "    RegData input\n",
    "    |> capmModelData\n",
    "    |> fitModel\n",
    "\n",
    "let ff3Estimate (input: PortfolioReturn list) = \n",
    "    RegData input\n",
    "    |> ff3ModelData\n",
    "    |> fitModel"
   ]
  },
  {
   "cell_type": "code",
   "execution_count": null,
   "metadata": {
    "dotnet_interactive": {
     "language": "fsharp"
    },
    "vscode": {
     "languageId": "dotnet-interactive.fsharp"
    }
   },
   "outputs": [],
   "source": [
    "//Regressions\n",
    "\n",
    "//CAPM \n",
    "let capmEstimateLong = capmEstimate long\n",
    "let capmEstimateLongBottom = capmEstimate longBottomHalf\n",
    "let capmEstimateLongTop = capmEstimate longTopHalf\n",
    "\n",
    "let capmEstimateLongShort = capmEstimate longShort\n",
    "let capmEstimateLongShortBottom = capmEstimate longShortBottomHalf\n",
    "let capmEstimateLongShortTop = capmEstimate longShortTopHalf\n",
    "\n",
    "//FF3\n",
    "let ff3EstimateLong = ff3Estimate long\n",
    "let ff3EstimateLongBottom = ff3Estimate longBottomHalf\n",
    "let ff3EstimateLongTop = ff3Estimate longTopHalf\n",
    "\n",
    "let ff3EstimateLongShort = ff3Estimate longShort\n",
    "let ff3EstimateLongShortBottom = ff3Estimate longShortBottomHalf\n",
    "let ff3EstimateLongShortTop = ff3Estimate longShortTopHalf"
   ]
  },
  {
   "cell_type": "code",
   "execution_count": null,
   "metadata": {
    "dotnet_interactive": {
     "language": "fsharp"
    },
    "vscode": {
     "languageId": "dotnet-interactive.fsharp"
    }
   },
   "outputs": [
    {
     "data": {
      "text/plain": [
       "(0.3542636927, 0.0002326148034)\r\n"
      ]
     },
     "metadata": {},
     "output_type": "display_data"
    }
   ],
   "source": [
    "// Full sample: Long Portfolio CAPM (t-stat, alpha)\n",
    "capmEstimateLong.TValuesIntercept, capmEstimateLong.Model.Intercept"
   ]
  },
  {
   "cell_type": "code",
   "execution_count": null,
   "metadata": {
    "dotnet_interactive": {
     "language": "fsharp"
    },
    "vscode": {
     "languageId": "dotnet-interactive.fsharp"
    }
   },
   "outputs": [
    {
     "data": {
      "text/plain": [
       "(0.9299721344, 0.00104478937)\r\n"
      ]
     },
     "metadata": {},
     "output_type": "display_data"
    }
   ],
   "source": [
    "// Bottom sample: Long Portfolio CAPM (t-stat, alpha)\n",
    "capmEstimateLongBottom.TValuesIntercept, capmEstimateLongBottom.Model.Intercept"
   ]
  },
  {
   "cell_type": "code",
   "execution_count": null,
   "metadata": {
    "dotnet_interactive": {
     "language": "fsharp"
    },
    "vscode": {
     "languageId": "dotnet-interactive.fsharp"
    }
   },
   "outputs": [
    {
     "data": {
      "text/plain": [
       "(-1.302143229, -0.0008979939711)\r\n"
      ]
     },
     "metadata": {},
     "output_type": "display_data"
    }
   ],
   "source": [
    "// Top sample: Long Portfolio CAPM (t-stat, alpha)\n",
    "capmEstimateLongTop.TValuesIntercept, capmEstimateLongTop.Model.Intercept"
   ]
  },
  {
   "cell_type": "code",
   "execution_count": null,
   "metadata": {
    "dotnet_interactive": {
     "language": "fsharp"
    },
    "vscode": {
     "languageId": "dotnet-interactive.fsharp"
    }
   },
   "outputs": [
    {
     "data": {
      "text/plain": [
       "(-0.09492625583, -0.0001147879526)\r\n"
      ]
     },
     "metadata": {},
     "output_type": "display_data"
    }
   ],
   "source": [
    "// Full sample: Long-short Portfolio CAPM (t-stat, alpha)\n",
    "capmEstimateLongShort.TValuesIntercept, capmEstimateLongShort.Model.Intercept"
   ]
  },
  {
   "cell_type": "code",
   "execution_count": null,
   "metadata": {
    "dotnet_interactive": {
     "language": "fsharp"
    },
    "vscode": {
     "languageId": "dotnet-interactive.fsharp"
    }
   },
   "outputs": [
    {
     "data": {
      "text/plain": [
       "(-0.1051739979, -0.0002252471229)\r\n"
      ]
     },
     "metadata": {},
     "output_type": "display_data"
    }
   ],
   "source": [
    "// Bottom sample: Long-short Portfolio CAPM (t-stat, alpha)\n",
    "capmEstimateLongShortBottom.TValuesIntercept, capmEstimateLongShortBottom.Model.Intercept"
   ]
  },
  {
   "cell_type": "code",
   "execution_count": null,
   "metadata": {
    "dotnet_interactive": {
     "language": "fsharp"
    },
    "vscode": {
     "languageId": "dotnet-interactive.fsharp"
    }
   },
   "outputs": [
    {
     "data": {
      "text/plain": [
       "(-1.038335995, -0.001131442162)\r\n"
      ]
     },
     "metadata": {},
     "output_type": "display_data"
    }
   ],
   "source": [
    "// Top sample: Long-short Portfolio CAPM (t-stat, alpha)\n",
    "capmEstimateLongShortTop.TValuesIntercept, capmEstimateLongShortTop.Model.Intercept"
   ]
  },
  {
   "cell_type": "code",
   "execution_count": null,
   "metadata": {
    "dotnet_interactive": {
     "language": "fsharp"
    },
    "vscode": {
     "languageId": "dotnet-interactive.fsharp"
    }
   },
   "outputs": [
    {
     "data": {
      "text/plain": [
       "(0.5038685885, 0.0003082754874)\r\n"
      ]
     },
     "metadata": {},
     "output_type": "display_data"
    }
   ],
   "source": [
    "// Full sample: Long portfolio FF3 (t-stat, alpha)\n",
    "ff3EstimateLong.TValuesIntercept, ff3EstimateLong.Model.Intercept"
   ]
  },
  {
   "cell_type": "code",
   "execution_count": null,
   "metadata": {
    "dotnet_interactive": {
     "language": "fsharp"
    },
    "vscode": {
     "languageId": "dotnet-interactive.fsharp"
    }
   },
   "outputs": [
    {
     "data": {
      "text/plain": [
       "(2.083797519, 0.002135329788)\r\n"
      ]
     },
     "metadata": {},
     "output_type": "display_data"
    }
   ],
   "source": [
    "// Bottom sample: Long portfolio FF3 (t-stat, alpha)\n",
    "ff3EstimateLongBottom.TValuesIntercept, ff3EstimateLongBottom.Model.Intercept"
   ]
  },
  {
   "cell_type": "code",
   "execution_count": null,
   "metadata": {
    "dotnet_interactive": {
     "language": "fsharp"
    },
    "vscode": {
     "languageId": "dotnet-interactive.fsharp"
    }
   },
   "outputs": [
    {
     "data": {
      "text/plain": [
       "(-1.88280968, -0.001310754003)\r\n"
      ]
     },
     "metadata": {},
     "output_type": "display_data"
    }
   ],
   "source": [
    "// Top sample: Long portfolio FF3 (t-stat, alpha)\n",
    "ff3EstimateLongTop.TValuesIntercept, ff3EstimateLongTop.Model.Intercept"
   ]
  },
  {
   "cell_type": "code",
   "execution_count": null,
   "metadata": {
    "dotnet_interactive": {
     "language": "fsharp"
    },
    "vscode": {
     "languageId": "dotnet-interactive.fsharp"
    }
   },
   "outputs": [
    {
     "data": {
      "text/plain": [
       "(0.0104881282, 1.152925786e-05)\r\n"
      ]
     },
     "metadata": {},
     "output_type": "display_data"
    }
   ],
   "source": [
    "// Full sample: Long-Short portfolio FF3 (t-stat, alpha)\n",
    "ff3EstimateLongShort.TValuesIntercept, ff3EstimateLongShort.Model.Intercept"
   ]
  },
  {
   "cell_type": "code",
   "execution_count": null,
   "metadata": {
    "dotnet_interactive": {
     "language": "fsharp"
    },
    "vscode": {
     "languageId": "dotnet-interactive.fsharp"
    }
   },
   "outputs": [
    {
     "data": {
      "text/plain": [
       "(0.9868302798, 0.001835480959)\r\n"
      ]
     },
     "metadata": {},
     "output_type": "display_data"
    }
   ],
   "source": [
    "// Bottom sample: Long-Short portfolio FF3 (t-stat, alpha)\n",
    "ff3EstimateLongShortBottom.TValuesIntercept, ff3EstimateLongShortBottom.Model.Intercept"
   ]
  },
  {
   "cell_type": "code",
   "execution_count": null,
   "metadata": {
    "dotnet_interactive": {
     "language": "fsharp"
    },
    "vscode": {
     "languageId": "dotnet-interactive.fsharp"
    }
   },
   "outputs": [
    {
     "data": {
      "text/plain": [
       "(-1.56350223, -0.00173473683)\r\n"
      ]
     },
     "metadata": {},
     "output_type": "display_data"
    }
   ],
   "source": [
    "// Top sample: Long-Short portfolio FF3 (t-stat, alpha)\n",
    "ff3EstimateLongShortTop.TValuesIntercept, ff3EstimateLongShortTop.Model.Intercept"
   ]
  },
  {
   "cell_type": "code",
   "execution_count": null,
   "metadata": {
    "dotnet_interactive": {
     "language": "fsharp"
    },
    "vscode": {
     "languageId": "dotnet-interactive.fsharp"
    }
   },
   "outputs": [],
   "source": [
    "// Computing Information Ratios\n",
    "\n",
    "type Prediction = { Label : float; Score : float}\n",
    "\n",
    "let makePredictions \n",
    "    (estimate: MultipleLinearRegression) \n",
    "    (x: (float array) array, y: float array) =\n",
    "    (estimate.Transform(x), y)\n",
    "    ||> Array.zip\n",
    "    |> Array.map(fun (score, label) -> { Score = score; Label = label })\n",
    "\n",
    "let residuals (xs: Prediction array) = xs |> Array.map(fun x -> x.Label - x.Score)\n",
    "\n",
    "let informationRatio monthlyAlpha (monthlyResiduals: float array) =\n",
    "    let annualAlpha = 12.0 * monthlyAlpha\n",
    "    let annualStDev = sqrt(12.0) * (Seq.stDev monthlyResiduals)\n",
    "    annualAlpha / annualStDev\n",
    "\n",
    "let capmModelDataReg (input: PortfolioReturn list) =\n",
    "    RegData input\n",
    "    |> capmModelData\n",
    "\n",
    "let ff3ModelDataReg (input: PortfolioReturn list) =\n",
    "    RegData input\n",
    "    |> ff3ModelData\n",
    "\n",
    "let capmInformationRatio (input: PortfolioReturn list)  =\n",
    "    let x =\n",
    "        makePredictions (capmEstimate input).Model (capmModelDataReg input)\n",
    "        |> residuals\n",
    "    informationRatio (capmEstimate input).Model.Intercept x\n",
    "\n",
    "let ff3InformationRatio (input: PortfolioReturn list)  =\n",
    "    let x =\n",
    "        makePredictions (ff3Estimate input).Model (ff3ModelDataReg input)\n",
    "        |> residuals\n",
    "    informationRatio (ff3Estimate input).Model.Intercept x\n",
    "    \n",
    "//CAPM\n",
    "let capmInformationratioLong = capmInformationRatio long\n",
    "let capmInformationratioLongBottom = capmInformationRatio longBottomHalf\n",
    "let capmInformationratioLongTop = capmInformationRatio longTopHalf\n",
    "\n",
    "let capmInformationratioLongShort = capmInformationRatio longShort\n",
    "let capmInformationratioLongShortBottom = capmInformationRatio longShortBottomHalf\n",
    "let capmInformationratioLongShortTop = capmInformationRatio longShortTopHalf\n",
    "\n",
    "//FF3\n",
    "let ff3InformationratioLong = ff3InformationRatio long\n",
    "let ff3InformationratioLongBottom = ff3InformationRatio longBottomHalf\n",
    "let ff3InformationratioLongTop = ff3InformationRatio longTopHalf\n",
    "\n",
    "let ff3InformationratioLongShort = ff3InformationRatio longShort\n",
    "let ff3InformationratioLongShortBottom = ff3InformationRatio longShortBottomHalf\n",
    "let ff3InformationratioLongShortTop = ff3InformationRatio longShortTopHalf"
   ]
  },
  {
   "cell_type": "code",
   "execution_count": null,
   "metadata": {
    "dotnet_interactive": {
     "language": "fsharp"
    },
    "vscode": {
     "languageId": "dotnet-interactive.fsharp"
    }
   },
   "outputs": [
    {
     "data": {
      "text/plain": [
       "(0.07821876661, 0.2894409216, -0.4218928681)\r\n"
      ]
     },
     "metadata": {},
     "output_type": "display_data"
    }
   ],
   "source": [
    "// Long Portfolio CAPM Information Ratios\n",
    "capmInformationratioLong, capmInformationratioLongBottom, capmInformationratioLongTop"
   ]
  },
  {
   "cell_type": "code",
   "execution_count": null,
   "metadata": {
    "dotnet_interactive": {
     "language": "fsharp"
    },
    "vscode": {
     "languageId": "dotnet-interactive.fsharp"
    }
   },
   "outputs": [
    {
     "data": {
      "text/plain": [
       "(-0.0209590054, -0.03273394734, -0.3364196358)\r\n"
      ]
     },
     "metadata": {},
     "output_type": "display_data"
    }
   ],
   "source": [
    "// Long-Short Portfolio CAPM Information Ratios\n",
    "capmInformationratioLongShort, capmInformationratioLongShortBottom, capmInformationratioLongShortTop"
   ]
  },
  {
   "cell_type": "code",
   "execution_count": null,
   "metadata": {
    "dotnet_interactive": {
     "language": "fsharp"
    },
    "vscode": {
     "languageId": "dotnet-interactive.fsharp"
    }
   },
   "outputs": [
    {
     "data": {
      "text/plain": [
       "(0.1118292655, 0.6750591375, -0.6344099941)\r\n"
      ]
     },
     "metadata": {},
     "output_type": "display_data"
    }
   ],
   "source": [
    "// Long Portfolio FF3 Information Ratios\n",
    "ff3InformationratioLong, ff3InformationratioLongBottom, ff3InformationratioLongTop"
   ]
  },
  {
   "cell_type": "code",
   "execution_count": null,
   "metadata": {
    "dotnet_interactive": {
     "language": "fsharp"
    },
    "vscode": {
     "languageId": "dotnet-interactive.fsharp"
    }
   },
   "outputs": [
    {
     "data": {
      "text/plain": [
       "(0.002327749138, 0.319689793, -0.5268198113)\r\n"
      ]
     },
     "metadata": {},
     "output_type": "display_data"
    }
   ],
   "source": [
    "// Long-Short Portfolio FF3 Information Ratios\n",
    "ff3InformationratioLongShort, ff3InformationratioLongShortBottom, ff3InformationratioLongShortTop"
   ]
  },
  {
   "cell_type": "markdown",
   "metadata": {},
   "source": [
    "### Strategy as Part of a Diversified Portfolio"
   ]
  },
  {
   "cell_type": "code",
   "execution_count": null,
   "metadata": {
    "dotnet_interactive": {
     "language": "fsharp"
    },
    "vscode": {
     "languageId": "dotnet-interactive.fsharp"
    }
   },
   "outputs": [],
   "source": [
    "// Obtaining VTI and BND data\n",
    "\n",
    "type StockData =\n",
    "    { Symbol : string \n",
    "      Date : DateTime\n",
    "      Return : float }\n",
    "  \n",
    "let ff3new = French.getFF3 Frequency.Monthly |> Array.toList\n",
    "\n",
    "let ff3StockData =\n",
    "    [ \n",
    "       ff3new |> List.map(fun x -> {Symbol=\"HML\";Date=x.Date;Return=x.Hml})\n",
    "       ff3new |> List.map(fun x -> {Symbol=\"MktRf\";Date=x.Date;Return=x.MktRf})\n",
    "       ff3new |> List.map(fun x -> {Symbol=\"Smb\";Date=x.Date;Return=x.Smb})\n",
    "    ] |> List.concat\n",
    "  \n",
    "let tickers = \n",
    "    [ \n",
    "        \"VTI\" // Vanguard Total Stock Market ETF\n",
    "        \"BND\" // Vanguard Total Bond Market ETF\n",
    "    ]\n",
    "\n",
    "let tickPrices = \n",
    "    YahooFinance.PriceHistory(\n",
    "        tickers,\n",
    "        startDate = DateTime(2000,1,1),\n",
    "        interval = Monthly)\n",
    "\n",
    "// Converting ETF´s prices to returns\n",
    "let pricesToReturns (symbol, adjPrices: list<PriceObs>) =\n",
    "    adjPrices\n",
    "    |> List.sortBy (fun x -> x.Date)\n",
    "    |> List.pairwise\n",
    "    |> List.map (fun (day0, day1) ->\n",
    "        let r = day1.AdjustedClose / day0.AdjustedClose - 1.0 \n",
    "        { Symbol = symbol \n",
    "          Date = day1.Date \n",
    "          Return = r })\n",
    "\n",
    "let tickReturns =\n",
    "    tickPrices\n",
    "    |> List.groupBy (fun x -> x.Symbol)\n",
    "    |> List.collect pricesToReturns\n",
    "    \n",
    "let min_date = tickReturns[0].Date"
   ]
  },
  {
   "cell_type": "code",
   "execution_count": null,
   "metadata": {
    "dotnet_interactive": {
     "language": "fsharp"
    },
    "vscode": {
     "languageId": "dotnet-interactive.fsharp"
    }
   },
   "outputs": [],
   "source": [
    "// Computing diversified Long and Long-Short portfolios\n",
    "\n",
    "let rf = Map [ for x in ff3new do x.Date, x.Rf ]\n",
    "\n",
    "let long_new = \n",
    "    long\n",
    "    |> List.map(fun x ->\n",
    "        { Symbol = \"Long\"\n",
    "          Date = x.YearMonth\n",
    "          Return = x.Return })  \n",
    "\n",
    "let longShort_new = \n",
    "    longShort\n",
    "    |> List.map(fun x ->\n",
    "        { Symbol = \"Long-Short\"\n",
    "          Date = x.YearMonth\n",
    "          Return = x.Return })  \n",
    "\n",
    "let get_standardInvestmentExcess (input: StockData list) =\n",
    "    let result = \n",
    "        let part_1 =\n",
    "            let maxff3Date = ff3new |> List.map(fun x -> x.Date) |> List.max\n",
    "            tickReturns\n",
    "            |> List.filter(fun x -> x.Date <= maxff3Date)\n",
    "            |> List.map(fun x -> \n",
    "                match Map.tryFind x.Date rf with \n",
    "                | None -> failwith $\"why isn't there a rf for {x.Date}\"\n",
    "                | Some rf -> { x with Return = x.Return - rf })\n",
    "        let part_2 =\n",
    "            let maxff3Date = ff3new |> List.map(fun x -> x.Date) |> List.max\n",
    "            input \n",
    "            |> List.filter(fun x -> x.Date >= min_date)\n",
    "            |> List.filter(fun x -> x.Date <= maxff3Date)\n",
    "            |> List.map(fun x -> \n",
    "                match Map.tryFind x.Date rf with \n",
    "                | None -> failwith $\"why isn't there a rf for {x.Date}\"\n",
    "                | Some rf -> { x with Return = x.Return })\n",
    "        part_1 @ part_2\n",
    "        |> Seq.distinct\n",
    "        |> List.ofSeq\n",
    "    result  \n",
    "    \n",
    "let standardInvestmentsExcess = get_standardInvestmentExcess long_new\n",
    "let standardInvestmentsExcessLongShort = get_standardInvestmentExcess longShort_new"
   ]
  },
  {
   "cell_type": "code",
   "execution_count": null,
   "metadata": {
    "dotnet_interactive": {
     "language": "fsharp"
    },
    "vscode": {
     "languageId": "dotnet-interactive.fsharp"
    }
   },
   "outputs": [],
   "source": [
    "// Computing tickers for our portfolios\n",
    "let get_stockData (input: StockData list) = \n",
    "    input\n",
    "    |> List.groupBy(fun x -> x.Symbol)\n",
    "    |> Map"
   ]
  },
  {
   "cell_type": "code",
   "execution_count": null,
   "metadata": {
    "dotnet_interactive": {
     "language": "fsharp"
    },
    "vscode": {
     "languageId": "dotnet-interactive.fsharp"
    }
   },
   "outputs": [],
   "source": [
    "// Computing tickers for our portfolios\n",
    "\n",
    "let stockData = get_stockData standardInvestmentsExcess\n",
    "let stockDataLongShort = get_stockData standardInvestmentsExcessLongShort\n",
    "\n",
    "let tickers_tweaked =\n",
    "    [ \n",
    "        \"VTI\" // Vanguard Total Stock Market ETF\n",
    "        \"BND\" // Vanguard Total Bond Market ETF\n",
    "        \"Long\"\n",
    "    ]\n",
    "\n",
    "let tickers_tweaked_LongShort =\n",
    "    [ \n",
    "        \"VTI\" \n",
    "        \"BND\" \n",
    "        \"Long-Short\"\n",
    "    ]\n",
    "\n",
    "let tickers_6040 =\n",
    "    [ \n",
    "        \"VTI\" \n",
    "        \"BND\" \n",
    "    ]"
   ]
  },
  {
   "cell_type": "code",
   "execution_count": null,
   "metadata": {
    "dotnet_interactive": {
     "language": "fsharp"
    },
    "vscode": {
     "languageId": "dotnet-interactive.fsharp"
    }
   },
   "outputs": [],
   "source": [
    "// Obtaining covariances\n",
    "\n",
    "let getCov xId yId (stockData: Map<string,StockData list>) =\n",
    "    let xRet = \n",
    "        stockData[xId] \n",
    "        |> List.map (fun x -> x.Date,x.Return) \n",
    "        |> Map\n",
    "    let yRet = \n",
    "        stockData[yId]\n",
    "        |> List.map (fun y -> y.Date, y.Return)\n",
    "        |> Map\n",
    "    let overlappingDates =\n",
    "        [ xRet.Keys |> set\n",
    "          yRet.Keys |> set]\n",
    "        |> Set.intersectMany\n",
    "    [ for date in overlappingDates do xRet[date], yRet[date]]\n",
    "    |> Seq.covOfPairs\n",
    "\n",
    "// Obtaining weights\n",
    "let get_weights (input_tickers: seq<string>) (input_stockdata: Map<string,list<StockData>>) =\n",
    "    let covariances =\n",
    "        [ for rowTick in input_tickers do \n",
    "            [ for colTick in input_tickers do\n",
    "                getCov rowTick colTick input_stockdata ]]\n",
    "        |> dsharp.tensor\n",
    "    let means =\n",
    "        [ for ticker in input_tickers do \n",
    "            input_stockdata[ticker]\n",
    "            |> List.averageBy (fun x -> x.Return)]\n",
    "        |> dsharp.tensor\n",
    "    let w' = dsharp.solve(covariances,means)\n",
    "    let w = w' / w'.sum()\n",
    "    let weights =\n",
    "        Seq.zip input_tickers (w.toArray1D<float>())\n",
    "        |> Map.ofSeq\n",
    "    weights  "
   ]
  },
  {
   "cell_type": "code",
   "execution_count": null,
   "metadata": {
    "dotnet_interactive": {
     "language": "fsharp"
    },
    "vscode": {
     "languageId": "dotnet-interactive.fsharp"
    }
   },
   "outputs": [
    {
     "data": {
      "text/plain": [
       "(map [(\"BND\", 0.8472900987); (\"Long\", 0.2642714679); (\"VTI\", -0.1115615815)],\n",
       " map [(\"BND\", 0.7270628214); (\"Long-Short\", 0.130771637); (\"VTI\", 0.1421655267)])\r\n"
      ]
     },
     "metadata": {},
     "output_type": "display_data"
    }
   ],
   "source": [
    "//Weights for Long and Long-Short portfolios\n",
    "\n",
    "let weights = get_weights tickers_tweaked stockData\n",
    "let weightsLongShort = get_weights tickers_tweaked_LongShort stockDataLongShort\n",
    "\n",
    "weights, weightsLongShort"
   ]
  },
  {
   "cell_type": "code",
   "execution_count": null,
   "metadata": {
    "dotnet_interactive": {
     "language": "fsharp"
    },
    "vscode": {
     "languageId": "dotnet-interactive.fsharp"
    }
   },
   "outputs": [],
   "source": [
    "//Computing MVE and 60/40 portfolios\n",
    "\n",
    "let get_stockDataByDate (input: seq<list<StockData>>) = \n",
    "    input\n",
    "    |> Seq.toList\n",
    "    |> List.collect id \n",
    "    |> List.groupBy(fun x -> x.Date)\n",
    "    |> List.sortBy fst"
   ]
  },
  {
   "cell_type": "code",
   "execution_count": null,
   "metadata": {
    "dotnet_interactive": {
     "language": "fsharp"
    },
    "vscode": {
     "languageId": "dotnet-interactive.fsharp"
    }
   },
   "outputs": [],
   "source": [
    "//Computing MVE and 60/40 portfolios\n",
    "\n",
    "let stockDataByDate = get_stockDataByDate stockData.Values\n",
    "let stockDataByDateLongShort = get_stockDataByDate stockDataLongShort.Values\n",
    "\n",
    "let get_AllAssetsStart (input_stockDataByDate:list<DateTime * list<StockData>>) (input_tickers:list<string>) = \n",
    "    input_stockDataByDate\n",
    "    |> List.find(fun (month, stocks) -> stocks.Length = input_tickers.Length)\n",
    "    |> fst \n",
    "\n",
    "let get_AllAssetsEnd (input_stockDataByDate:list<DateTime * list<StockData>>) (input_tickers:list<string>) = \n",
    "    input_stockDataByDate\n",
    "    |> List.findBack(fun (month, stocks) -> stocks.Length = input_tickers.Length)\n",
    "    |> fst \n",
    "    \n",
    "let allAssetsStart =\n",
    "    get_AllAssetsStart stockDataByDate tickers_tweaked\n",
    "\n",
    "let allAssetsStartLongShort =\n",
    "    get_AllAssetsStart stockDataByDateLongShort tickers_tweaked_LongShort\n",
    "\n",
    "let allAssetsEnd =\n",
    "    get_AllAssetsEnd stockDataByDate tickers_tweaked\n",
    "\n",
    "let allAssetsEndLongShort =\n",
    "    get_AllAssetsEnd stockDataByDateLongShort tickers_tweaked_LongShort\n",
    "    \n",
    "let stockDataByDateComplete =\n",
    "    stockDataByDate\n",
    "    |> List.filter(fun (date, stocks) -> \n",
    "        date >= allAssetsStart &&\n",
    "        date <= allAssetsEnd)\n",
    "\n",
    "let stockDataByDateCompleteLongShort =\n",
    "    stockDataByDateLongShort\n",
    "    |> List.filter(fun (date, stocks) -> \n",
    "        date >= allAssetsStartLongShort &&\n",
    "        date <= allAssetsEndLongShort)"
   ]
  },
  {
   "cell_type": "code",
   "execution_count": null,
   "metadata": {
    "dotnet_interactive": {
     "language": "fsharp"
    },
    "vscode": {
     "languageId": "dotnet-interactive.fsharp"
    }
   },
   "outputs": [],
   "source": [
    "//Computing MVE and 60/40 portfolios\n",
    "\n",
    "let portfolioMonthReturn (weights: Map<string,float>) (monthData: list<StockData>) =\n",
    "    weights\n",
    "    |> Map.toList\n",
    "    |> List.map(fun (symbol, weight) ->\n",
    "        let symbolData = \n",
    "            match monthData |> List.tryFind(fun x -> x.Symbol = symbol) with\n",
    "            | None -> failwith $\"You tried to find {symbol} in the data but it was not there\"\n",
    "            | Some data -> data\n",
    "        symbolData.Return*weight)\n",
    "    |> List.sum\n",
    "\n",
    "let weights6040 = Map [(\"VTI\",0.6);(\"BND\",0.4)]\n",
    "\n",
    "let portMve =\n",
    "    stockDataByDateComplete\n",
    "    |> List.map(fun (date, data) -> \n",
    "        { Symbol = \"MVE Long\"\n",
    "          Date = date\n",
    "          Return = portfolioMonthReturn weights data })\n",
    "\n",
    "let portMveLongShort =\n",
    "    stockDataByDateCompleteLongShort\n",
    "    |> List.map(fun (date, data) -> \n",
    "        { Symbol = \"MVE Long-Short\"\n",
    "          Date = date\n",
    "          Return = portfolioMonthReturn weightsLongShort data })\n",
    "\n",
    "let port6040 = \n",
    "    stockDataByDateComplete\n",
    "    |> List.map(fun (date, data) -> \n",
    "        { Symbol = \"60/40\"\n",
    "          Date = date \n",
    "          Return = portfolioMonthReturn weights6040 data})"
   ]
  },
  {
   "cell_type": "code",
   "execution_count": null,
   "metadata": {
    "dotnet_interactive": {
     "language": "fsharp"
    },
    "vscode": {
     "languageId": "dotnet-interactive.fsharp"
    }
   },
   "outputs": [],
   "source": [
    "// Computing Portfolio indicators\n",
    "\n",
    "let get_avg_StockData (input:StockData List) = \n",
    "    let x = \n",
    "        input\n",
    "        |> List.map (fun x -> x.Return)\n",
    "        |> List.map ( fun x -> annualizeMonthlyReturns x)\n",
    "        |> List.average\n",
    "    let y = \n",
    "        x * 100.0\n",
    "    y\n",
    "\n",
    "let get_sharpe_StockData (input: StockData List) = \n",
    "    input\n",
    "    |> List.map (fun x -> x.Return)\n",
    "    |> sharpe\n",
    "    |> annualizeMonthlySharpe\n",
    "\n",
    "let get_stdDevAnnualized_StockData (input: StockData list) = \n",
    "    input\n",
    "    |> Seq.stDevBy (fun x -> x.Return)\n",
    "    |> annualizeMonthlyStdDev\n",
    "\n",
    "// Annualized Returns\n",
    "let MveAvg = get_avg_StockData portMve\n",
    "let MveLongShortAvg = get_avg_StockData portMveLongShort\n",
    "let port6040Avg = get_avg_StockData port6040\n",
    "\n",
    "//Sharpe Ratio´s\n",
    "let MveSharpe = get_sharpe_StockData portMve\n",
    "let MveLongShortSharpe = get_sharpe_StockData portMveLongShort\n",
    "let port6040Sharpe = get_sharpe_StockData port6040\n",
    "\n",
    "//Standard Deviation\n",
    "let stdDevMveAnnualized = get_stdDevAnnualized_StockData portMve\n",
    "let stdDevMveLongShortAnnualized = get_stdDevAnnualized_StockData portMveLongShort\n",
    "let stdDev6040Annualized = get_stdDevAnnualized_StockData port6040"
   ]
  },
  {
   "cell_type": "code",
   "execution_count": null,
   "metadata": {
    "dotnet_interactive": {
     "language": "fsharp"
    },
    "vscode": {
     "languageId": "dotnet-interactive.fsharp"
    }
   },
   "outputs": [
    {
     "data": {
      "text/plain": [
       "(4.657661418, 4.058223255, 7.215323341)\r\n"
      ]
     },
     "metadata": {},
     "output_type": "display_data"
    }
   ],
   "source": [
    "// Average Annualized Returns\n",
    "MveAvg, MveLongShortAvg, port6040Avg"
   ]
  },
  {
   "cell_type": "code",
   "execution_count": null,
   "metadata": {
    "dotnet_interactive": {
     "language": "fsharp"
    },
    "vscode": {
     "languageId": "dotnet-interactive.fsharp"
    }
   },
   "outputs": [
    {
     "data": {
      "text/plain": [
       "(1.124521239, 1.102921397, 0.7109974372)\r\n"
      ]
     },
     "metadata": {},
     "output_type": "display_data"
    }
   ],
   "source": [
    "// Sharpe Ratio´s\n",
    "MveSharpe, MveLongShortSharpe, port6040Sharpe"
   ]
  },
  {
   "cell_type": "code",
   "execution_count": null,
   "metadata": {
    "dotnet_interactive": {
     "language": "fsharp"
    },
    "vscode": {
     "languageId": "dotnet-interactive.fsharp"
    }
   },
   "outputs": [],
   "source": [
    "// Computing Leveraged portfolios\n",
    "\n",
    "let leverageMve = get_leverage stdDevMveAnnualized\n",
    "let leverageMveLongShort = get_leverage stdDevMveLongShortAnnualized\n",
    "let leverage6040 = get_leverage stdDev6040Annualized\n",
    "\n",
    "let MveLev = \n",
    "    portMve\n",
    "    |> List.map(fun (x) ->\n",
    "        { Symbol = \"MVE Long\";\n",
    "          Date = x.Date;\n",
    "          Return = leverageMve * x.Return })\n",
    "\n",
    "let MveLongShortLev = \n",
    "    portMveLongShort\n",
    "    |> List.map(fun (x) ->\n",
    "        { Symbol = \"MVE Long-Short\";\n",
    "          Date = x.Date;\n",
    "          Return = leverageMve * x.Return })\n",
    "\n",
    "let portf6040Lev = \n",
    "    port6040\n",
    "    |> List.map(fun (x) ->\n",
    "        { Symbol = \"60/40\" ;\n",
    "          Date = x.Date;\n",
    "          Return = leverage6040 * x.Return })"
   ]
  },
  {
   "cell_type": "code",
   "execution_count": null,
   "metadata": {
    "dotnet_interactive": {
     "language": "fsharp"
    },
    "vscode": {
     "languageId": "dotnet-interactive.fsharp"
    }
   },
   "outputs": [],
   "source": [
    "// Computing plots\n",
    "\n",
    "let cumulateSimpleReturn_div (xs: StockData list) =\n",
    "    let accumulator (priorObs:StockData) (thisObs:StockData) =\n",
    "        let asOfNow = (1.0 + priorObs.Return)*(1.0 + thisObs.Return) - 1.0\n",
    "        { thisObs with Return = asOfNow}\n",
    "    match xs |> List.sortBy(fun x -> x.Date) with\n",
    "    | [] -> []      \n",
    "    | head::tail -> \n",
    "        (head, tail) \n",
    "        ||> List.scan accumulator\n",
    "\n",
    "let portfolioReturnPlot_div (xs: StockData list) =\n",
    "    xs\n",
    "    |> List.map(fun x -> x.Date, x.Return)\n",
    "    |> Chart.Line \n",
    "    |> Chart.withLegendStyle(Orientation=StyleParam.Orientation.Horizontal)\n",
    "    \n",
    "let combineMveChart =\n",
    "    List.concat [portMve; portMveLongShort; port6040]\n",
    "    |> List.groupBy(fun x -> x.Symbol)\n",
    "    |> List.map(fun (portId, xs) ->\n",
    "        xs\n",
    "        |> cumulateSimpleReturn_div\n",
    "        |> portfolioReturnPlot_div\n",
    "        |> Chart.withTitle \"MVE & 60/40 Portfolios\"\n",
    "        |> Chart.withTraceInfo (Name=portId.ToString()))\n",
    "    |> Chart.combine\n",
    "        |> Chart.withSize(600.0,600.0)\n",
    "\n",
    "let combinedMveChart_LEV =\n",
    "    List.concat [MveLev; MveLongShortLev; portf6040Lev]\n",
    "    |> List.groupBy(fun x -> x.Symbol)\n",
    "    |> List.map(fun (portId, xs) ->\n",
    "        xs\n",
    "        |> cumulateSimpleReturn_div\n",
    "        |> portfolioReturnPlot_div\n",
    "        |> Chart.withTitle \"MVE & 60/40 Portfolios Leveraged\"\n",
    "        |> Chart.withTraceInfo (Name=portId.ToString() + \" Leveraged\"))\n",
    "    |> Chart.combine\n",
    "        |> Chart.withSize(600.0,600.0)"
   ]
  },
  {
   "cell_type": "code",
   "execution_count": null,
   "metadata": {
    "dotnet_interactive": {
     "language": "fsharp"
    },
    "vscode": {
     "languageId": "dotnet-interactive.fsharp"
    }
   },
   "outputs": [
    {
     "data": {
      "text/html": [
       "\r\n",
       "<div>\r\n",
       "    <div id=\"fc6cc657-1801-457c-9160-f92b6a6aca83\"><!-- Plotly chart will be drawn inside this DIV --></div>\r\n",
       "<script type=\"text/javascript\">\r\n",
       "\r\n",
       "            var renderPlotly_fc6cc6571801457c9160f92b6a6aca83 = function() {\r\n",
       "            var fsharpPlotlyRequire = requirejs.config({context:'fsharp-plotly',paths:{plotly:'https://cdn.plot.ly/plotly-2.6.3.min'}}) || require;\r\n",
       "            fsharpPlotlyRequire(['plotly'], function(Plotly) {\r\n",
       "\r\n",
       "            var data = [{\"type\":\"scatter\",\"mode\":\"lines\",\"x\":[\"2007-06-01T00:00:00+01:00\",\"2007-07-01T00:00:00+01:00\",\"2007-08-01T00:00:00+01:00\",\"2007-09-01T00:00:00+01:00\",\"2007-10-01T00:00:00+01:00\",\"2007-11-01T00:00:00+00:00\",\"2007-12-01T00:00:00+00:00\",\"2008-01-01T00:00:00+00:00\",\"2008-02-01T00:00:00+00:00\",\"2008-03-01T00:00:00+00:00\",\"2008-04-01T00:00:00+01:00\",\"2008-05-01T00:00:00+01:00\",\"2008-06-01T00:00:00+01:00\",\"2008-07-01T00:00:00+01:00\",\"2008-08-01T00:00:00+01:00\",\"2008-09-01T00:00:00+01:00\",\"2008-10-01T00:00:00+01:00\",\"2008-11-01T00:00:00+00:00\",\"2008-12-01T00:00:00+00:00\",\"2009-01-01T00:00:00+00:00\",\"2009-02-01T00:00:00+00:00\",\"2009-03-01T00:00:00+00:00\",\"2009-04-01T00:00:00+01:00\",\"2009-05-01T00:00:00+01:00\",\"2009-06-01T00:00:00+01:00\",\"2009-07-01T00:00:00+01:00\",\"2009-08-01T00:00:00+01:00\",\"2009-09-01T00:00:00+01:00\",\"2009-10-01T00:00:00+01:00\",\"2009-11-01T00:00:00+00:00\",\"2009-12-01T00:00:00+00:00\",\"2010-01-01T00:00:00+00:00\",\"2010-02-01T00:00:00+00:00\",\"2010-03-01T00:00:00+00:00\",\"2010-04-01T00:00:00+01:00\",\"2010-05-01T00:00:00+01:00\",\"2010-06-01T00:00:00+01:00\",\"2010-07-01T00:00:00+01:00\",\"2010-08-01T00:00:00+01:00\",\"2010-09-01T00:00:00+01:00\",\"2010-10-01T00:00:00+01:00\",\"2010-11-01T00:00:00+00:00\",\"2010-12-01T00:00:00+00:00\",\"2011-01-01T00:00:00+00:00\",\"2011-02-01T00:00:00+00:00\",\"2011-03-01T00:00:00+00:00\",\"2011-04-01T00:00:00+01:00\",\"2011-05-01T00:00:00+01:00\",\"2011-06-01T00:00:00+01:00\",\"2011-07-01T00:00:00+01:00\",\"2011-08-01T00:00:00+01:00\",\"2011-09-01T00:00:00+01:00\",\"2011-10-01T00:00:00+01:00\",\"2011-11-01T00:00:00+00:00\",\"2011-12-01T00:00:00+00:00\",\"2012-01-01T00:00:00+00:00\",\"2012-02-01T00:00:00+00:00\",\"2012-03-01T00:00:00+00:00\",\"2012-04-01T00:00:00+01:00\",\"2012-05-01T00:00:00+01:00\",\"2012-06-01T00:00:00+01:00\",\"2012-07-01T00:00:00+01:00\",\"2012-08-01T00:00:00+01:00\",\"2012-09-01T00:00:00+01:00\",\"2012-10-01T00:00:00+01:00\",\"2012-11-01T00:00:00+00:00\",\"2012-12-01T00:00:00+00:00\",\"2013-01-01T00:00:00+00:00\",\"2013-02-01T00:00:00+00:00\",\"2013-03-01T00:00:00+00:00\",\"2013-04-01T00:00:00+01:00\",\"2013-05-01T00:00:00+01:00\",\"2013-06-01T00:00:00+01:00\",\"2013-07-01T00:00:00+01:00\",\"2013-08-01T00:00:00+01:00\",\"2013-09-01T00:00:00+01:00\",\"2013-10-01T00:00:00+01:00\",\"2013-11-01T00:00:00+00:00\",\"2013-12-01T00:00:00+00:00\",\"2014-01-01T00:00:00+00:00\",\"2014-02-01T00:00:00+00:00\",\"2014-03-01T00:00:00+00:00\",\"2014-04-01T00:00:00+01:00\",\"2014-05-01T00:00:00+01:00\",\"2014-06-01T00:00:00+01:00\",\"2014-07-01T00:00:00+01:00\",\"2014-08-01T00:00:00+01:00\",\"2014-09-01T00:00:00+01:00\",\"2014-10-01T00:00:00+01:00\",\"2014-11-01T00:00:00+00:00\",\"2014-12-01T00:00:00+00:00\",\"2015-01-01T00:00:00+00:00\",\"2015-02-01T00:00:00+00:00\",\"2015-03-01T00:00:00+00:00\",\"2015-04-01T00:00:00+01:00\",\"2015-05-01T00:00:00+01:00\",\"2015-06-01T00:00:00+01:00\",\"2015-07-01T00:00:00+01:00\",\"2015-08-01T00:00:00+01:00\",\"2015-09-01T00:00:00+01:00\",\"2015-10-01T00:00:00+01:00\",\"2015-11-01T00:00:00+00:00\",\"2015-12-01T00:00:00+00:00\",\"2016-01-01T00:00:00+00:00\",\"2016-02-01T00:00:00+00:00\",\"2016-03-01T00:00:00+00:00\",\"2016-04-01T00:00:00+01:00\",\"2016-05-01T00:00:00+01:00\",\"2016-06-01T00:00:00+01:00\",\"2016-07-01T00:00:00+01:00\",\"2016-08-01T00:00:00+01:00\",\"2016-09-01T00:00:00+01:00\",\"2016-10-01T00:00:00+01:00\",\"2016-11-01T00:00:00+00:00\",\"2016-12-01T00:00:00+00:00\",\"2017-01-01T00:00:00+00:00\",\"2017-02-01T00:00:00+00:00\",\"2017-03-01T00:00:00+00:00\",\"2017-04-01T00:00:00+01:00\",\"2017-05-01T00:00:00+01:00\",\"2017-06-01T00:00:00+01:00\",\"2017-07-01T00:00:00+01:00\",\"2017-08-01T00:00:00+01:00\",\"2017-09-01T00:00:00+01:00\",\"2017-10-01T00:00:00+01:00\",\"2017-11-01T00:00:00+00:00\",\"2017-12-01T00:00:00+00:00\",\"2018-01-01T00:00:00+00:00\",\"2018-02-01T00:00:00+00:00\",\"2018-03-01T00:00:00+00:00\",\"2018-04-01T00:00:00+01:00\",\"2018-05-01T00:00:00+01:00\",\"2018-06-01T00:00:00+01:00\",\"2018-07-01T00:00:00+01:00\",\"2018-08-01T00:00:00+01:00\",\"2018-09-01T00:00:00+01:00\",\"2018-10-01T00:00:00+01:00\",\"2018-11-01T00:00:00+00:00\",\"2018-12-01T00:00:00+00:00\",\"2019-01-01T00:00:00+00:00\",\"2019-02-01T00:00:00+00:00\",\"2019-03-01T00:00:00+00:00\",\"2019-04-01T00:00:00+01:00\",\"2019-05-01T00:00:00+01:00\",\"2019-06-01T00:00:00+01:00\",\"2019-07-01T00:00:00+01:00\",\"2019-08-01T00:00:00+01:00\",\"2019-09-01T00:00:00+01:00\",\"2019-10-01T00:00:00+01:00\",\"2019-11-01T00:00:00+00:00\",\"2019-12-01T00:00:00+00:00\",\"2020-01-01T00:00:00+00:00\",\"2020-02-01T00:00:00+00:00\",\"2020-03-01T00:00:00+00:00\",\"2020-04-01T00:00:00+01:00\",\"2020-05-01T00:00:00+01:00\",\"2020-06-01T00:00:00+01:00\",\"2020-07-01T00:00:00+01:00\",\"2020-08-01T00:00:00+01:00\",\"2020-09-01T00:00:00+01:00\",\"2020-10-01T00:00:00+01:00\",\"2020-11-01T00:00:00+00:00\",\"2020-12-01T00:00:00+00:00\"],\"y\":[-0.007739494204194882,-0.004035276599430371,0.005127163425971748,0.016733203844284228,0.027813961311268454,0.035049222149497794,0.041112472946020384,0.039255171609147155,0.034156041296186324,0.035250304629234286,0.03883051482737998,0.03519771380860348,0.026688870586333513,0.017999286088070665,0.02392440693739961,-0.004348463074783759,-0.05418078504272661,-0.029819763438278968,0.014935735788720539,-0.0012630611615017662,-0.019506892205915283,0.0004040641533846756,0.01107366655590325,0.027790015039662608,0.03258883525963174,0.05248551716172578,0.062149002948256094,0.0786183026032008,0.07967436932372585,0.10127748203095854,0.0923667328506439,0.10245789250788384,0.1075010506469749,0.11673680840058287,0.12696398329483594,0.12825171147675718,0.13572559266247808,0.1526157497300935,0.16271377780522145,0.18046117826615382,0.19195463974751625,0.18936758609377402,0.18131765482163842,0.19160927906763203,0.20144534329771058,0.20192618760416936,0.22121447626794422,0.22775619027353677,0.2218052446313714,0.23667476608092675,0.24047878847407822,0.22626851688156213,0.25505869453690044,0.2550037668285916,0.2576322274340812,0.28665871517809904,0.29720162913301174,0.29360219918825226,0.3031484420664343,0.3002667316877232,0.30880658065475064,0.32527541363567414,0.3335662120980234,0.34262945262800915,0.3343015726152434,0.33855407664774106,0.3257545199692753,0.32843915957683634,0.333020670975118,0.3404136827451407,0.3499718986399918,0.33700249572524266,0.31453011811081155,0.3335557154847568,0.3223021509204289,0.34460342817345224,0.3630656825594589,0.365791975620799,0.3618996678988471,0.37991773069413615,0.3948443405540134,0.39153008693630387,0.3995530779671954,0.4178455775062766,0.42339371667762005,0.41476784607845785,0.4367336986005128,0.4251151122399761,0.4389944054001489,0.4530178005889056,0.44850312452669683,0.4799143212921433,0.4769089323139879,0.4823185655478426,0.48022229581881626,0.4778616523368706,0.46009755874605607,0.47315149395769573,0.4567835984367563,0.4623522729742733,0.4794142935423882,0.47370547994821877,0.46473103642987024,0.46950113130661686,0.4783238685240305,0.5042718606711429,0.5067792962180713,0.5098027151487883,0.53545258439436,0.5523208505780155,0.5439381640467578,0.5446287933669263,0.5228402664287108,0.4962283249739463,0.5010298359420278,0.5163326764963099,0.5275685110633956,0.5303819627643815,0.5416985192737382,0.5557104844367213,0.5533149048136499,0.5617381696525767,0.5769721537528982,0.580851912796903,0.587481028022389,0.5898509691318974,0.597556434088738,0.5995271835024392,0.5725105441649965,0.5792693158116686,0.5661405991844404,0.5804302954379859,0.5766920574866514,0.5842440739307564,0.5924861704410309,0.5867360090914795,0.5510816509889558,0.5650857439035206,0.5638006205594022,0.6026014159200179,0.6069716287940501,0.6351589567837672,0.6386781210035495,0.6459451359462083,0.6772842190504085,0.6723594926441709,0.7002407370685755,0.6909985408313779,0.694357895862771,0.7004042828654362,0.7011096374481007,0.730077302059776,0.7278569237916195,0.6717529895175254,0.7467926423379625,0.7727423709443144,0.7917764548014414,0.833824035975119,0.8369328213773686,0.8259507529737584,0.8086074944218813,0.8532882483049129,0.8587662513968775],\"marker\":{},\"line\":{},\"name\":\"MVE Long\"},{\"type\":\"scatter\",\"mode\":\"lines\",\"x\":[\"2007-06-01T00:00:00+01:00\",\"2007-07-01T00:00:00+01:00\",\"2007-08-01T00:00:00+01:00\",\"2007-09-01T00:00:00+01:00\",\"2007-10-01T00:00:00+01:00\",\"2007-11-01T00:00:00+00:00\",\"2007-12-01T00:00:00+00:00\",\"2008-01-01T00:00:00+00:00\",\"2008-02-01T00:00:00+00:00\",\"2008-03-01T00:00:00+00:00\",\"2008-04-01T00:00:00+01:00\",\"2008-05-01T00:00:00+01:00\",\"2008-06-01T00:00:00+01:00\",\"2008-07-01T00:00:00+01:00\",\"2008-08-01T00:00:00+01:00\",\"2008-09-01T00:00:00+01:00\",\"2008-10-01T00:00:00+01:00\",\"2008-11-01T00:00:00+00:00\",\"2008-12-01T00:00:00+00:00\",\"2009-01-01T00:00:00+00:00\",\"2009-02-01T00:00:00+00:00\",\"2009-03-01T00:00:00+00:00\",\"2009-04-01T00:00:00+01:00\",\"2009-05-01T00:00:00+01:00\",\"2009-06-01T00:00:00+01:00\",\"2009-07-01T00:00:00+01:00\",\"2009-08-01T00:00:00+01:00\",\"2009-09-01T00:00:00+01:00\",\"2009-10-01T00:00:00+01:00\",\"2009-11-01T00:00:00+00:00\",\"2009-12-01T00:00:00+00:00\",\"2010-01-01T00:00:00+00:00\",\"2010-02-01T00:00:00+00:00\",\"2010-03-01T00:00:00+00:00\",\"2010-04-01T00:00:00+01:00\",\"2010-05-01T00:00:00+01:00\",\"2010-06-01T00:00:00+01:00\",\"2010-07-01T00:00:00+01:00\",\"2010-08-01T00:00:00+01:00\",\"2010-09-01T00:00:00+01:00\",\"2010-10-01T00:00:00+01:00\",\"2010-11-01T00:00:00+00:00\",\"2010-12-01T00:00:00+00:00\",\"2011-01-01T00:00:00+00:00\",\"2011-02-01T00:00:00+00:00\",\"2011-03-01T00:00:00+00:00\",\"2011-04-01T00:00:00+01:00\",\"2011-05-01T00:00:00+01:00\",\"2011-06-01T00:00:00+01:00\",\"2011-07-01T00:00:00+01:00\",\"2011-08-01T00:00:00+01:00\",\"2011-09-01T00:00:00+01:00\",\"2011-10-01T00:00:00+01:00\",\"2011-11-01T00:00:00+00:00\",\"2011-12-01T00:00:00+00:00\",\"2012-01-01T00:00:00+00:00\",\"2012-02-01T00:00:00+00:00\",\"2012-03-01T00:00:00+00:00\",\"2012-04-01T00:00:00+01:00\",\"2012-05-01T00:00:00+01:00\",\"2012-06-01T00:00:00+01:00\",\"2012-07-01T00:00:00+01:00\",\"2012-08-01T00:00:00+01:00\",\"2012-09-01T00:00:00+01:00\",\"2012-10-01T00:00:00+01:00\",\"2012-11-01T00:00:00+00:00\",\"2012-12-01T00:00:00+00:00\",\"2013-01-01T00:00:00+00:00\",\"2013-02-01T00:00:00+00:00\",\"2013-03-01T00:00:00+00:00\",\"2013-04-01T00:00:00+01:00\",\"2013-05-01T00:00:00+01:00\",\"2013-06-01T00:00:00+01:00\",\"2013-07-01T00:00:00+01:00\",\"2013-08-01T00:00:00+01:00\",\"2013-09-01T00:00:00+01:00\",\"2013-10-01T00:00:00+01:00\",\"2013-11-01T00:00:00+00:00\",\"2013-12-01T00:00:00+00:00\",\"2014-01-01T00:00:00+00:00\",\"2014-02-01T00:00:00+00:00\",\"2014-03-01T00:00:00+00:00\",\"2014-04-01T00:00:00+01:00\",\"2014-05-01T00:00:00+01:00\",\"2014-06-01T00:00:00+01:00\",\"2014-07-01T00:00:00+01:00\",\"2014-08-01T00:00:00+01:00\",\"2014-09-01T00:00:00+01:00\",\"2014-10-01T00:00:00+01:00\",\"2014-11-01T00:00:00+00:00\",\"2014-12-01T00:00:00+00:00\",\"2015-01-01T00:00:00+00:00\",\"2015-02-01T00:00:00+00:00\",\"2015-03-01T00:00:00+00:00\",\"2015-04-01T00:00:00+01:00\",\"2015-05-01T00:00:00+01:00\",\"2015-06-01T00:00:00+01:00\",\"2015-07-01T00:00:00+01:00\",\"2015-08-01T00:00:00+01:00\",\"2015-09-01T00:00:00+01:00\",\"2015-10-01T00:00:00+01:00\",\"2015-11-01T00:00:00+00:00\",\"2015-12-01T00:00:00+00:00\",\"2016-01-01T00:00:00+00:00\",\"2016-02-01T00:00:00+00:00\",\"2016-03-01T00:00:00+00:00\",\"2016-04-01T00:00:00+01:00\",\"2016-05-01T00:00:00+01:00\",\"2016-06-01T00:00:00+01:00\",\"2016-07-01T00:00:00+01:00\",\"2016-08-01T00:00:00+01:00\",\"2016-09-01T00:00:00+01:00\",\"2016-10-01T00:00:00+01:00\",\"2016-11-01T00:00:00+00:00\",\"2016-12-01T00:00:00+00:00\",\"2017-01-01T00:00:00+00:00\",\"2017-02-01T00:00:00+00:00\",\"2017-03-01T00:00:00+00:00\",\"2017-04-01T00:00:00+01:00\",\"2017-05-01T00:00:00+01:00\",\"2017-06-01T00:00:00+01:00\",\"2017-07-01T00:00:00+01:00\",\"2017-08-01T00:00:00+01:00\",\"2017-09-01T00:00:00+01:00\",\"2017-10-01T00:00:00+01:00\",\"2017-11-01T00:00:00+00:00\",\"2017-12-01T00:00:00+00:00\",\"2018-01-01T00:00:00+00:00\",\"2018-02-01T00:00:00+00:00\",\"2018-03-01T00:00:00+00:00\",\"2018-04-01T00:00:00+01:00\",\"2018-05-01T00:00:00+01:00\",\"2018-06-01T00:00:00+01:00\",\"2018-07-01T00:00:00+01:00\",\"2018-08-01T00:00:00+01:00\",\"2018-09-01T00:00:00+01:00\",\"2018-10-01T00:00:00+01:00\",\"2018-11-01T00:00:00+00:00\",\"2018-12-01T00:00:00+00:00\",\"2019-01-01T00:00:00+00:00\",\"2019-02-01T00:00:00+00:00\",\"2019-03-01T00:00:00+00:00\",\"2019-04-01T00:00:00+01:00\",\"2019-05-01T00:00:00+01:00\",\"2019-06-01T00:00:00+01:00\",\"2019-07-01T00:00:00+01:00\",\"2019-08-01T00:00:00+01:00\",\"2019-09-01T00:00:00+01:00\",\"2019-10-01T00:00:00+01:00\",\"2019-11-01T00:00:00+00:00\",\"2019-12-01T00:00:00+00:00\",\"2020-01-01T00:00:00+00:00\",\"2020-02-01T00:00:00+00:00\",\"2020-03-01T00:00:00+00:00\",\"2020-04-01T00:00:00+01:00\",\"2020-05-01T00:00:00+01:00\",\"2020-06-01T00:00:00+01:00\",\"2020-07-01T00:00:00+01:00\",\"2020-08-01T00:00:00+01:00\",\"2020-09-01T00:00:00+01:00\",\"2020-10-01T00:00:00+01:00\",\"2020-11-01T00:00:00+00:00\",\"2020-12-01T00:00:00+00:00\"],\"y\":[-0.00891487393250384,-0.007117992015047925,0.0016775691453010388,0.010658097941505185,0.018024760942119356,0.024330493765515993,0.02565677047929693,0.026627454109632964,0.01872030919665124,0.019283777251856593,0.02221740504480363,0.018167550903821716,0.007879444962476834,0.0048568308326566445,0.010096195021912724,-0.01140257043170012,-0.05228336166561742,-0.03089347738512438,0.0058641190917454455,-0.008983222087680875,-0.026000744567175715,-0.013548906585221454,-0.004104456655434241,0.008560830320658575,0.012370185697205383,0.02893168572194238,0.04022555894994562,0.052327673201462366,0.053518124423700186,0.07229841289942285,0.06237658374849442,0.0738731807350339,0.07786895984404318,0.0852664560051446,0.09415397873117448,0.09500231089936007,0.0982700130295675,0.11371160421647075,0.12046160311901799,0.13361508569348768,0.14391075578186752,0.14085841629154316,0.13346053767201793,0.14321677275229705,0.14964067436585493,0.14687857141455818,0.16381185887613148,0.16878027897168146,0.16307992157738593,0.1772280987251762,0.1784799657428633,0.16678258013551295,0.19307142516703335,0.19284434495411285,0.1957561797572518,0.2209842742073509,0.2299310464397306,0.22839866884783144,0.23701273826566216,0.23513349892880386,0.2424309315230695,0.2579511061146307,0.2647390413477837,0.2709990215089684,0.2646534414323043,0.267769268037916,0.2553559984159428,0.25912664121950146,0.26397243625485034,0.26976471739733365,0.28140414977122163,0.2707804524997868,0.25160125518101206,0.26862166168806034,0.2568329623842234,0.2733344418423318,0.2906060996436619,0.2940370267622312,0.2891534497963826,0.3052248307198797,0.31758153541590617,0.3153296668405696,0.3224649635411385,0.3376677521158422,0.34136547922338534,0.3351704999274323,0.3537177253748973,0.3446508828623742,0.359339749921042,0.3744547472863782,0.3687352691359058,0.39619402642666235,0.3927690493024434,0.39546556652209786,0.39362262895602806,0.3925933787200009,0.37737445244396506,0.3927789780530364,0.37816113628934467,0.38200183704151547,0.39893618422187993,0.39586418967271375,0.3869646832241511,0.3890176234909857,0.3957575943525098,0.4162828052679597,0.4188895488159561,0.42255912487439296,0.44014534520255744,0.4570043445517422,0.45126087422845385,0.44979626140638995,0.43473877546443895,0.41611858273161895,0.41962616814646725,0.4328755199248957,0.44430135337291077,0.4430826378815427,0.4539392954248469,0.4645264621788494,0.4638119710744215,0.4711112001058202,0.48337825716988014,0.48572953899456794,0.49375611380262807,0.4970866248987771,0.5019296414148806,0.5079395901218051,0.4858367965582471,0.4882356140977724,0.4784676656858535,0.4919118721223803,0.4862768483548936,0.4950255828270591,0.5052350192341406,0.4973064852058666,0.46813851723771527,0.4776346972139891,0.47267115542770166,0.5076765147476039,0.5112270274288975,0.5318464659105417,0.5380263324852745,0.5427046238537072,0.56693488844281,0.5658979613729438,0.5874382907140792,0.5798733655241124,0.5852045490981426,0.5912493427265211,0.5892236003370654,0.613895545212644,0.6102320882639278,0.5564605560107987,0.6201142751238669,0.6416959125516819,0.6559186025617749,0.6940839042310363,0.7022076815866547,0.6903907341258075,0.6779049846880234,0.7123225255746128,0.7180861131271377],\"marker\":{},\"line\":{},\"name\":\"MVE Long-Short\"},{\"type\":\"scatter\",\"mode\":\"lines\",\"x\":[\"2007-06-01T00:00:00+01:00\",\"2007-07-01T00:00:00+01:00\",\"2007-08-01T00:00:00+01:00\",\"2007-09-01T00:00:00+01:00\",\"2007-10-01T00:00:00+01:00\",\"2007-11-01T00:00:00+00:00\",\"2007-12-01T00:00:00+00:00\",\"2008-01-01T00:00:00+00:00\",\"2008-02-01T00:00:00+00:00\",\"2008-03-01T00:00:00+00:00\",\"2008-04-01T00:00:00+01:00\",\"2008-05-01T00:00:00+01:00\",\"2008-06-01T00:00:00+01:00\",\"2008-07-01T00:00:00+01:00\",\"2008-08-01T00:00:00+01:00\",\"2008-09-01T00:00:00+01:00\",\"2008-10-01T00:00:00+01:00\",\"2008-11-01T00:00:00+00:00\",\"2008-12-01T00:00:00+00:00\",\"2009-01-01T00:00:00+00:00\",\"2009-02-01T00:00:00+00:00\",\"2009-03-01T00:00:00+00:00\",\"2009-04-01T00:00:00+01:00\",\"2009-05-01T00:00:00+01:00\",\"2009-06-01T00:00:00+01:00\",\"2009-07-01T00:00:00+01:00\",\"2009-08-01T00:00:00+01:00\",\"2009-09-01T00:00:00+01:00\",\"2009-10-01T00:00:00+01:00\",\"2009-11-01T00:00:00+00:00\",\"2009-12-01T00:00:00+00:00\",\"2010-01-01T00:00:00+00:00\",\"2010-02-01T00:00:00+00:00\",\"2010-03-01T00:00:00+00:00\",\"2010-04-01T00:00:00+01:00\",\"2010-05-01T00:00:00+01:00\",\"2010-06-01T00:00:00+01:00\",\"2010-07-01T00:00:00+01:00\",\"2010-08-01T00:00:00+01:00\",\"2010-09-01T00:00:00+01:00\",\"2010-10-01T00:00:00+01:00\",\"2010-11-01T00:00:00+00:00\",\"2010-12-01T00:00:00+00:00\",\"2011-01-01T00:00:00+00:00\",\"2011-02-01T00:00:00+00:00\",\"2011-03-01T00:00:00+00:00\",\"2011-04-01T00:00:00+01:00\",\"2011-05-01T00:00:00+01:00\",\"2011-06-01T00:00:00+01:00\",\"2011-07-01T00:00:00+01:00\",\"2011-08-01T00:00:00+01:00\",\"2011-09-01T00:00:00+01:00\",\"2011-10-01T00:00:00+01:00\",\"2011-11-01T00:00:00+00:00\",\"2011-12-01T00:00:00+00:00\",\"2012-01-01T00:00:00+00:00\",\"2012-02-01T00:00:00+00:00\",\"2012-03-01T00:00:00+00:00\",\"2012-04-01T00:00:00+01:00\",\"2012-05-01T00:00:00+01:00\",\"2012-06-01T00:00:00+01:00\",\"2012-07-01T00:00:00+01:00\",\"2012-08-01T00:00:00+01:00\",\"2012-09-01T00:00:00+01:00\",\"2012-10-01T00:00:00+01:00\",\"2012-11-01T00:00:00+00:00\",\"2012-12-01T00:00:00+00:00\",\"2013-01-01T00:00:00+00:00\",\"2013-02-01T00:00:00+00:00\",\"2013-03-01T00:00:00+00:00\",\"2013-04-01T00:00:00+01:00\",\"2013-05-01T00:00:00+01:00\",\"2013-06-01T00:00:00+01:00\",\"2013-07-01T00:00:00+01:00\",\"2013-08-01T00:00:00+01:00\",\"2013-09-01T00:00:00+01:00\",\"2013-10-01T00:00:00+01:00\",\"2013-11-01T00:00:00+00:00\",\"2013-12-01T00:00:00+00:00\",\"2014-01-01T00:00:00+00:00\",\"2014-02-01T00:00:00+00:00\",\"2014-03-01T00:00:00+00:00\",\"2014-04-01T00:00:00+01:00\",\"2014-05-01T00:00:00+01:00\",\"2014-06-01T00:00:00+01:00\",\"2014-07-01T00:00:00+01:00\",\"2014-08-01T00:00:00+01:00\",\"2014-09-01T00:00:00+01:00\",\"2014-10-01T00:00:00+01:00\",\"2014-11-01T00:00:00+00:00\",\"2014-12-01T00:00:00+00:00\",\"2015-01-01T00:00:00+00:00\",\"2015-02-01T00:00:00+00:00\",\"2015-03-01T00:00:00+00:00\",\"2015-04-01T00:00:00+01:00\",\"2015-05-01T00:00:00+01:00\",\"2015-06-01T00:00:00+01:00\",\"2015-07-01T00:00:00+01:00\",\"2015-08-01T00:00:00+01:00\",\"2015-09-01T00:00:00+01:00\",\"2015-10-01T00:00:00+01:00\",\"2015-11-01T00:00:00+00:00\",\"2015-12-01T00:00:00+00:00\",\"2016-01-01T00:00:00+00:00\",\"2016-02-01T00:00:00+00:00\",\"2016-03-01T00:00:00+00:00\",\"2016-04-01T00:00:00+01:00\",\"2016-05-01T00:00:00+01:00\",\"2016-06-01T00:00:00+01:00\",\"2016-07-01T00:00:00+01:00\",\"2016-08-01T00:00:00+01:00\",\"2016-09-01T00:00:00+01:00\",\"2016-10-01T00:00:00+01:00\",\"2016-11-01T00:00:00+00:00\",\"2016-12-01T00:00:00+00:00\",\"2017-01-01T00:00:00+00:00\",\"2017-02-01T00:00:00+00:00\",\"2017-03-01T00:00:00+00:00\",\"2017-04-01T00:00:00+01:00\",\"2017-05-01T00:00:00+01:00\",\"2017-06-01T00:00:00+01:00\",\"2017-07-01T00:00:00+01:00\",\"2017-08-01T00:00:00+01:00\",\"2017-09-01T00:00:00+01:00\",\"2017-10-01T00:00:00+01:00\",\"2017-11-01T00:00:00+00:00\",\"2017-12-01T00:00:00+00:00\",\"2018-01-01T00:00:00+00:00\",\"2018-02-01T00:00:00+00:00\",\"2018-03-01T00:00:00+00:00\",\"2018-04-01T00:00:00+01:00\",\"2018-05-01T00:00:00+01:00\",\"2018-06-01T00:00:00+01:00\",\"2018-07-01T00:00:00+01:00\",\"2018-08-01T00:00:00+01:00\",\"2018-09-01T00:00:00+01:00\",\"2018-10-01T00:00:00+01:00\",\"2018-11-01T00:00:00+00:00\",\"2018-12-01T00:00:00+00:00\",\"2019-01-01T00:00:00+00:00\",\"2019-02-01T00:00:00+00:00\",\"2019-03-01T00:00:00+00:00\",\"2019-04-01T00:00:00+01:00\",\"2019-05-01T00:00:00+01:00\",\"2019-06-01T00:00:00+01:00\",\"2019-07-01T00:00:00+01:00\",\"2019-08-01T00:00:00+01:00\",\"2019-09-01T00:00:00+01:00\",\"2019-10-01T00:00:00+01:00\",\"2019-11-01T00:00:00+00:00\",\"2019-12-01T00:00:00+00:00\",\"2020-01-01T00:00:00+00:00\",\"2020-02-01T00:00:00+00:00\",\"2020-03-01T00:00:00+00:00\",\"2020-04-01T00:00:00+01:00\",\"2020-05-01T00:00:00+01:00\",\"2020-06-01T00:00:00+01:00\",\"2020-07-01T00:00:00+01:00\",\"2020-08-01T00:00:00+01:00\",\"2020-09-01T00:00:00+01:00\",\"2020-10-01T00:00:00+01:00\",\"2020-11-01T00:00:00+00:00\",\"2020-12-01T00:00:00+00:00\"],\"y\":[-0.018766142532703253,-0.03759129046429366,-0.027792771336612287,-0.008621449061254283,0.00515538564309459,-0.017661950682809513,-0.02564891518025325,-0.052981145433313226,-0.06950823986015742,-0.07713143323700766,-0.05035049578176498,-0.044363853472980885,-0.09479507590550895,-0.09698096865238603,-0.08726061751214942,-0.14348246470677517,-0.24191751507422277,-0.2668653642356821,-0.24852798952414268,-0.28561179560259775,-0.33353145688008934,-0.300616659924538,-0.250032331304778,-0.22338932549927548,-0.22214404280339406,-0.17951572502769286,-0.15798409002813352,-0.13621108259810732,-0.14650625582899335,-0.11292910213986551,-0.1074735689279599,-0.11640473713599486,-0.09812250790519184,-0.06661438713426804,-0.04828301499231624,-0.08905357491398913,-0.11827845499479062,-0.07537295913870123,-0.09584525165014979,-0.047636061206969615,-0.020418789354872957,-0.020208964336710267,0.010474750716344738,0.030506664581431808,0.05331715197217002,0.052659623776211806,0.07974553209785484,0.07801251284794386,0.062066292730697414,0.05721870786585259,0.02550348583503137,-0.021307279797893264,0.04934112255772205,0.04675723292390299,0.05126765037243208,0.09375663255216482,0.12055616773582778,0.13599135911252835,0.13911649436758178,0.10118122121522632,0.12475816141883267,0.1396531330275539,0.15876152400801424,0.1733662090059942,0.16348450043778784,0.17000165252394428,0.16872342529806272,0.2098711304741736,0.22079793075984044,0.2467093336267805,0.26634438785542813,0.2760197885207454,0.25303433134497677,0.3018505130614364,0.2737107391419844,0.30530624014662067,0.34715158105504873,0.3673587667963627,0.3802892479905915,0.3697230125711408,0.41113319393385406,0.41078011928115243,0.41940184916355316,0.4433737961721347,0.46290804643501215,0.4473732852617085,0.49002265763065633,0.4638561502957719,0.4964448375746797,0.523606693789429,0.5160595869159812,0.5145421907345291,0.5575996149061997,0.5458639961270444,0.5537318561856754,0.5629707522795564,0.5363101197664955,0.5614173644819924,0.5027737578355651,0.47685507580130837,0.5520341231387691,0.5551470766211866,0.5271514774784105,0.4898477860539827,0.4932502925144737,0.55753346679305,0.5703889722692914,0.5865994982570601,0.5974627441369846,0.6435393992867682,0.6431813364322023,0.6407632999615942,0.6174207859921619,0.6441587643468805,0.657493850153609,0.685861031311455,0.7253104274237754,0.720531933793044,0.7406925337496078,0.755215905326494,0.7595983277061136,0.7860315700159213,0.7936391324089691,0.8116679867832952,0.8382561177938661,0.8693760319477255,0.8773169089516131,0.9341548213238826,0.8786972264579023,0.8550964142941677,0.8553980843677305,0.8883460481598486,0.8884646723509635,0.9295197897085192,0.9712675336138861,0.9606936169500966,0.8682603840492498,0.8920977100216327,0.7905905198337806,0.896996645390975,0.9315303740862604,0.9530695979314152,1.0012314590649591,0.9342465553279444,1.0180006546066078,1.0370525658672038,1.030910026517982,1.0387618276677983,1.0697681315318963,1.1139520867823873,1.1370593194376792,1.1611829066076966,1.0674001135485898,0.8757000044319525,1.0503531563858957,1.1222152268869494,1.1511183097678646,1.2438298024142336,1.3308563181926556,1.2747649591485413,1.2483845712822532,1.4182795569119802,1.4781301936048323],\"marker\":{},\"line\":{},\"name\":\"60/40\"}];\r\n",
       "            var layout = {\"width\":600,\"height\":600,\"template\":{\"layout\":{\"title\":{\"x\":0.05},\"font\":{\"color\":\"rgba(42, 63, 95, 1.0)\"},\"paper_bgcolor\":\"rgba(255, 255, 255, 1.0)\",\"plot_bgcolor\":\"rgba(229, 236, 246, 1.0)\",\"autotypenumbers\":\"strict\",\"colorscale\":{\"diverging\":[[0.0,\"#8e0152\"],[0.1,\"#c51b7d\"],[0.2,\"#de77ae\"],[0.3,\"#f1b6da\"],[0.4,\"#fde0ef\"],[0.5,\"#f7f7f7\"],[0.6,\"#e6f5d0\"],[0.7,\"#b8e186\"],[0.8,\"#7fbc41\"],[0.9,\"#4d9221\"],[1.0,\"#276419\"]],\"sequential\":[[0.0,\"#0d0887\"],[0.1111111111111111,\"#46039f\"],[0.2222222222222222,\"#7201a8\"],[0.3333333333333333,\"#9c179e\"],[0.4444444444444444,\"#bd3786\"],[0.5555555555555556,\"#d8576b\"],[0.6666666666666666,\"#ed7953\"],[0.7777777777777778,\"#fb9f3a\"],[0.8888888888888888,\"#fdca26\"],[1.0,\"#f0f921\"]],\"sequentialminus\":[[0.0,\"#0d0887\"],[0.1111111111111111,\"#46039f\"],[0.2222222222222222,\"#7201a8\"],[0.3333333333333333,\"#9c179e\"],[0.4444444444444444,\"#bd3786\"],[0.5555555555555556,\"#d8576b\"],[0.6666666666666666,\"#ed7953\"],[0.7777777777777778,\"#fb9f3a\"],[0.8888888888888888,\"#fdca26\"],[1.0,\"#f0f921\"]]},\"hovermode\":\"closest\",\"hoverlabel\":{\"align\":\"left\"},\"coloraxis\":{\"colorbar\":{\"outlinewidth\":0.0,\"ticks\":\"\"}},\"geo\":{\"showland\":true,\"landcolor\":\"rgba(229, 236, 246, 1.0)\",\"showlakes\":true,\"lakecolor\":\"rgba(255, 255, 255, 1.0)\",\"subunitcolor\":\"rgba(255, 255, 255, 1.0)\",\"bgcolor\":\"rgba(255, 255, 255, 1.0)\"},\"mapbox\":{\"style\":\"light\"},\"polar\":{\"bgcolor\":\"rgba(229, 236, 246, 1.0)\",\"radialaxis\":{\"linecolor\":\"rgba(255, 255, 255, 1.0)\",\"gridcolor\":\"rgba(255, 255, 255, 1.0)\",\"ticks\":\"\"},\"angularaxis\":{\"linecolor\":\"rgba(255, 255, 255, 1.0)\",\"gridcolor\":\"rgba(255, 255, 255, 1.0)\",\"ticks\":\"\"}},\"scene\":{\"xaxis\":{\"ticks\":\"\",\"linecolor\":\"rgba(255, 255, 255, 1.0)\",\"gridcolor\":\"rgba(255, 255, 255, 1.0)\",\"gridwidth\":2.0,\"zerolinecolor\":\"rgba(255, 255, 255, 1.0)\",\"backgroundcolor\":\"rgba(229, 236, 246, 1.0)\",\"showbackground\":true},\"yaxis\":{\"ticks\":\"\",\"linecolor\":\"rgba(255, 255, 255, 1.0)\",\"gridcolor\":\"rgba(255, 255, 255, 1.0)\",\"gridwidth\":2.0,\"zerolinecolor\":\"rgba(255, 255, 255, 1.0)\",\"backgroundcolor\":\"rgba(229, 236, 246, 1.0)\",\"showbackground\":true},\"zaxis\":{\"ticks\":\"\",\"linecolor\":\"rgba(255, 255, 255, 1.0)\",\"gridcolor\":\"rgba(255, 255, 255, 1.0)\",\"gridwidth\":2.0,\"zerolinecolor\":\"rgba(255, 255, 255, 1.0)\",\"backgroundcolor\":\"rgba(229, 236, 246, 1.0)\",\"showbackground\":true}},\"ternary\":{\"aaxis\":{\"ticks\":\"\",\"linecolor\":\"rgba(255, 255, 255, 1.0)\",\"gridcolor\":\"rgba(255, 255, 255, 1.0)\"},\"baxis\":{\"ticks\":\"\",\"linecolor\":\"rgba(255, 255, 255, 1.0)\",\"gridcolor\":\"rgba(255, 255, 255, 1.0)\"},\"caxis\":{\"ticks\":\"\",\"linecolor\":\"rgba(255, 255, 255, 1.0)\",\"gridcolor\":\"rgba(255, 255, 255, 1.0)\"},\"bgcolor\":\"rgba(229, 236, 246, 1.0)\"},\"xaxis\":{\"title\":{\"standoff\":15},\"ticks\":\"\",\"automargin\":true,\"linecolor\":\"rgba(255, 255, 255, 1.0)\",\"gridcolor\":\"rgba(255, 255, 255, 1.0)\",\"zerolinecolor\":\"rgba(255, 255, 255, 1.0)\",\"zerolinewidth\":2.0},\"yaxis\":{\"title\":{\"standoff\":15},\"ticks\":\"\",\"automargin\":true,\"linecolor\":\"rgba(255, 255, 255, 1.0)\",\"gridcolor\":\"rgba(255, 255, 255, 1.0)\",\"zerolinecolor\":\"rgba(255, 255, 255, 1.0)\",\"zerolinewidth\":2.0},\"annotationdefaults\":{\"arrowcolor\":\"#2a3f5f\",\"arrowhead\":0,\"arrowwidth\":1},\"shapedefaults\":{\"line\":{\"color\":\"rgba(42, 63, 95, 1.0)\"}},\"colorway\":[\"rgba(99, 110, 250, 1.0)\",\"rgba(239, 85, 59, 1.0)\",\"rgba(0, 204, 150, 1.0)\",\"rgba(171, 99, 250, 1.0)\",\"rgba(255, 161, 90, 1.0)\",\"rgba(25, 211, 243, 1.0)\",\"rgba(255, 102, 146, 1.0)\",\"rgba(182, 232, 128, 1.0)\",\"rgba(255, 151, 255, 1.0)\",\"rgba(254, 203, 82, 1.0)\"]},\"data\":{\"bar\":[{\"marker\":{\"line\":{\"color\":\"rgba(229, 236, 246, 1.0)\",\"width\":0.5},\"pattern\":{\"fillmode\":\"overlay\",\"size\":10,\"solidity\":0.2}},\"error_x\":{\"color\":\"rgba(42, 63, 95, 1.0)\"},\"error_y\":{\"color\":\"rgba(42, 63, 95, 1.0)\"}}],\"barpolar\":[{\"marker\":{\"line\":{\"color\":\"rgba(229, 236, 246, 1.0)\",\"width\":0.5},\"pattern\":{\"fillmode\":\"overlay\",\"size\":10,\"solidity\":0.2}}}],\"carpet\":[{\"aaxis\":{\"linecolor\":\"rgba(255, 255, 255, 1.0)\",\"gridcolor\":\"rgba(255, 255, 255, 1.0)\",\"endlinecolor\":\"rgba(42, 63, 95, 1.0)\",\"minorgridcolor\":\"rgba(255, 255, 255, 1.0)\",\"startlinecolor\":\"rgba(42, 63, 95, 1.0)\"},\"baxis\":{\"linecolor\":\"rgba(255, 255, 255, 1.0)\",\"gridcolor\":\"rgba(255, 255, 255, 1.0)\",\"endlinecolor\":\"rgba(42, 63, 95, 1.0)\",\"minorgridcolor\":\"rgba(255, 255, 255, 1.0)\",\"startlinecolor\":\"rgba(42, 63, 95, 1.0)\"}}],\"choropleth\":[{\"colorbar\":{\"outlinewidth\":0.0,\"ticks\":\"\"},\"colorscale\":[[0.0,\"#0d0887\"],[0.1111111111111111,\"#46039f\"],[0.2222222222222222,\"#7201a8\"],[0.3333333333333333,\"#9c179e\"],[0.4444444444444444,\"#bd3786\"],[0.5555555555555556,\"#d8576b\"],[0.6666666666666666,\"#ed7953\"],[0.7777777777777778,\"#fb9f3a\"],[0.8888888888888888,\"#fdca26\"],[1.0,\"#f0f921\"]]}],\"contour\":[{\"colorbar\":{\"outlinewidth\":0.0,\"ticks\":\"\"},\"colorscale\":[[0.0,\"#0d0887\"],[0.1111111111111111,\"#46039f\"],[0.2222222222222222,\"#7201a8\"],[0.3333333333333333,\"#9c179e\"],[0.4444444444444444,\"#bd3786\"],[0.5555555555555556,\"#d8576b\"],[0.6666666666666666,\"#ed7953\"],[0.7777777777777778,\"#fb9f3a\"],[0.8888888888888888,\"#fdca26\"],[1.0,\"#f0f921\"]]}],\"contourcarpet\":[{\"colorbar\":{\"outlinewidth\":0.0,\"ticks\":\"\"}}],\"heatmap\":[{\"colorbar\":{\"outlinewidth\":0.0,\"ticks\":\"\"},\"colorscale\":[[0.0,\"#0d0887\"],[0.1111111111111111,\"#46039f\"],[0.2222222222222222,\"#7201a8\"],[0.3333333333333333,\"#9c179e\"],[0.4444444444444444,\"#bd3786\"],[0.5555555555555556,\"#d8576b\"],[0.6666666666666666,\"#ed7953\"],[0.7777777777777778,\"#fb9f3a\"],[0.8888888888888888,\"#fdca26\"],[1.0,\"#f0f921\"]]}],\"heatmapgl\":[{\"colorbar\":{\"outlinewidth\":0.0,\"ticks\":\"\"},\"colorscale\":[[0.0,\"#0d0887\"],[0.1111111111111111,\"#46039f\"],[0.2222222222222222,\"#7201a8\"],[0.3333333333333333,\"#9c179e\"],[0.4444444444444444,\"#bd3786\"],[0.5555555555555556,\"#d8576b\"],[0.6666666666666666,\"#ed7953\"],[0.7777777777777778,\"#fb9f3a\"],[0.8888888888888888,\"#fdca26\"],[1.0,\"#f0f921\"]]}],\"histogram\":[{\"marker\":{\"pattern\":{\"fillmode\":\"overlay\",\"size\":10,\"solidity\":0.2}}}],\"histogram2d\":[{\"colorbar\":{\"outlinewidth\":0.0,\"ticks\":\"\"},\"colorscale\":[[0.0,\"#0d0887\"],[0.1111111111111111,\"#46039f\"],[0.2222222222222222,\"#7201a8\"],[0.3333333333333333,\"#9c179e\"],[0.4444444444444444,\"#bd3786\"],[0.5555555555555556,\"#d8576b\"],[0.6666666666666666,\"#ed7953\"],[0.7777777777777778,\"#fb9f3a\"],[0.8888888888888888,\"#fdca26\"],[1.0,\"#f0f921\"]]}],\"histogram2dcontour\":[{\"colorbar\":{\"outlinewidth\":0.0,\"ticks\":\"\"},\"colorscale\":[[0.0,\"#0d0887\"],[0.1111111111111111,\"#46039f\"],[0.2222222222222222,\"#7201a8\"],[0.3333333333333333,\"#9c179e\"],[0.4444444444444444,\"#bd3786\"],[0.5555555555555556,\"#d8576b\"],[0.6666666666666666,\"#ed7953\"],[0.7777777777777778,\"#fb9f3a\"],[0.8888888888888888,\"#fdca26\"],[1.0,\"#f0f921\"]]}],\"mesh3d\":[{\"colorbar\":{\"outlinewidth\":0.0,\"ticks\":\"\"}}],\"parcoords\":[{\"line\":{\"colorbar\":{\"outlinewidth\":0.0,\"ticks\":\"\"}}}],\"pie\":[{\"automargin\":true}],\"scatter\":[{\"marker\":{\"colorbar\":{\"outlinewidth\":0.0,\"ticks\":\"\"}}}],\"scatter3d\":[{\"marker\":{\"colorbar\":{\"outlinewidth\":0.0,\"ticks\":\"\"}},\"line\":{\"colorbar\":{\"outlinewidth\":0.0,\"ticks\":\"\"}}}],\"scattercarpet\":[{\"marker\":{\"colorbar\":{\"outlinewidth\":0.0,\"ticks\":\"\"}}}],\"scattergeo\":[{\"marker\":{\"colorbar\":{\"outlinewidth\":0.0,\"ticks\":\"\"}}}],\"scattergl\":[{\"marker\":{\"colorbar\":{\"outlinewidth\":0.0,\"ticks\":\"\"}}}],\"scattermapbox\":[{\"marker\":{\"colorbar\":{\"outlinewidth\":0.0,\"ticks\":\"\"}}}],\"scatterpolar\":[{\"marker\":{\"colorbar\":{\"outlinewidth\":0.0,\"ticks\":\"\"}}}],\"scatterpolargl\":[{\"marker\":{\"colorbar\":{\"outlinewidth\":0.0,\"ticks\":\"\"}}}],\"scatterternary\":[{\"marker\":{\"colorbar\":{\"outlinewidth\":0.0,\"ticks\":\"\"}}}],\"surface\":[{\"colorbar\":{\"outlinewidth\":0.0,\"ticks\":\"\"},\"colorscale\":[[0.0,\"#0d0887\"],[0.1111111111111111,\"#46039f\"],[0.2222222222222222,\"#7201a8\"],[0.3333333333333333,\"#9c179e\"],[0.4444444444444444,\"#bd3786\"],[0.5555555555555556,\"#d8576b\"],[0.6666666666666666,\"#ed7953\"],[0.7777777777777778,\"#fb9f3a\"],[0.8888888888888888,\"#fdca26\"],[1.0,\"#f0f921\"]]}],\"table\":[{\"cells\":{\"fill\":{\"color\":\"rgba(235, 240, 248, 1.0)\"},\"line\":{\"color\":\"rgba(255, 255, 255, 1.0)\"}},\"header\":{\"fill\":{\"color\":\"rgba(200, 212, 227, 1.0)\"},\"line\":{\"color\":\"rgba(255, 255, 255, 1.0)\"}}}]}},\"legend\":{\"orientation\":\"h\"},\"title\":{\"text\":\"MVE & 60/40 Portfolios\"}};\r\n",
       "            var config = {\"responsive\":true};\r\n",
       "            Plotly.newPlot('fc6cc657-1801-457c-9160-f92b6a6aca83', data, layout, config);\r\n",
       "});\r\n",
       "            };\r\n",
       "            if ((typeof(requirejs) !==  typeof(Function)) || (typeof(requirejs.config) !== typeof(Function))) {\r\n",
       "                var script = document.createElement(\"script\");\r\n",
       "                script.setAttribute(\"src\", \"https://cdnjs.cloudflare.com/ajax/libs/require.js/2.3.6/require.min.js\");\r\n",
       "                script.onload = function(){\r\n",
       "                    renderPlotly_fc6cc6571801457c9160f92b6a6aca83();\r\n",
       "                };\r\n",
       "                document.getElementsByTagName(\"head\")[0].appendChild(script);\r\n",
       "            }\r\n",
       "            else {\r\n",
       "                renderPlotly_fc6cc6571801457c9160f92b6a6aca83();\r\n",
       "            }\r\n",
       "</script>\r\n",
       "\r\n",
       "    \r\n",
       "</div    \r\n"
      ]
     },
     "metadata": {},
     "output_type": "display_data"
    }
   ],
   "source": [
    "combineMveChart"
   ]
  },
  {
   "cell_type": "code",
   "execution_count": null,
   "metadata": {
    "dotnet_interactive": {
     "language": "fsharp"
    },
    "vscode": {
     "languageId": "dotnet-interactive.fsharp"
    }
   },
   "outputs": [
    {
     "data": {
      "text/html": [
       "\r\n",
       "<div>\r\n",
       "    <div id=\"eb37dab8-64c3-42c3-8277-f933cde323d9\"><!-- Plotly chart will be drawn inside this DIV --></div>\r\n",
       "<script type=\"text/javascript\">\r\n",
       "\r\n",
       "            var renderPlotly_eb37dab864c342c38277f933cde323d9 = function() {\r\n",
       "            var fsharpPlotlyRequire = requirejs.config({context:'fsharp-plotly',paths:{plotly:'https://cdn.plot.ly/plotly-2.6.3.min'}}) || require;\r\n",
       "            fsharpPlotlyRequire(['plotly'], function(Plotly) {\r\n",
       "\r\n",
       "            var data = [{\"type\":\"scatter\",\"mode\":\"lines\",\"x\":[\"2007-06-01T00:00:00+01:00\",\"2007-07-01T00:00:00+01:00\",\"2007-08-01T00:00:00+01:00\",\"2007-09-01T00:00:00+01:00\",\"2007-10-01T00:00:00+01:00\",\"2007-11-01T00:00:00+00:00\",\"2007-12-01T00:00:00+00:00\",\"2008-01-01T00:00:00+00:00\",\"2008-02-01T00:00:00+00:00\",\"2008-03-01T00:00:00+00:00\",\"2008-04-01T00:00:00+01:00\",\"2008-05-01T00:00:00+01:00\",\"2008-06-01T00:00:00+01:00\",\"2008-07-01T00:00:00+01:00\",\"2008-08-01T00:00:00+01:00\",\"2008-09-01T00:00:00+01:00\",\"2008-10-01T00:00:00+01:00\",\"2008-11-01T00:00:00+00:00\",\"2008-12-01T00:00:00+00:00\",\"2009-01-01T00:00:00+00:00\",\"2009-02-01T00:00:00+00:00\",\"2009-03-01T00:00:00+00:00\",\"2009-04-01T00:00:00+01:00\",\"2009-05-01T00:00:00+01:00\",\"2009-06-01T00:00:00+01:00\",\"2009-07-01T00:00:00+01:00\",\"2009-08-01T00:00:00+01:00\",\"2009-09-01T00:00:00+01:00\",\"2009-10-01T00:00:00+01:00\",\"2009-11-01T00:00:00+00:00\",\"2009-12-01T00:00:00+00:00\",\"2010-01-01T00:00:00+00:00\",\"2010-02-01T00:00:00+00:00\",\"2010-03-01T00:00:00+00:00\",\"2010-04-01T00:00:00+01:00\",\"2010-05-01T00:00:00+01:00\",\"2010-06-01T00:00:00+01:00\",\"2010-07-01T00:00:00+01:00\",\"2010-08-01T00:00:00+01:00\",\"2010-09-01T00:00:00+01:00\",\"2010-10-01T00:00:00+01:00\",\"2010-11-01T00:00:00+00:00\",\"2010-12-01T00:00:00+00:00\",\"2011-01-01T00:00:00+00:00\",\"2011-02-01T00:00:00+00:00\",\"2011-03-01T00:00:00+00:00\",\"2011-04-01T00:00:00+01:00\",\"2011-05-01T00:00:00+01:00\",\"2011-06-01T00:00:00+01:00\",\"2011-07-01T00:00:00+01:00\",\"2011-08-01T00:00:00+01:00\",\"2011-09-01T00:00:00+01:00\",\"2011-10-01T00:00:00+01:00\",\"2011-11-01T00:00:00+00:00\",\"2011-12-01T00:00:00+00:00\",\"2012-01-01T00:00:00+00:00\",\"2012-02-01T00:00:00+00:00\",\"2012-03-01T00:00:00+00:00\",\"2012-04-01T00:00:00+01:00\",\"2012-05-01T00:00:00+01:00\",\"2012-06-01T00:00:00+01:00\",\"2012-07-01T00:00:00+01:00\",\"2012-08-01T00:00:00+01:00\",\"2012-09-01T00:00:00+01:00\",\"2012-10-01T00:00:00+01:00\",\"2012-11-01T00:00:00+00:00\",\"2012-12-01T00:00:00+00:00\",\"2013-01-01T00:00:00+00:00\",\"2013-02-01T00:00:00+00:00\",\"2013-03-01T00:00:00+00:00\",\"2013-04-01T00:00:00+01:00\",\"2013-05-01T00:00:00+01:00\",\"2013-06-01T00:00:00+01:00\",\"2013-07-01T00:00:00+01:00\",\"2013-08-01T00:00:00+01:00\",\"2013-09-01T00:00:00+01:00\",\"2013-10-01T00:00:00+01:00\",\"2013-11-01T00:00:00+00:00\",\"2013-12-01T00:00:00+00:00\",\"2014-01-01T00:00:00+00:00\",\"2014-02-01T00:00:00+00:00\",\"2014-03-01T00:00:00+00:00\",\"2014-04-01T00:00:00+01:00\",\"2014-05-01T00:00:00+01:00\",\"2014-06-01T00:00:00+01:00\",\"2014-07-01T00:00:00+01:00\",\"2014-08-01T00:00:00+01:00\",\"2014-09-01T00:00:00+01:00\",\"2014-10-01T00:00:00+01:00\",\"2014-11-01T00:00:00+00:00\",\"2014-12-01T00:00:00+00:00\",\"2015-01-01T00:00:00+00:00\",\"2015-02-01T00:00:00+00:00\",\"2015-03-01T00:00:00+00:00\",\"2015-04-01T00:00:00+01:00\",\"2015-05-01T00:00:00+01:00\",\"2015-06-01T00:00:00+01:00\",\"2015-07-01T00:00:00+01:00\",\"2015-08-01T00:00:00+01:00\",\"2015-09-01T00:00:00+01:00\",\"2015-10-01T00:00:00+01:00\",\"2015-11-01T00:00:00+00:00\",\"2015-12-01T00:00:00+00:00\",\"2016-01-01T00:00:00+00:00\",\"2016-02-01T00:00:00+00:00\",\"2016-03-01T00:00:00+00:00\",\"2016-04-01T00:00:00+01:00\",\"2016-05-01T00:00:00+01:00\",\"2016-06-01T00:00:00+01:00\",\"2016-07-01T00:00:00+01:00\",\"2016-08-01T00:00:00+01:00\",\"2016-09-01T00:00:00+01:00\",\"2016-10-01T00:00:00+01:00\",\"2016-11-01T00:00:00+00:00\",\"2016-12-01T00:00:00+00:00\",\"2017-01-01T00:00:00+00:00\",\"2017-02-01T00:00:00+00:00\",\"2017-03-01T00:00:00+00:00\",\"2017-04-01T00:00:00+01:00\",\"2017-05-01T00:00:00+01:00\",\"2017-06-01T00:00:00+01:00\",\"2017-07-01T00:00:00+01:00\",\"2017-08-01T00:00:00+01:00\",\"2017-09-01T00:00:00+01:00\",\"2017-10-01T00:00:00+01:00\",\"2017-11-01T00:00:00+00:00\",\"2017-12-01T00:00:00+00:00\",\"2018-01-01T00:00:00+00:00\",\"2018-02-01T00:00:00+00:00\",\"2018-03-01T00:00:00+00:00\",\"2018-04-01T00:00:00+01:00\",\"2018-05-01T00:00:00+01:00\",\"2018-06-01T00:00:00+01:00\",\"2018-07-01T00:00:00+01:00\",\"2018-08-01T00:00:00+01:00\",\"2018-09-01T00:00:00+01:00\",\"2018-10-01T00:00:00+01:00\",\"2018-11-01T00:00:00+00:00\",\"2018-12-01T00:00:00+00:00\",\"2019-01-01T00:00:00+00:00\",\"2019-02-01T00:00:00+00:00\",\"2019-03-01T00:00:00+00:00\",\"2019-04-01T00:00:00+01:00\",\"2019-05-01T00:00:00+01:00\",\"2019-06-01T00:00:00+01:00\",\"2019-07-01T00:00:00+01:00\",\"2019-08-01T00:00:00+01:00\",\"2019-09-01T00:00:00+01:00\",\"2019-10-01T00:00:00+01:00\",\"2019-11-01T00:00:00+00:00\",\"2019-12-01T00:00:00+00:00\",\"2020-01-01T00:00:00+00:00\",\"2020-02-01T00:00:00+00:00\",\"2020-03-01T00:00:00+00:00\",\"2020-04-01T00:00:00+01:00\",\"2020-05-01T00:00:00+01:00\",\"2020-06-01T00:00:00+01:00\",\"2020-07-01T00:00:00+01:00\",\"2020-08-01T00:00:00+01:00\",\"2020-09-01T00:00:00+01:00\",\"2020-10-01T00:00:00+01:00\",\"2020-11-01T00:00:00+00:00\",\"2020-12-01T00:00:00+00:00\"],\"y\":[-0.018685827137661457,-0.00984121883084288,0.012151138311762733,0.04036796587698954,0.06774265282521119,0.0858897021258409,0.10124753691125465,0.09650435895042109,0.08351511041755688,0.0862831385099776,0.0953531104662555,0.086105046907194,0.0645514976257231,0.0427981259997916,0.057451908081684655,-0.013043750791607467,-0.1323055629758746,-0.07834780139660658,0.02430263343360828,-0.015167832597380526,-0.058601540043543565,-0.012446322072453442,0.012982910092782074,0.053418192714373536,0.06529311149296024,0.11485206167183182,0.13956558539084063,0.18222636212102938,0.18502098981546222,0.24226754132317718,0.21799963300858827,0.24516524646777982,0.258917292389073,0.28426422048664657,0.31266033917046965,0.31628165393120655,0.33733343109235503,0.3853509509642301,0.41465391680815333,0.4667868168143441,0.5012667075677093,0.49339981338531214,0.46899632484397746,0.4998948452653025,0.5297863680201269,0.5312645605176252,0.5905934033957774,0.611164551654203,0.5923101177939811,0.6390968172196845,0.6512696573994288,0.6055996813181581,0.6966110796815557,0.6964318089092396,0.7050099383961033,0.8000195391480998,0.8356297268570714,0.8233323900006024,0.8558184714499966,0.8459103417704059,0.8751807034963641,0.932148605802666,0.9613316431248617,0.993514137725656,0.9636604932249868,0.9787702295756759,0.9330872815575229,0.9425382015745278,0.9587129084149877,0.9849402967444332,1.0191134598571305,0.9722800557607485,0.892244099807628,0.9583658998798708,0.9184659336840089,0.9965842495572308,1.0627720432904662,1.0727331304160939,1.0584716126342761,1.1242234074127402,1.1796997631551158,1.1671955485449637,1.1973632035826638,1.2667034330051719,1.2881181758457037,1.2546404388702643,1.3391566311020449,1.2934860998933555,1.3474139694327172,1.402645044870205,1.3846213003859598,1.5094700546756874,1.4971660671651845,1.519249230100176,1.51064768448131,1.5009807454064705,1.4284003435981316,1.4808182427869094,1.4142694582165452,1.4365508482445506,1.5051871197131361,1.4818473820761766,1.4453575681016777,1.4645845559924124,1.5003099386755148,1.6062664776017903,1.6167551860216274,1.6294320410826364,1.7372836558487998,1.8098864922362554,1.7732519930146258,1.7762470437998497,1.681697029211727,1.5685529933565254,1.588453692358431,1.652165932571807,1.699613208323787,1.7116175972752505,1.7600284407099194,1.820592210280212,1.8101059198602698,1.8468970716010218,1.913943675794623,1.9312522633801574,1.9609290805910025,1.9716013495972557,2.006373594376925,2.0153276109351,1.8923647520418077,1.9223789688388608,1.863724330885781,1.9268089094854646,1.9100947049657222,1.9437476376893827,1.9807232970991318,1.954738114606588,1.7944406377813493,1.8553543348514396,1.8496936831431343,2.020402980269442,2.040288718014534,2.1690425831089195,2.1855093136285393,2.219616117568058,2.3676205669491166,2.343748042429783,2.47833897635767,2.4326894349665835,2.4491538737795713,2.4788707467118845,2.4823548686247716,2.6255255038249077,2.6142915619700795,2.3309511827395557,2.691934160358214,2.824351592345197,2.923490450639913,3.1457853714883965,3.1627537227350846,3.102667993570752,3.0085857296772565,3.247678855400154,3.2779919813008798],\"marker\":{},\"line\":{},\"name\":\"MVE Long Leveraged\"},{\"type\":\"scatter\",\"mode\":\"lines\",\"x\":[\"2007-06-01T00:00:00+01:00\",\"2007-07-01T00:00:00+01:00\",\"2007-08-01T00:00:00+01:00\",\"2007-09-01T00:00:00+01:00\",\"2007-10-01T00:00:00+01:00\",\"2007-11-01T00:00:00+00:00\",\"2007-12-01T00:00:00+00:00\",\"2008-01-01T00:00:00+00:00\",\"2008-02-01T00:00:00+00:00\",\"2008-03-01T00:00:00+00:00\",\"2008-04-01T00:00:00+01:00\",\"2008-05-01T00:00:00+01:00\",\"2008-06-01T00:00:00+01:00\",\"2008-07-01T00:00:00+01:00\",\"2008-08-01T00:00:00+01:00\",\"2008-09-01T00:00:00+01:00\",\"2008-10-01T00:00:00+01:00\",\"2008-11-01T00:00:00+00:00\",\"2008-12-01T00:00:00+00:00\",\"2009-01-01T00:00:00+00:00\",\"2009-02-01T00:00:00+00:00\",\"2009-03-01T00:00:00+00:00\",\"2009-04-01T00:00:00+01:00\",\"2009-05-01T00:00:00+01:00\",\"2009-06-01T00:00:00+01:00\",\"2009-07-01T00:00:00+01:00\",\"2009-08-01T00:00:00+01:00\",\"2009-09-01T00:00:00+01:00\",\"2009-10-01T00:00:00+01:00\",\"2009-11-01T00:00:00+00:00\",\"2009-12-01T00:00:00+00:00\",\"2010-01-01T00:00:00+00:00\",\"2010-02-01T00:00:00+00:00\",\"2010-03-01T00:00:00+00:00\",\"2010-04-01T00:00:00+01:00\",\"2010-05-01T00:00:00+01:00\",\"2010-06-01T00:00:00+01:00\",\"2010-07-01T00:00:00+01:00\",\"2010-08-01T00:00:00+01:00\",\"2010-09-01T00:00:00+01:00\",\"2010-10-01T00:00:00+01:00\",\"2010-11-01T00:00:00+00:00\",\"2010-12-01T00:00:00+00:00\",\"2011-01-01T00:00:00+00:00\",\"2011-02-01T00:00:00+00:00\",\"2011-03-01T00:00:00+00:00\",\"2011-04-01T00:00:00+01:00\",\"2011-05-01T00:00:00+01:00\",\"2011-06-01T00:00:00+01:00\",\"2011-07-01T00:00:00+01:00\",\"2011-08-01T00:00:00+01:00\",\"2011-09-01T00:00:00+01:00\",\"2011-10-01T00:00:00+01:00\",\"2011-11-01T00:00:00+00:00\",\"2011-12-01T00:00:00+00:00\",\"2012-01-01T00:00:00+00:00\",\"2012-02-01T00:00:00+00:00\",\"2012-03-01T00:00:00+00:00\",\"2012-04-01T00:00:00+01:00\",\"2012-05-01T00:00:00+01:00\",\"2012-06-01T00:00:00+01:00\",\"2012-07-01T00:00:00+01:00\",\"2012-08-01T00:00:00+01:00\",\"2012-09-01T00:00:00+01:00\",\"2012-10-01T00:00:00+01:00\",\"2012-11-01T00:00:00+00:00\",\"2012-12-01T00:00:00+00:00\",\"2013-01-01T00:00:00+00:00\",\"2013-02-01T00:00:00+00:00\",\"2013-03-01T00:00:00+00:00\",\"2013-04-01T00:00:00+01:00\",\"2013-05-01T00:00:00+01:00\",\"2013-06-01T00:00:00+01:00\",\"2013-07-01T00:00:00+01:00\",\"2013-08-01T00:00:00+01:00\",\"2013-09-01T00:00:00+01:00\",\"2013-10-01T00:00:00+01:00\",\"2013-11-01T00:00:00+00:00\",\"2013-12-01T00:00:00+00:00\",\"2014-01-01T00:00:00+00:00\",\"2014-02-01T00:00:00+00:00\",\"2014-03-01T00:00:00+00:00\",\"2014-04-01T00:00:00+01:00\",\"2014-05-01T00:00:00+01:00\",\"2014-06-01T00:00:00+01:00\",\"2014-07-01T00:00:00+01:00\",\"2014-08-01T00:00:00+01:00\",\"2014-09-01T00:00:00+01:00\",\"2014-10-01T00:00:00+01:00\",\"2014-11-01T00:00:00+00:00\",\"2014-12-01T00:00:00+00:00\",\"2015-01-01T00:00:00+00:00\",\"2015-02-01T00:00:00+00:00\",\"2015-03-01T00:00:00+00:00\",\"2015-04-01T00:00:00+01:00\",\"2015-05-01T00:00:00+01:00\",\"2015-06-01T00:00:00+01:00\",\"2015-07-01T00:00:00+01:00\",\"2015-08-01T00:00:00+01:00\",\"2015-09-01T00:00:00+01:00\",\"2015-10-01T00:00:00+01:00\",\"2015-11-01T00:00:00+00:00\",\"2015-12-01T00:00:00+00:00\",\"2016-01-01T00:00:00+00:00\",\"2016-02-01T00:00:00+00:00\",\"2016-03-01T00:00:00+00:00\",\"2016-04-01T00:00:00+01:00\",\"2016-05-01T00:00:00+01:00\",\"2016-06-01T00:00:00+01:00\",\"2016-07-01T00:00:00+01:00\",\"2016-08-01T00:00:00+01:00\",\"2016-09-01T00:00:00+01:00\",\"2016-10-01T00:00:00+01:00\",\"2016-11-01T00:00:00+00:00\",\"2016-12-01T00:00:00+00:00\",\"2017-01-01T00:00:00+00:00\",\"2017-02-01T00:00:00+00:00\",\"2017-03-01T00:00:00+00:00\",\"2017-04-01T00:00:00+01:00\",\"2017-05-01T00:00:00+01:00\",\"2017-06-01T00:00:00+01:00\",\"2017-07-01T00:00:00+01:00\",\"2017-08-01T00:00:00+01:00\",\"2017-09-01T00:00:00+01:00\",\"2017-10-01T00:00:00+01:00\",\"2017-11-01T00:00:00+00:00\",\"2017-12-01T00:00:00+00:00\",\"2018-01-01T00:00:00+00:00\",\"2018-02-01T00:00:00+00:00\",\"2018-03-01T00:00:00+00:00\",\"2018-04-01T00:00:00+01:00\",\"2018-05-01T00:00:00+01:00\",\"2018-06-01T00:00:00+01:00\",\"2018-07-01T00:00:00+01:00\",\"2018-08-01T00:00:00+01:00\",\"2018-09-01T00:00:00+01:00\",\"2018-10-01T00:00:00+01:00\",\"2018-11-01T00:00:00+00:00\",\"2018-12-01T00:00:00+00:00\",\"2019-01-01T00:00:00+00:00\",\"2019-02-01T00:00:00+00:00\",\"2019-03-01T00:00:00+00:00\",\"2019-04-01T00:00:00+01:00\",\"2019-05-01T00:00:00+01:00\",\"2019-06-01T00:00:00+01:00\",\"2019-07-01T00:00:00+01:00\",\"2019-08-01T00:00:00+01:00\",\"2019-09-01T00:00:00+01:00\",\"2019-10-01T00:00:00+01:00\",\"2019-11-01T00:00:00+00:00\",\"2019-12-01T00:00:00+00:00\",\"2020-01-01T00:00:00+00:00\",\"2020-02-01T00:00:00+00:00\",\"2020-03-01T00:00:00+00:00\",\"2020-04-01T00:00:00+01:00\",\"2020-05-01T00:00:00+01:00\",\"2020-06-01T00:00:00+01:00\",\"2020-07-01T00:00:00+01:00\",\"2020-08-01T00:00:00+01:00\",\"2020-09-01T00:00:00+01:00\",\"2020-10-01T00:00:00+01:00\",\"2020-11-01T00:00:00+00:00\",\"2020-12-01T00:00:00+00:00\"],\"y\":[-0.021523602041916643,-0.017240497430753732,0.0037785442441522488,0.025506137224535097,0.043553117929072904,0.05915911538616325,0.062470083502532026,0.0648977672579496,0.045095519583237875,0.04649114885149541,0.05376300378119425,0.04368350805085375,0.01822196356155037,0.010849437297759001,0.023574520173373914,-0.029023573055848684,-0.12596474145084646,-0.07833714889080368,0.0060638175733727095,-0.02978993768922844,-0.07001352941021943,-0.041308948247204325,-0.01914844945841021,0.01096803511244726,0.020187093477945117,0.06048104831457812,0.08858445876775378,0.1191615103235879,0.12221821250723641,0.1705171200422686,0.14436820952763818,0.1742671879599187,0.18481628163691455,0.20444850760442956,0.22826250653658264,0.23056171544767978,0.23942777353822464,0.2815008137894017,0.30025290001374416,0.3371057733099867,0.36642513509831676,0.3576222246934919,0.3363675659162835,0.3641392058569475,0.38264589506132163,0.3746256348794399,0.4236269830499306,0.4383004078243846,0.42136410690627213,0.46310829533801323,0.46686471234445825,0.43171219659357774,0.5095941869737244,0.5089004851904755,0.5177933830104318,0.5951066840862487,0.6233259552749064,0.6184429127270084,0.6458438969606863,0.6398072425797148,0.6631982399018539,0.7133594623283908,0.7356809000193854,0.7564224717963188,0.7352508150043282,0.74557281265228,0.7043076382063662,0.7166670052250104,0.7326177672285383,0.7517874330073804,0.7905568883742358,0.7547161100893591,0.6907770110459175,0.7462894131234834,0.7071107388596871,0.7612243806857388,0.8189018205280707,0.8305760112597842,0.8138966717878593,0.8684926775828501,0.9112006042583023,0.9033143357078119,0.92824235013456,0.981760420403349,0.9949866938600227,0.9727416900311039,1.0389042335929175,1.00593380961622,1.0588386130154728,1.1141102225121466,1.0928702801779013,1.1942388871894072,1.181243310553859,1.191439266510435,1.1844517847904945,1.1805566903090194,1.1230223925282372,1.180348258970167,1.1250989731875976,1.1393974370031215,1.2026897631895852,1.191011571001272,1.1572853893367743,1.1649947481655452,1.190358112353544,1.26812460319334,1.2782035460246592,1.2924287851261722,1.3608511033967305,1.4275769071434752,1.404472954821372,1.3986143124386676,1.3384684635022435,1.2651956949866299,1.27874178973234,1.3300888399487025,1.3749480532932448,1.3701096911021549,1.4131596886326103,1.4555844383227967,1.4526920658285145,1.4822200956054452,1.532193037659423,1.5418836079415144,1.5750383694060806,1.5889000102246262,1.6091201449302472,1.6343267874653122,1.5411017386287256,1.5510065887238178,1.5105822437035616,1.5657007629817175,1.542303862214926,1.5784342587146618,1.6209460059003096,1.587615154872707,1.4659139431613353,1.5044227061502533,1.4841116745391263,1.6266723100667604,1.6416067362871463,1.7286259256051508,1.7552030267004164,1.7754367986063913,1.8806830084953075,1.8760805224506072,1.9715995008530882,1.9374096024617118,1.961340865346263,1.9886045353071675,1.9794187946993635,2.0910921797750284,2.0741516349576474,1.8263016091934245,2.1053656750610727,2.2052393980136853,2.2722817508680633,2.4543692588876183,2.494362960667559,2.4357949437326987,2.374524010446585,2.541642592783449,2.5704239854325697],\"marker\":{},\"line\":{},\"name\":\"MVE Long-Short Leveraged\"},{\"type\":\"scatter\",\"mode\":\"lines\",\"x\":[\"2007-06-01T00:00:00+01:00\",\"2007-07-01T00:00:00+01:00\",\"2007-08-01T00:00:00+01:00\",\"2007-09-01T00:00:00+01:00\",\"2007-10-01T00:00:00+01:00\",\"2007-11-01T00:00:00+00:00\",\"2007-12-01T00:00:00+00:00\",\"2008-01-01T00:00:00+00:00\",\"2008-02-01T00:00:00+00:00\",\"2008-03-01T00:00:00+00:00\",\"2008-04-01T00:00:00+01:00\",\"2008-05-01T00:00:00+01:00\",\"2008-06-01T00:00:00+01:00\",\"2008-07-01T00:00:00+01:00\",\"2008-08-01T00:00:00+01:00\",\"2008-09-01T00:00:00+01:00\",\"2008-10-01T00:00:00+01:00\",\"2008-11-01T00:00:00+00:00\",\"2008-12-01T00:00:00+00:00\",\"2009-01-01T00:00:00+00:00\",\"2009-02-01T00:00:00+00:00\",\"2009-03-01T00:00:00+00:00\",\"2009-04-01T00:00:00+01:00\",\"2009-05-01T00:00:00+01:00\",\"2009-06-01T00:00:00+01:00\",\"2009-07-01T00:00:00+01:00\",\"2009-08-01T00:00:00+01:00\",\"2009-09-01T00:00:00+01:00\",\"2009-10-01T00:00:00+01:00\",\"2009-11-01T00:00:00+00:00\",\"2009-12-01T00:00:00+00:00\",\"2010-01-01T00:00:00+00:00\",\"2010-02-01T00:00:00+00:00\",\"2010-03-01T00:00:00+00:00\",\"2010-04-01T00:00:00+01:00\",\"2010-05-01T00:00:00+01:00\",\"2010-06-01T00:00:00+01:00\",\"2010-07-01T00:00:00+01:00\",\"2010-08-01T00:00:00+01:00\",\"2010-09-01T00:00:00+01:00\",\"2010-10-01T00:00:00+01:00\",\"2010-11-01T00:00:00+00:00\",\"2010-12-01T00:00:00+00:00\",\"2011-01-01T00:00:00+00:00\",\"2011-02-01T00:00:00+00:00\",\"2011-03-01T00:00:00+00:00\",\"2011-04-01T00:00:00+01:00\",\"2011-05-01T00:00:00+01:00\",\"2011-06-01T00:00:00+01:00\",\"2011-07-01T00:00:00+01:00\",\"2011-08-01T00:00:00+01:00\",\"2011-09-01T00:00:00+01:00\",\"2011-10-01T00:00:00+01:00\",\"2011-11-01T00:00:00+00:00\",\"2011-12-01T00:00:00+00:00\",\"2012-01-01T00:00:00+00:00\",\"2012-02-01T00:00:00+00:00\",\"2012-03-01T00:00:00+00:00\",\"2012-04-01T00:00:00+01:00\",\"2012-05-01T00:00:00+01:00\",\"2012-06-01T00:00:00+01:00\",\"2012-07-01T00:00:00+01:00\",\"2012-08-01T00:00:00+01:00\",\"2012-09-01T00:00:00+01:00\",\"2012-10-01T00:00:00+01:00\",\"2012-11-01T00:00:00+00:00\",\"2012-12-01T00:00:00+00:00\",\"2013-01-01T00:00:00+00:00\",\"2013-02-01T00:00:00+00:00\",\"2013-03-01T00:00:00+00:00\",\"2013-04-01T00:00:00+01:00\",\"2013-05-01T00:00:00+01:00\",\"2013-06-01T00:00:00+01:00\",\"2013-07-01T00:00:00+01:00\",\"2013-08-01T00:00:00+01:00\",\"2013-09-01T00:00:00+01:00\",\"2013-10-01T00:00:00+01:00\",\"2013-11-01T00:00:00+00:00\",\"2013-12-01T00:00:00+00:00\",\"2014-01-01T00:00:00+00:00\",\"2014-02-01T00:00:00+00:00\",\"2014-03-01T00:00:00+00:00\",\"2014-04-01T00:00:00+01:00\",\"2014-05-01T00:00:00+01:00\",\"2014-06-01T00:00:00+01:00\",\"2014-07-01T00:00:00+01:00\",\"2014-08-01T00:00:00+01:00\",\"2014-09-01T00:00:00+01:00\",\"2014-10-01T00:00:00+01:00\",\"2014-11-01T00:00:00+00:00\",\"2014-12-01T00:00:00+00:00\",\"2015-01-01T00:00:00+00:00\",\"2015-02-01T00:00:00+00:00\",\"2015-03-01T00:00:00+00:00\",\"2015-04-01T00:00:00+01:00\",\"2015-05-01T00:00:00+01:00\",\"2015-06-01T00:00:00+01:00\",\"2015-07-01T00:00:00+01:00\",\"2015-08-01T00:00:00+01:00\",\"2015-09-01T00:00:00+01:00\",\"2015-10-01T00:00:00+01:00\",\"2015-11-01T00:00:00+00:00\",\"2015-12-01T00:00:00+00:00\",\"2016-01-01T00:00:00+00:00\",\"2016-02-01T00:00:00+00:00\",\"2016-03-01T00:00:00+00:00\",\"2016-04-01T00:00:00+01:00\",\"2016-05-01T00:00:00+01:00\",\"2016-06-01T00:00:00+01:00\",\"2016-07-01T00:00:00+01:00\",\"2016-08-01T00:00:00+01:00\",\"2016-09-01T00:00:00+01:00\",\"2016-10-01T00:00:00+01:00\",\"2016-11-01T00:00:00+00:00\",\"2016-12-01T00:00:00+00:00\",\"2017-01-01T00:00:00+00:00\",\"2017-02-01T00:00:00+00:00\",\"2017-03-01T00:00:00+00:00\",\"2017-04-01T00:00:00+01:00\",\"2017-05-01T00:00:00+01:00\",\"2017-06-01T00:00:00+01:00\",\"2017-07-01T00:00:00+01:00\",\"2017-08-01T00:00:00+01:00\",\"2017-09-01T00:00:00+01:00\",\"2017-10-01T00:00:00+01:00\",\"2017-11-01T00:00:00+00:00\",\"2017-12-01T00:00:00+00:00\",\"2018-01-01T00:00:00+00:00\",\"2018-02-01T00:00:00+00:00\",\"2018-03-01T00:00:00+00:00\",\"2018-04-01T00:00:00+01:00\",\"2018-05-01T00:00:00+01:00\",\"2018-06-01T00:00:00+01:00\",\"2018-07-01T00:00:00+01:00\",\"2018-08-01T00:00:00+01:00\",\"2018-09-01T00:00:00+01:00\",\"2018-10-01T00:00:00+01:00\",\"2018-11-01T00:00:00+00:00\",\"2018-12-01T00:00:00+00:00\",\"2019-01-01T00:00:00+00:00\",\"2019-02-01T00:00:00+00:00\",\"2019-03-01T00:00:00+00:00\",\"2019-04-01T00:00:00+01:00\",\"2019-05-01T00:00:00+01:00\",\"2019-06-01T00:00:00+01:00\",\"2019-07-01T00:00:00+01:00\",\"2019-08-01T00:00:00+01:00\",\"2019-09-01T00:00:00+01:00\",\"2019-10-01T00:00:00+01:00\",\"2019-11-01T00:00:00+00:00\",\"2019-12-01T00:00:00+00:00\",\"2020-01-01T00:00:00+00:00\",\"2020-02-01T00:00:00+00:00\",\"2020-03-01T00:00:00+00:00\",\"2020-04-01T00:00:00+01:00\",\"2020-05-01T00:00:00+01:00\",\"2020-06-01T00:00:00+01:00\",\"2020-07-01T00:00:00+01:00\",\"2020-08-01T00:00:00+01:00\",\"2020-09-01T00:00:00+01:00\",\"2020-10-01T00:00:00+01:00\",\"2020-11-01T00:00:00+00:00\",\"2020-12-01T00:00:00+00:00\"],\"y\":[-0.018492143203129974,-0.03704761025776926,-0.027386702114282624,-0.00848740456909558,0.005090113899492099,-0.01739261266611103,-0.025265119569841343,-0.05220888831872006,-0.06850795557377176,-0.07602792010944537,-0.04960644827545013,-0.04370259326730774,-0.09343186995708341,-0.09558909089187251,-0.08599590014005642,-0.1414736326148267,-0.23869895336055846,-0.26338691939461667,-0.24523155014588083,-0.28193420394997215,-0.32939728666753065,-0.29676187703435863,-0.24664138211257836,-0.22026867715181864,-0.21903664564039171,-0.17686292610312548,-0.1555770687606014,-0.13406063062811857,-0.14423074304259909,-0.11105562671791624,-0.1056683945143918,-0.11448696111305168,-0.09643256490315888,-0.06532630754967494,-0.04723765869474916,-0.08745706690995014,-0.1163057136408997,-0.0739320751710395,-0.09413689432519035,-0.04654183412141,-0.01969113929200572,-0.01948422428571306,0.010773851215267749,0.030519127440473914,0.05299683696546342,0.05234910619500699,0.0790316673087017,0.07732508044244946,0.061621706931994424,0.05684689992486969,0.02560573411628342,-0.02052615943538849,0.04914628792696929,0.046600597715548586,0.05104449471119432,0.0929042192760614,0.1192918806347858,0.13448454623869632,0.13755996749735688,0.10022965610543322,0.12344227973262778,0.1381026023684988,0.156906379013664,0.1712747846836784,0.1615547123759964,0.1679660575973534,0.16670868483642698,0.20718570551513626,0.21792906760146225,0.24340214265953009,0.2626991846994664,0.2722058732448014,0.24962371895629887,0.2975962170250064,0.26995791913206824,0.30100037009359193,0.342098716998964,0.3619361771284557,0.3746273336731458,0.36425808259568493,0.4049008388881745,0.4045544559897212,0.4130128108339628,0.4365284224641752,0.4556861675991879,0.4404537953357912,0.48227953805083557,0.4566290734386078,0.4885834005307885,0.5152080649572994,0.5078121460843064,0.5063250391778791,0.54852359635242,0.5370267102958852,0.5447353721678319,0.553786659284174,0.5276696632455902,0.5522711784517524,0.49482230742099387,0.4694171951246622,0.5431254778742824,0.5461753725702527,0.518747679107977,0.4821909308563501,0.48552652688096987,0.5485434731870309,0.5611381610872035,0.577017903273902,0.587657891761102,0.6327831157093464,0.6324325899907755,0.6300654450683911,0.6072137209356612,0.6333950335334011,0.6464493919040708,0.6742161310224506,0.712821023467298,0.7081463854504111,0.7278696153974067,0.7420755099711229,0.7463616158970299,0.7722129708723882,0.7796514566999437,0.797278531689396,0.8232703596659019,0.8536859100425123,0.8614451679132289,0.9169796865108333,0.8628170814614589,0.8397574371995846,0.8400522447131111,0.8722506133076553,0.8723665091614474,0.9124773286332273,0.9532521724730776,0.9429278664863863,0.8526695304935099,0.8759627933233534,0.7767906489026475,0.8808350815848467,0.9145746764949279,0.9356130933228073,0.9826475714908429,0.9172536508280928,0.9990598190964093,1.017657349380889,1.011662126099182,1.0193259565038693,1.0495882730990544,1.0927026148150012,1.115243582257273,1.1387722823424906,1.0473170781996441,0.8602509442361841,1.03093651916554,1.1010787608079973,1.1292761768361377,1.2197063804713828,1.3045402842210274,1.2498919408304823,1.2241809659309824,1.3897931641953294,1.4480752146029396],\"marker\":{},\"line\":{},\"name\":\"60/40 Leveraged\"}];\r\n",
       "            var layout = {\"width\":600,\"height\":600,\"template\":{\"layout\":{\"title\":{\"x\":0.05},\"font\":{\"color\":\"rgba(42, 63, 95, 1.0)\"},\"paper_bgcolor\":\"rgba(255, 255, 255, 1.0)\",\"plot_bgcolor\":\"rgba(229, 236, 246, 1.0)\",\"autotypenumbers\":\"strict\",\"colorscale\":{\"diverging\":[[0.0,\"#8e0152\"],[0.1,\"#c51b7d\"],[0.2,\"#de77ae\"],[0.3,\"#f1b6da\"],[0.4,\"#fde0ef\"],[0.5,\"#f7f7f7\"],[0.6,\"#e6f5d0\"],[0.7,\"#b8e186\"],[0.8,\"#7fbc41\"],[0.9,\"#4d9221\"],[1.0,\"#276419\"]],\"sequential\":[[0.0,\"#0d0887\"],[0.1111111111111111,\"#46039f\"],[0.2222222222222222,\"#7201a8\"],[0.3333333333333333,\"#9c179e\"],[0.4444444444444444,\"#bd3786\"],[0.5555555555555556,\"#d8576b\"],[0.6666666666666666,\"#ed7953\"],[0.7777777777777778,\"#fb9f3a\"],[0.8888888888888888,\"#fdca26\"],[1.0,\"#f0f921\"]],\"sequentialminus\":[[0.0,\"#0d0887\"],[0.1111111111111111,\"#46039f\"],[0.2222222222222222,\"#7201a8\"],[0.3333333333333333,\"#9c179e\"],[0.4444444444444444,\"#bd3786\"],[0.5555555555555556,\"#d8576b\"],[0.6666666666666666,\"#ed7953\"],[0.7777777777777778,\"#fb9f3a\"],[0.8888888888888888,\"#fdca26\"],[1.0,\"#f0f921\"]]},\"hovermode\":\"closest\",\"hoverlabel\":{\"align\":\"left\"},\"coloraxis\":{\"colorbar\":{\"outlinewidth\":0.0,\"ticks\":\"\"}},\"geo\":{\"showland\":true,\"landcolor\":\"rgba(229, 236, 246, 1.0)\",\"showlakes\":true,\"lakecolor\":\"rgba(255, 255, 255, 1.0)\",\"subunitcolor\":\"rgba(255, 255, 255, 1.0)\",\"bgcolor\":\"rgba(255, 255, 255, 1.0)\"},\"mapbox\":{\"style\":\"light\"},\"polar\":{\"bgcolor\":\"rgba(229, 236, 246, 1.0)\",\"radialaxis\":{\"linecolor\":\"rgba(255, 255, 255, 1.0)\",\"gridcolor\":\"rgba(255, 255, 255, 1.0)\",\"ticks\":\"\"},\"angularaxis\":{\"linecolor\":\"rgba(255, 255, 255, 1.0)\",\"gridcolor\":\"rgba(255, 255, 255, 1.0)\",\"ticks\":\"\"}},\"scene\":{\"xaxis\":{\"ticks\":\"\",\"linecolor\":\"rgba(255, 255, 255, 1.0)\",\"gridcolor\":\"rgba(255, 255, 255, 1.0)\",\"gridwidth\":2.0,\"zerolinecolor\":\"rgba(255, 255, 255, 1.0)\",\"backgroundcolor\":\"rgba(229, 236, 246, 1.0)\",\"showbackground\":true},\"yaxis\":{\"ticks\":\"\",\"linecolor\":\"rgba(255, 255, 255, 1.0)\",\"gridcolor\":\"rgba(255, 255, 255, 1.0)\",\"gridwidth\":2.0,\"zerolinecolor\":\"rgba(255, 255, 255, 1.0)\",\"backgroundcolor\":\"rgba(229, 236, 246, 1.0)\",\"showbackground\":true},\"zaxis\":{\"ticks\":\"\",\"linecolor\":\"rgba(255, 255, 255, 1.0)\",\"gridcolor\":\"rgba(255, 255, 255, 1.0)\",\"gridwidth\":2.0,\"zerolinecolor\":\"rgba(255, 255, 255, 1.0)\",\"backgroundcolor\":\"rgba(229, 236, 246, 1.0)\",\"showbackground\":true}},\"ternary\":{\"aaxis\":{\"ticks\":\"\",\"linecolor\":\"rgba(255, 255, 255, 1.0)\",\"gridcolor\":\"rgba(255, 255, 255, 1.0)\"},\"baxis\":{\"ticks\":\"\",\"linecolor\":\"rgba(255, 255, 255, 1.0)\",\"gridcolor\":\"rgba(255, 255, 255, 1.0)\"},\"caxis\":{\"ticks\":\"\",\"linecolor\":\"rgba(255, 255, 255, 1.0)\",\"gridcolor\":\"rgba(255, 255, 255, 1.0)\"},\"bgcolor\":\"rgba(229, 236, 246, 1.0)\"},\"xaxis\":{\"title\":{\"standoff\":15},\"ticks\":\"\",\"automargin\":true,\"linecolor\":\"rgba(255, 255, 255, 1.0)\",\"gridcolor\":\"rgba(255, 255, 255, 1.0)\",\"zerolinecolor\":\"rgba(255, 255, 255, 1.0)\",\"zerolinewidth\":2.0},\"yaxis\":{\"title\":{\"standoff\":15},\"ticks\":\"\",\"automargin\":true,\"linecolor\":\"rgba(255, 255, 255, 1.0)\",\"gridcolor\":\"rgba(255, 255, 255, 1.0)\",\"zerolinecolor\":\"rgba(255, 255, 255, 1.0)\",\"zerolinewidth\":2.0},\"annotationdefaults\":{\"arrowcolor\":\"#2a3f5f\",\"arrowhead\":0,\"arrowwidth\":1},\"shapedefaults\":{\"line\":{\"color\":\"rgba(42, 63, 95, 1.0)\"}},\"colorway\":[\"rgba(99, 110, 250, 1.0)\",\"rgba(239, 85, 59, 1.0)\",\"rgba(0, 204, 150, 1.0)\",\"rgba(171, 99, 250, 1.0)\",\"rgba(255, 161, 90, 1.0)\",\"rgba(25, 211, 243, 1.0)\",\"rgba(255, 102, 146, 1.0)\",\"rgba(182, 232, 128, 1.0)\",\"rgba(255, 151, 255, 1.0)\",\"rgba(254, 203, 82, 1.0)\"]},\"data\":{\"bar\":[{\"marker\":{\"line\":{\"color\":\"rgba(229, 236, 246, 1.0)\",\"width\":0.5},\"pattern\":{\"fillmode\":\"overlay\",\"size\":10,\"solidity\":0.2}},\"error_x\":{\"color\":\"rgba(42, 63, 95, 1.0)\"},\"error_y\":{\"color\":\"rgba(42, 63, 95, 1.0)\"}}],\"barpolar\":[{\"marker\":{\"line\":{\"color\":\"rgba(229, 236, 246, 1.0)\",\"width\":0.5},\"pattern\":{\"fillmode\":\"overlay\",\"size\":10,\"solidity\":0.2}}}],\"carpet\":[{\"aaxis\":{\"linecolor\":\"rgba(255, 255, 255, 1.0)\",\"gridcolor\":\"rgba(255, 255, 255, 1.0)\",\"endlinecolor\":\"rgba(42, 63, 95, 1.0)\",\"minorgridcolor\":\"rgba(255, 255, 255, 1.0)\",\"startlinecolor\":\"rgba(42, 63, 95, 1.0)\"},\"baxis\":{\"linecolor\":\"rgba(255, 255, 255, 1.0)\",\"gridcolor\":\"rgba(255, 255, 255, 1.0)\",\"endlinecolor\":\"rgba(42, 63, 95, 1.0)\",\"minorgridcolor\":\"rgba(255, 255, 255, 1.0)\",\"startlinecolor\":\"rgba(42, 63, 95, 1.0)\"}}],\"choropleth\":[{\"colorbar\":{\"outlinewidth\":0.0,\"ticks\":\"\"},\"colorscale\":[[0.0,\"#0d0887\"],[0.1111111111111111,\"#46039f\"],[0.2222222222222222,\"#7201a8\"],[0.3333333333333333,\"#9c179e\"],[0.4444444444444444,\"#bd3786\"],[0.5555555555555556,\"#d8576b\"],[0.6666666666666666,\"#ed7953\"],[0.7777777777777778,\"#fb9f3a\"],[0.8888888888888888,\"#fdca26\"],[1.0,\"#f0f921\"]]}],\"contour\":[{\"colorbar\":{\"outlinewidth\":0.0,\"ticks\":\"\"},\"colorscale\":[[0.0,\"#0d0887\"],[0.1111111111111111,\"#46039f\"],[0.2222222222222222,\"#7201a8\"],[0.3333333333333333,\"#9c179e\"],[0.4444444444444444,\"#bd3786\"],[0.5555555555555556,\"#d8576b\"],[0.6666666666666666,\"#ed7953\"],[0.7777777777777778,\"#fb9f3a\"],[0.8888888888888888,\"#fdca26\"],[1.0,\"#f0f921\"]]}],\"contourcarpet\":[{\"colorbar\":{\"outlinewidth\":0.0,\"ticks\":\"\"}}],\"heatmap\":[{\"colorbar\":{\"outlinewidth\":0.0,\"ticks\":\"\"},\"colorscale\":[[0.0,\"#0d0887\"],[0.1111111111111111,\"#46039f\"],[0.2222222222222222,\"#7201a8\"],[0.3333333333333333,\"#9c179e\"],[0.4444444444444444,\"#bd3786\"],[0.5555555555555556,\"#d8576b\"],[0.6666666666666666,\"#ed7953\"],[0.7777777777777778,\"#fb9f3a\"],[0.8888888888888888,\"#fdca26\"],[1.0,\"#f0f921\"]]}],\"heatmapgl\":[{\"colorbar\":{\"outlinewidth\":0.0,\"ticks\":\"\"},\"colorscale\":[[0.0,\"#0d0887\"],[0.1111111111111111,\"#46039f\"],[0.2222222222222222,\"#7201a8\"],[0.3333333333333333,\"#9c179e\"],[0.4444444444444444,\"#bd3786\"],[0.5555555555555556,\"#d8576b\"],[0.6666666666666666,\"#ed7953\"],[0.7777777777777778,\"#fb9f3a\"],[0.8888888888888888,\"#fdca26\"],[1.0,\"#f0f921\"]]}],\"histogram\":[{\"marker\":{\"pattern\":{\"fillmode\":\"overlay\",\"size\":10,\"solidity\":0.2}}}],\"histogram2d\":[{\"colorbar\":{\"outlinewidth\":0.0,\"ticks\":\"\"},\"colorscale\":[[0.0,\"#0d0887\"],[0.1111111111111111,\"#46039f\"],[0.2222222222222222,\"#7201a8\"],[0.3333333333333333,\"#9c179e\"],[0.4444444444444444,\"#bd3786\"],[0.5555555555555556,\"#d8576b\"],[0.6666666666666666,\"#ed7953\"],[0.7777777777777778,\"#fb9f3a\"],[0.8888888888888888,\"#fdca26\"],[1.0,\"#f0f921\"]]}],\"histogram2dcontour\":[{\"colorbar\":{\"outlinewidth\":0.0,\"ticks\":\"\"},\"colorscale\":[[0.0,\"#0d0887\"],[0.1111111111111111,\"#46039f\"],[0.2222222222222222,\"#7201a8\"],[0.3333333333333333,\"#9c179e\"],[0.4444444444444444,\"#bd3786\"],[0.5555555555555556,\"#d8576b\"],[0.6666666666666666,\"#ed7953\"],[0.7777777777777778,\"#fb9f3a\"],[0.8888888888888888,\"#fdca26\"],[1.0,\"#f0f921\"]]}],\"mesh3d\":[{\"colorbar\":{\"outlinewidth\":0.0,\"ticks\":\"\"}}],\"parcoords\":[{\"line\":{\"colorbar\":{\"outlinewidth\":0.0,\"ticks\":\"\"}}}],\"pie\":[{\"automargin\":true}],\"scatter\":[{\"marker\":{\"colorbar\":{\"outlinewidth\":0.0,\"ticks\":\"\"}}}],\"scatter3d\":[{\"marker\":{\"colorbar\":{\"outlinewidth\":0.0,\"ticks\":\"\"}},\"line\":{\"colorbar\":{\"outlinewidth\":0.0,\"ticks\":\"\"}}}],\"scattercarpet\":[{\"marker\":{\"colorbar\":{\"outlinewidth\":0.0,\"ticks\":\"\"}}}],\"scattergeo\":[{\"marker\":{\"colorbar\":{\"outlinewidth\":0.0,\"ticks\":\"\"}}}],\"scattergl\":[{\"marker\":{\"colorbar\":{\"outlinewidth\":0.0,\"ticks\":\"\"}}}],\"scattermapbox\":[{\"marker\":{\"colorbar\":{\"outlinewidth\":0.0,\"ticks\":\"\"}}}],\"scatterpolar\":[{\"marker\":{\"colorbar\":{\"outlinewidth\":0.0,\"ticks\":\"\"}}}],\"scatterpolargl\":[{\"marker\":{\"colorbar\":{\"outlinewidth\":0.0,\"ticks\":\"\"}}}],\"scatterternary\":[{\"marker\":{\"colorbar\":{\"outlinewidth\":0.0,\"ticks\":\"\"}}}],\"surface\":[{\"colorbar\":{\"outlinewidth\":0.0,\"ticks\":\"\"},\"colorscale\":[[0.0,\"#0d0887\"],[0.1111111111111111,\"#46039f\"],[0.2222222222222222,\"#7201a8\"],[0.3333333333333333,\"#9c179e\"],[0.4444444444444444,\"#bd3786\"],[0.5555555555555556,\"#d8576b\"],[0.6666666666666666,\"#ed7953\"],[0.7777777777777778,\"#fb9f3a\"],[0.8888888888888888,\"#fdca26\"],[1.0,\"#f0f921\"]]}],\"table\":[{\"cells\":{\"fill\":{\"color\":\"rgba(235, 240, 248, 1.0)\"},\"line\":{\"color\":\"rgba(255, 255, 255, 1.0)\"}},\"header\":{\"fill\":{\"color\":\"rgba(200, 212, 227, 1.0)\"},\"line\":{\"color\":\"rgba(255, 255, 255, 1.0)\"}}}]}},\"legend\":{\"orientation\":\"h\"},\"title\":{\"text\":\"MVE & 60/40 Portfolios Leveraged\"}};\r\n",
       "            var config = {\"responsive\":true};\r\n",
       "            Plotly.newPlot('eb37dab8-64c3-42c3-8277-f933cde323d9', data, layout, config);\r\n",
       "});\r\n",
       "            };\r\n",
       "            if ((typeof(requirejs) !==  typeof(Function)) || (typeof(requirejs.config) !== typeof(Function))) {\r\n",
       "                var script = document.createElement(\"script\");\r\n",
       "                script.setAttribute(\"src\", \"https://cdnjs.cloudflare.com/ajax/libs/require.js/2.3.6/require.min.js\");\r\n",
       "                script.onload = function(){\r\n",
       "                    renderPlotly_eb37dab864c342c38277f933cde323d9();\r\n",
       "                };\r\n",
       "                document.getElementsByTagName(\"head\")[0].appendChild(script);\r\n",
       "            }\r\n",
       "            else {\r\n",
       "                renderPlotly_eb37dab864c342c38277f933cde323d9();\r\n",
       "            }\r\n",
       "</script>\r\n",
       "\r\n",
       "    \r\n",
       "</div    \r\n"
      ]
     },
     "metadata": {},
     "output_type": "display_data"
    }
   ],
   "source": [
    "combinedMveChart_LEV"
   ]
  }
 ],
 "metadata": {
  "kernelspec": {
   "display_name": ".NET (C#)",
   "language": "C#",
   "name": ".net-csharp"
  },
  "language_info": {
   "file_extension": ".cs",
   "mimetype": "text/x-csharp",
   "name": "C#",
   "pygments_lexer": "csharp",
   "version": "9.0"
  },
  "orig_nbformat": 4
 },
 "nbformat": 4,
 "nbformat_minor": 2
}
